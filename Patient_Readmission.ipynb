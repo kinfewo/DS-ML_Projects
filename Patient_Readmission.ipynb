{
 "cells": [
  {
   "cell_type": "markdown",
   "metadata": {},
   "source": [
    "**import libararies**"
   ]
  },
  {
   "cell_type": "code",
   "execution_count": 1,
   "metadata": {
    "id": "nR1EWl_4SYu1"
   },
   "outputs": [],
   "source": [
    "#import libararies\n",
    "# Pandas for DataFrames\n",
    "import pandas as pd\n",
    "import seaborn as sns\n",
    "import numpy as np\n",
    "from numpy import mean\n",
    "import matplotlib.pyplot as plt\n",
    "%matplotlib inline\n",
    "\n",
    "from sklearn.compose import make_column_transformer\n",
    "from sklearn.preprocessing import StandardScaler,OneHotEncoder,MinMaxScaler\n",
    "from sklearn.pipeline import make_pipeline\n",
    "\n",
    "from sklearn.model_selection import GridSearchCV,RandomizedSearchCV\n",
    "from sklearn.model_selection import train_test_split,cross_val_score\n",
    "from sklearn.metrics import accuracy_score,confusion_matrix,classification_report,roc_auc_score"
   ]
  },
  {
   "cell_type": "markdown",
   "metadata": {},
   "source": [
    "**Dataset**"
   ]
  },
  {
   "cell_type": "code",
   "execution_count": 2,
   "metadata": {
    "id": "KOm4DWhcSp8n"
   },
   "outputs": [],
   "source": [
    "#import excel file\n",
    "df = pd.read_excel('Patient_Readm_Rate.xlsx')"
   ]
  },
  {
   "cell_type": "code",
   "execution_count": 3,
   "metadata": {
    "id": "JMGxmU_P0ThQ"
   },
   "outputs": [],
   "source": [
    "# Building interactive Dataframe in Google\n",
    "#%load_ext google.colab.data_table\n",
    "#%unload_ext google.colab.data_table"
   ]
  },
  {
   "cell_type": "code",
   "execution_count": 4,
   "metadata": {
    "id": "lu9dB1P60naf"
   },
   "outputs": [],
   "source": [
    "# Displaying the data\n",
    "#df"
   ]
  },
  {
   "cell_type": "code",
   "execution_count": 5,
   "metadata": {
    "id": "RICJSEaw1npk"
   },
   "outputs": [
    {
     "data": {
      "text/html": [
       "<div>\n",
       "<style scoped>\n",
       "    .dataframe tbody tr th:only-of-type {\n",
       "        vertical-align: middle;\n",
       "    }\n",
       "\n",
       "    .dataframe tbody tr th {\n",
       "        vertical-align: top;\n",
       "    }\n",
       "\n",
       "    .dataframe thead th {\n",
       "        text-align: right;\n",
       "    }\n",
       "</style>\n",
       "<table border=\"1\" class=\"dataframe\">\n",
       "  <thead>\n",
       "    <tr style=\"text-align: right;\">\n",
       "      <th></th>\n",
       "      <th>patient_key_code_number</th>\n",
       "      <th>weekday</th>\n",
       "      <th>month</th>\n",
       "      <th>depression</th>\n",
       "      <th>sex</th>\n",
       "      <th>ethnic_group_c</th>\n",
       "      <th>marital_status_c</th>\n",
       "      <th>insurance_provider</th>\n",
       "      <th>icu_yn</th>\n",
       "      <th>tobacco_user</th>\n",
       "      <th>...</th>\n",
       "      <th>vent</th>\n",
       "      <th>los</th>\n",
       "      <th>LACE_Score</th>\n",
       "      <th>readmit30</th>\n",
       "      <th>APRDRG</th>\n",
       "      <th>Condition</th>\n",
       "      <th>care_plan_following_discharge</th>\n",
       "      <th>cost_of_initial_stay</th>\n",
       "      <th>care_plan_costs</th>\n",
       "      <th>cost_of_readmission</th>\n",
       "    </tr>\n",
       "  </thead>\n",
       "  <tbody>\n",
       "    <tr>\n",
       "      <th>0</th>\n",
       "      <td>1</td>\n",
       "      <td>Tuesday</td>\n",
       "      <td>December</td>\n",
       "      <td>0</td>\n",
       "      <td>M</td>\n",
       "      <td>not_hispanic</td>\n",
       "      <td>married</td>\n",
       "      <td>medicare</td>\n",
       "      <td>0</td>\n",
       "      <td>Never</td>\n",
       "      <td>...</td>\n",
       "      <td>0</td>\n",
       "      <td>9.973955</td>\n",
       "      <td>11.0</td>\n",
       "      <td>0</td>\n",
       "      <td>139</td>\n",
       "      <td>Pneumonia</td>\n",
       "      <td>Expired</td>\n",
       "      <td>43986.686805</td>\n",
       "      <td>0</td>\n",
       "      <td>0.000000</td>\n",
       "    </tr>\n",
       "    <tr>\n",
       "      <th>1</th>\n",
       "      <td>2</td>\n",
       "      <td>Saturday</td>\n",
       "      <td>December</td>\n",
       "      <td>1</td>\n",
       "      <td>F</td>\n",
       "      <td>not_hispanic</td>\n",
       "      <td>married</td>\n",
       "      <td>medicare</td>\n",
       "      <td>0</td>\n",
       "      <td>Quit</td>\n",
       "      <td>...</td>\n",
       "      <td>0</td>\n",
       "      <td>3.000000</td>\n",
       "      <td>3.0</td>\n",
       "      <td>0</td>\n",
       "      <td>139</td>\n",
       "      <td>Pneumonia</td>\n",
       "      <td>Telehealth</td>\n",
       "      <td>4476.003655</td>\n",
       "      <td>172</td>\n",
       "      <td>0.000000</td>\n",
       "    </tr>\n",
       "    <tr>\n",
       "      <th>2</th>\n",
       "      <td>3</td>\n",
       "      <td>Tuesday</td>\n",
       "      <td>December</td>\n",
       "      <td>0</td>\n",
       "      <td>F</td>\n",
       "      <td>not_hispanic</td>\n",
       "      <td>married</td>\n",
       "      <td>medicare</td>\n",
       "      <td>1</td>\n",
       "      <td>Yes</td>\n",
       "      <td>...</td>\n",
       "      <td>14</td>\n",
       "      <td>6.000000</td>\n",
       "      <td>7.0</td>\n",
       "      <td>1</td>\n",
       "      <td>139</td>\n",
       "      <td>Pneumonia</td>\n",
       "      <td>Skilled Nursing Facility</td>\n",
       "      <td>21636.809973</td>\n",
       "      <td>7047</td>\n",
       "      <td>3977.170898</td>\n",
       "    </tr>\n",
       "    <tr>\n",
       "      <th>3</th>\n",
       "      <td>4</td>\n",
       "      <td>Friday</td>\n",
       "      <td>December</td>\n",
       "      <td>1</td>\n",
       "      <td>M</td>\n",
       "      <td>not_hispanic</td>\n",
       "      <td>married</td>\n",
       "      <td>medicare</td>\n",
       "      <td>0</td>\n",
       "      <td>Quit</td>\n",
       "      <td>...</td>\n",
       "      <td>0</td>\n",
       "      <td>6.000000</td>\n",
       "      <td>5.0</td>\n",
       "      <td>0</td>\n",
       "      <td>139</td>\n",
       "      <td>Pneumonia</td>\n",
       "      <td>Telehealth</td>\n",
       "      <td>6155.552532</td>\n",
       "      <td>240</td>\n",
       "      <td>0.000000</td>\n",
       "    </tr>\n",
       "    <tr>\n",
       "      <th>4</th>\n",
       "      <td>6</td>\n",
       "      <td>Sunday</td>\n",
       "      <td>December</td>\n",
       "      <td>0</td>\n",
       "      <td>M</td>\n",
       "      <td>not_hispanic</td>\n",
       "      <td>married</td>\n",
       "      <td>medicare</td>\n",
       "      <td>0</td>\n",
       "      <td>Never</td>\n",
       "      <td>...</td>\n",
       "      <td>0</td>\n",
       "      <td>5.000000</td>\n",
       "      <td>7.0</td>\n",
       "      <td>0</td>\n",
       "      <td>194</td>\n",
       "      <td>Heart_Failure</td>\n",
       "      <td>Telehealth</td>\n",
       "      <td>7954.732450</td>\n",
       "      <td>177</td>\n",
       "      <td>0.000000</td>\n",
       "    </tr>\n",
       "  </tbody>\n",
       "</table>\n",
       "<p>5 rows × 64 columns</p>\n",
       "</div>"
      ],
      "text/plain": [
       "   patient_key_code_number   weekday     month  depression sex ethnic_group_c  \\\n",
       "0                        1   Tuesday  December           0   M   not_hispanic   \n",
       "1                        2  Saturday  December           1   F   not_hispanic   \n",
       "2                        3   Tuesday  December           0   F   not_hispanic   \n",
       "3                        4    Friday  December           1   M   not_hispanic   \n",
       "4                        6    Sunday  December           0   M   not_hispanic   \n",
       "\n",
       "  marital_status_c insurance_provider  icu_yn tobacco_user  ...  vent  \\\n",
       "0          married           medicare       0        Never  ...     0   \n",
       "1          married           medicare       0         Quit  ...     0   \n",
       "2          married           medicare       1          Yes  ...    14   \n",
       "3          married           medicare       0         Quit  ...     0   \n",
       "4          married           medicare       0        Never  ...     0   \n",
       "\n",
       "        los  LACE_Score  readmit30  APRDRG      Condition  \\\n",
       "0  9.973955        11.0          0     139      Pneumonia   \n",
       "1  3.000000         3.0          0     139      Pneumonia   \n",
       "2  6.000000         7.0          1     139      Pneumonia   \n",
       "3  6.000000         5.0          0     139      Pneumonia   \n",
       "4  5.000000         7.0          0     194  Heart_Failure   \n",
       "\n",
       "   care_plan_following_discharge  cost_of_initial_stay  care_plan_costs  \\\n",
       "0                        Expired          43986.686805                0   \n",
       "1                     Telehealth           4476.003655              172   \n",
       "2       Skilled Nursing Facility          21636.809973             7047   \n",
       "3                     Telehealth           6155.552532              240   \n",
       "4                     Telehealth           7954.732450              177   \n",
       "\n",
       "   cost_of_readmission  \n",
       "0             0.000000  \n",
       "1             0.000000  \n",
       "2          3977.170898  \n",
       "3             0.000000  \n",
       "4             0.000000  \n",
       "\n",
       "[5 rows x 64 columns]"
      ]
     },
     "execution_count": 5,
     "metadata": {},
     "output_type": "execute_result"
    }
   ],
   "source": [
    "# Displaying the first 5 rows of the DataFrame\n",
    "df.head(5)"
   ]
  },
  {
   "cell_type": "code",
   "execution_count": 6,
   "metadata": {
    "colab": {
     "base_uri": "https://localhost:8080/"
    },
    "id": "SophTZm46eL6",
    "outputId": "e1a3722e-6702-4086-db01-92401fcd5ccd",
    "scrolled": true
   },
   "outputs": [
    {
     "data": {
      "text/plain": [
       "(12980, 64)"
      ]
     },
     "execution_count": 6,
     "metadata": {},
     "output_type": "execute_result"
    }
   ],
   "source": [
    "#display shape\n",
    "pd.options.display.max_columns = 80\n",
    "df.shape"
   ]
  },
  {
   "cell_type": "code",
   "execution_count": 7,
   "metadata": {
    "id": "4y752ReW2Acz"
   },
   "outputs": [
    {
     "data": {
      "text/html": [
       "<div>\n",
       "<style scoped>\n",
       "    .dataframe tbody tr th:only-of-type {\n",
       "        vertical-align: middle;\n",
       "    }\n",
       "\n",
       "    .dataframe tbody tr th {\n",
       "        vertical-align: top;\n",
       "    }\n",
       "\n",
       "    .dataframe thead th {\n",
       "        text-align: right;\n",
       "    }\n",
       "</style>\n",
       "<table border=\"1\" class=\"dataframe\">\n",
       "  <thead>\n",
       "    <tr style=\"text-align: right;\">\n",
       "      <th></th>\n",
       "      <th>patient_key_code_number</th>\n",
       "      <th>weekday</th>\n",
       "      <th>month</th>\n",
       "      <th>depression</th>\n",
       "      <th>sex</th>\n",
       "      <th>ethnic_group_c</th>\n",
       "      <th>marital_status_c</th>\n",
       "      <th>insurance_provider</th>\n",
       "      <th>icu_yn</th>\n",
       "      <th>tobacco_user</th>\n",
       "      <th>drugabuse</th>\n",
       "      <th>mooddisorder</th>\n",
       "      <th>diabetes</th>\n",
       "      <th>anxiety</th>\n",
       "      <th>obesity</th>\n",
       "      <th>dementia</th>\n",
       "      <th>persmentaldis</th>\n",
       "      <th>age</th>\n",
       "      <th>bmi</th>\n",
       "      <th>bp_diastolic</th>\n",
       "      <th>bp_systolic</th>\n",
       "      <th>weight</th>\n",
       "      <th>height</th>\n",
       "      <th>pulse</th>\n",
       "      <th>temperature</th>\n",
       "      <th>respirations</th>\n",
       "      <th>pat_pain_score_c</th>\n",
       "      <th>ed_visits</th>\n",
       "      <th>ip_visits</th>\n",
       "      <th>chronic_conditions</th>\n",
       "      <th>meds_cardio_agents</th>\n",
       "      <th>meds_nutrition</th>\n",
       "      <th>meds_central_nervous_system</th>\n",
       "      <th>meds_hematologial</th>\n",
       "      <th>meds_neuromuscular</th>\n",
       "      <th>meds_gastro</th>\n",
       "      <th>meds_infective</th>\n",
       "      <th>meds_neoplastic</th>\n",
       "      <th>meds_anesthetics</th>\n",
       "      <th>meds_endocrine</th>\n",
       "      <th>meds_respiratory</th>\n",
       "      <th>meds_topical</th>\n",
       "      <th>meds_biological</th>\n",
       "      <th>meds_misc</th>\n",
       "      <th>meds_genitourinary</th>\n",
       "      <th>calcium</th>\n",
       "      <th>creatinine</th>\n",
       "      <th>glucose</th>\n",
       "      <th>wbc</th>\n",
       "      <th>potassium</th>\n",
       "      <th>sodium</th>\n",
       "      <th>artbloodgas</th>\n",
       "      <th>hemoglobin</th>\n",
       "      <th>chest_tube</th>\n",
       "      <th>vent</th>\n",
       "      <th>los</th>\n",
       "      <th>LACE_Score</th>\n",
       "      <th>readmit30</th>\n",
       "      <th>APRDRG</th>\n",
       "      <th>Condition</th>\n",
       "      <th>care_plan_following_discharge</th>\n",
       "      <th>cost_of_initial_stay</th>\n",
       "      <th>care_plan_costs</th>\n",
       "      <th>cost_of_readmission</th>\n",
       "    </tr>\n",
       "  </thead>\n",
       "  <tbody>\n",
       "    <tr>\n",
       "      <th>12975</th>\n",
       "      <td>15815</td>\n",
       "      <td>Saturday</td>\n",
       "      <td>December</td>\n",
       "      <td>0</td>\n",
       "      <td>F</td>\n",
       "      <td>not_hispanic</td>\n",
       "      <td>single</td>\n",
       "      <td>medicare</td>\n",
       "      <td>0</td>\n",
       "      <td>Yes</td>\n",
       "      <td>0</td>\n",
       "      <td>0</td>\n",
       "      <td>0</td>\n",
       "      <td>0</td>\n",
       "      <td>0</td>\n",
       "      <td>0</td>\n",
       "      <td>0</td>\n",
       "      <td>72.046543</td>\n",
       "      <td>21.49</td>\n",
       "      <td>93</td>\n",
       "      <td>164</td>\n",
       "      <td>121</td>\n",
       "      <td>63</td>\n",
       "      <td>64</td>\n",
       "      <td>98</td>\n",
       "      <td>20</td>\n",
       "      <td>5</td>\n",
       "      <td>1</td>\n",
       "      <td>0</td>\n",
       "      <td>7</td>\n",
       "      <td>5</td>\n",
       "      <td>0</td>\n",
       "      <td>3</td>\n",
       "      <td>2</td>\n",
       "      <td>0</td>\n",
       "      <td>1</td>\n",
       "      <td>5</td>\n",
       "      <td>0</td>\n",
       "      <td>4</td>\n",
       "      <td>16</td>\n",
       "      <td>6</td>\n",
       "      <td>0</td>\n",
       "      <td>0</td>\n",
       "      <td>0</td>\n",
       "      <td>0</td>\n",
       "      <td>8.6</td>\n",
       "      <td>0.76</td>\n",
       "      <td>106.0</td>\n",
       "      <td>4.300000</td>\n",
       "      <td>4.4</td>\n",
       "      <td>143.0</td>\n",
       "      <td>1</td>\n",
       "      <td>12.9</td>\n",
       "      <td>0</td>\n",
       "      <td>0</td>\n",
       "      <td>4.0</td>\n",
       "      <td>10.0</td>\n",
       "      <td>0</td>\n",
       "      <td>139</td>\n",
       "      <td>Pneumonia</td>\n",
       "      <td>Home Health</td>\n",
       "      <td>6903.667616</td>\n",
       "      <td>2375</td>\n",
       "      <td>0.0</td>\n",
       "    </tr>\n",
       "    <tr>\n",
       "      <th>12976</th>\n",
       "      <td>15816</td>\n",
       "      <td>Sunday</td>\n",
       "      <td>November</td>\n",
       "      <td>0</td>\n",
       "      <td>F</td>\n",
       "      <td>not_hispanic</td>\n",
       "      <td>single</td>\n",
       "      <td>medicare</td>\n",
       "      <td>0</td>\n",
       "      <td>Yes</td>\n",
       "      <td>0</td>\n",
       "      <td>0</td>\n",
       "      <td>0</td>\n",
       "      <td>0</td>\n",
       "      <td>0</td>\n",
       "      <td>0</td>\n",
       "      <td>0</td>\n",
       "      <td>71.121149</td>\n",
       "      <td>40.93</td>\n",
       "      <td>63</td>\n",
       "      <td>147</td>\n",
       "      <td>216</td>\n",
       "      <td>61</td>\n",
       "      <td>83</td>\n",
       "      <td>97</td>\n",
       "      <td>16</td>\n",
       "      <td>0</td>\n",
       "      <td>0</td>\n",
       "      <td>0</td>\n",
       "      <td>6</td>\n",
       "      <td>2</td>\n",
       "      <td>0</td>\n",
       "      <td>0</td>\n",
       "      <td>1</td>\n",
       "      <td>0</td>\n",
       "      <td>4</td>\n",
       "      <td>4</td>\n",
       "      <td>0</td>\n",
       "      <td>5</td>\n",
       "      <td>15</td>\n",
       "      <td>6</td>\n",
       "      <td>0</td>\n",
       "      <td>0</td>\n",
       "      <td>0</td>\n",
       "      <td>0</td>\n",
       "      <td>8.8</td>\n",
       "      <td>1.00</td>\n",
       "      <td>225.0</td>\n",
       "      <td>7.500000</td>\n",
       "      <td>4.9</td>\n",
       "      <td>139.0</td>\n",
       "      <td>0</td>\n",
       "      <td>14.8</td>\n",
       "      <td>0</td>\n",
       "      <td>0</td>\n",
       "      <td>5.0</td>\n",
       "      <td>9.0</td>\n",
       "      <td>0</td>\n",
       "      <td>139</td>\n",
       "      <td>Pneumonia</td>\n",
       "      <td>Home Health</td>\n",
       "      <td>6094.383078</td>\n",
       "      <td>2108</td>\n",
       "      <td>0.0</td>\n",
       "    </tr>\n",
       "    <tr>\n",
       "      <th>12977</th>\n",
       "      <td>15818</td>\n",
       "      <td>Monday</td>\n",
       "      <td>November</td>\n",
       "      <td>0</td>\n",
       "      <td>F</td>\n",
       "      <td>not_hispanic</td>\n",
       "      <td>single</td>\n",
       "      <td>medicare</td>\n",
       "      <td>0</td>\n",
       "      <td>Never</td>\n",
       "      <td>0</td>\n",
       "      <td>0</td>\n",
       "      <td>0</td>\n",
       "      <td>1</td>\n",
       "      <td>1</td>\n",
       "      <td>0</td>\n",
       "      <td>0</td>\n",
       "      <td>59.137577</td>\n",
       "      <td>53.09</td>\n",
       "      <td>74</td>\n",
       "      <td>128</td>\n",
       "      <td>300</td>\n",
       "      <td>63</td>\n",
       "      <td>71</td>\n",
       "      <td>97</td>\n",
       "      <td>18</td>\n",
       "      <td>8</td>\n",
       "      <td>1</td>\n",
       "      <td>0</td>\n",
       "      <td>4</td>\n",
       "      <td>2</td>\n",
       "      <td>6</td>\n",
       "      <td>0</td>\n",
       "      <td>2</td>\n",
       "      <td>0</td>\n",
       "      <td>7</td>\n",
       "      <td>7</td>\n",
       "      <td>0</td>\n",
       "      <td>3</td>\n",
       "      <td>8</td>\n",
       "      <td>9</td>\n",
       "      <td>3</td>\n",
       "      <td>0</td>\n",
       "      <td>2</td>\n",
       "      <td>0</td>\n",
       "      <td>9.1</td>\n",
       "      <td>0.64</td>\n",
       "      <td>95.0</td>\n",
       "      <td>8.200000</td>\n",
       "      <td>4.2</td>\n",
       "      <td>140.0</td>\n",
       "      <td>1</td>\n",
       "      <td>13.9</td>\n",
       "      <td>0</td>\n",
       "      <td>0</td>\n",
       "      <td>5.0</td>\n",
       "      <td>9.0</td>\n",
       "      <td>0</td>\n",
       "      <td>139</td>\n",
       "      <td>Pneumonia</td>\n",
       "      <td>Discharged to Home</td>\n",
       "      <td>9140.320880</td>\n",
       "      <td>0</td>\n",
       "      <td>0.0</td>\n",
       "    </tr>\n",
       "    <tr>\n",
       "      <th>12978</th>\n",
       "      <td>15819</td>\n",
       "      <td>Saturday</td>\n",
       "      <td>November</td>\n",
       "      <td>0</td>\n",
       "      <td>F</td>\n",
       "      <td>not_hispanic</td>\n",
       "      <td>single</td>\n",
       "      <td>medicare</td>\n",
       "      <td>0</td>\n",
       "      <td>Never</td>\n",
       "      <td>0</td>\n",
       "      <td>0</td>\n",
       "      <td>0</td>\n",
       "      <td>0</td>\n",
       "      <td>0</td>\n",
       "      <td>0</td>\n",
       "      <td>0</td>\n",
       "      <td>81.399041</td>\n",
       "      <td>25.13</td>\n",
       "      <td>72</td>\n",
       "      <td>101</td>\n",
       "      <td>133</td>\n",
       "      <td>61</td>\n",
       "      <td>97</td>\n",
       "      <td>98</td>\n",
       "      <td>20</td>\n",
       "      <td>0</td>\n",
       "      <td>1</td>\n",
       "      <td>0</td>\n",
       "      <td>1</td>\n",
       "      <td>5</td>\n",
       "      <td>3</td>\n",
       "      <td>3</td>\n",
       "      <td>1</td>\n",
       "      <td>0</td>\n",
       "      <td>3</td>\n",
       "      <td>5</td>\n",
       "      <td>0</td>\n",
       "      <td>1</td>\n",
       "      <td>5</td>\n",
       "      <td>6</td>\n",
       "      <td>0</td>\n",
       "      <td>0</td>\n",
       "      <td>0</td>\n",
       "      <td>0</td>\n",
       "      <td>9.4</td>\n",
       "      <td>1.42</td>\n",
       "      <td>95.0</td>\n",
       "      <td>16.870000</td>\n",
       "      <td>4.0</td>\n",
       "      <td>146.0</td>\n",
       "      <td>0</td>\n",
       "      <td>15.9</td>\n",
       "      <td>0</td>\n",
       "      <td>0</td>\n",
       "      <td>3.0</td>\n",
       "      <td>11.0</td>\n",
       "      <td>0</td>\n",
       "      <td>139</td>\n",
       "      <td>Pneumonia</td>\n",
       "      <td>Skilled Nursing Facility</td>\n",
       "      <td>4874.702213</td>\n",
       "      <td>8091</td>\n",
       "      <td>0.0</td>\n",
       "    </tr>\n",
       "    <tr>\n",
       "      <th>12979</th>\n",
       "      <td>15821</td>\n",
       "      <td>Saturday</td>\n",
       "      <td>November</td>\n",
       "      <td>0</td>\n",
       "      <td>F</td>\n",
       "      <td>not_hispanic</td>\n",
       "      <td>single</td>\n",
       "      <td>medicare</td>\n",
       "      <td>0</td>\n",
       "      <td>Quit</td>\n",
       "      <td>0</td>\n",
       "      <td>0</td>\n",
       "      <td>0</td>\n",
       "      <td>0</td>\n",
       "      <td>0</td>\n",
       "      <td>0</td>\n",
       "      <td>0</td>\n",
       "      <td>53.900068</td>\n",
       "      <td>54.11</td>\n",
       "      <td>70</td>\n",
       "      <td>149</td>\n",
       "      <td>305</td>\n",
       "      <td>63</td>\n",
       "      <td>71</td>\n",
       "      <td>99</td>\n",
       "      <td>18</td>\n",
       "      <td>8</td>\n",
       "      <td>6</td>\n",
       "      <td>0</td>\n",
       "      <td>4</td>\n",
       "      <td>9</td>\n",
       "      <td>1</td>\n",
       "      <td>3</td>\n",
       "      <td>5</td>\n",
       "      <td>1</td>\n",
       "      <td>7</td>\n",
       "      <td>2</td>\n",
       "      <td>0</td>\n",
       "      <td>3</td>\n",
       "      <td>11</td>\n",
       "      <td>7</td>\n",
       "      <td>0</td>\n",
       "      <td>0</td>\n",
       "      <td>0</td>\n",
       "      <td>0</td>\n",
       "      <td>8.3</td>\n",
       "      <td>1.59</td>\n",
       "      <td>131.0</td>\n",
       "      <td>5.476885</td>\n",
       "      <td>4.0</td>\n",
       "      <td>142.0</td>\n",
       "      <td>0</td>\n",
       "      <td>9.6</td>\n",
       "      <td>0</td>\n",
       "      <td>0</td>\n",
       "      <td>3.0</td>\n",
       "      <td>15.0</td>\n",
       "      <td>0</td>\n",
       "      <td>139</td>\n",
       "      <td>Pneumonia</td>\n",
       "      <td>Home Health</td>\n",
       "      <td>7395.983362</td>\n",
       "      <td>3250</td>\n",
       "      <td>0.0</td>\n",
       "    </tr>\n",
       "  </tbody>\n",
       "</table>\n",
       "</div>"
      ],
      "text/plain": [
       "       patient_key_code_number   weekday     month  depression sex  \\\n",
       "12975                    15815  Saturday  December           0   F   \n",
       "12976                    15816    Sunday  November           0   F   \n",
       "12977                    15818    Monday  November           0   F   \n",
       "12978                    15819  Saturday  November           0   F   \n",
       "12979                    15821  Saturday  November           0   F   \n",
       "\n",
       "      ethnic_group_c marital_status_c insurance_provider  icu_yn tobacco_user  \\\n",
       "12975   not_hispanic           single           medicare       0          Yes   \n",
       "12976   not_hispanic           single           medicare       0          Yes   \n",
       "12977   not_hispanic           single           medicare       0        Never   \n",
       "12978   not_hispanic           single           medicare       0        Never   \n",
       "12979   not_hispanic           single           medicare       0         Quit   \n",
       "\n",
       "       drugabuse  mooddisorder  diabetes  anxiety  obesity  dementia  \\\n",
       "12975          0             0         0        0        0         0   \n",
       "12976          0             0         0        0        0         0   \n",
       "12977          0             0         0        1        1         0   \n",
       "12978          0             0         0        0        0         0   \n",
       "12979          0             0         0        0        0         0   \n",
       "\n",
       "       persmentaldis        age    bmi  bp_diastolic  bp_systolic  weight  \\\n",
       "12975              0  72.046543  21.49            93          164     121   \n",
       "12976              0  71.121149  40.93            63          147     216   \n",
       "12977              0  59.137577  53.09            74          128     300   \n",
       "12978              0  81.399041  25.13            72          101     133   \n",
       "12979              0  53.900068  54.11            70          149     305   \n",
       "\n",
       "       height  pulse  temperature  respirations  pat_pain_score_c  ed_visits  \\\n",
       "12975      63     64           98            20                 5          1   \n",
       "12976      61     83           97            16                 0          0   \n",
       "12977      63     71           97            18                 8          1   \n",
       "12978      61     97           98            20                 0          1   \n",
       "12979      63     71           99            18                 8          6   \n",
       "\n",
       "       ip_visits  chronic_conditions  meds_cardio_agents  meds_nutrition  \\\n",
       "12975          0                   7                   5               0   \n",
       "12976          0                   6                   2               0   \n",
       "12977          0                   4                   2               6   \n",
       "12978          0                   1                   5               3   \n",
       "12979          0                   4                   9               1   \n",
       "\n",
       "       meds_central_nervous_system  meds_hematologial  meds_neuromuscular  \\\n",
       "12975                            3                  2                   0   \n",
       "12976                            0                  1                   0   \n",
       "12977                            0                  2                   0   \n",
       "12978                            3                  1                   0   \n",
       "12979                            3                  5                   1   \n",
       "\n",
       "       meds_gastro  meds_infective  meds_neoplastic  meds_anesthetics  \\\n",
       "12975            1               5                0                 4   \n",
       "12976            4               4                0                 5   \n",
       "12977            7               7                0                 3   \n",
       "12978            3               5                0                 1   \n",
       "12979            7               2                0                 3   \n",
       "\n",
       "       meds_endocrine  meds_respiratory  meds_topical  meds_biological  \\\n",
       "12975              16                 6             0                0   \n",
       "12976              15                 6             0                0   \n",
       "12977               8                 9             3                0   \n",
       "12978               5                 6             0                0   \n",
       "12979              11                 7             0                0   \n",
       "\n",
       "       meds_misc  meds_genitourinary  calcium  creatinine  glucose        wbc  \\\n",
       "12975          0                   0      8.6        0.76    106.0   4.300000   \n",
       "12976          0                   0      8.8        1.00    225.0   7.500000   \n",
       "12977          2                   0      9.1        0.64     95.0   8.200000   \n",
       "12978          0                   0      9.4        1.42     95.0  16.870000   \n",
       "12979          0                   0      8.3        1.59    131.0   5.476885   \n",
       "\n",
       "       potassium  sodium  artbloodgas  hemoglobin  chest_tube  vent  los  \\\n",
       "12975        4.4   143.0            1        12.9           0     0  4.0   \n",
       "12976        4.9   139.0            0        14.8           0     0  5.0   \n",
       "12977        4.2   140.0            1        13.9           0     0  5.0   \n",
       "12978        4.0   146.0            0        15.9           0     0  3.0   \n",
       "12979        4.0   142.0            0         9.6           0     0  3.0   \n",
       "\n",
       "       LACE_Score  readmit30  APRDRG  Condition care_plan_following_discharge  \\\n",
       "12975        10.0          0     139  Pneumonia                   Home Health   \n",
       "12976         9.0          0     139  Pneumonia                   Home Health   \n",
       "12977         9.0          0     139  Pneumonia            Discharged to Home   \n",
       "12978        11.0          0     139  Pneumonia      Skilled Nursing Facility   \n",
       "12979        15.0          0     139  Pneumonia                   Home Health   \n",
       "\n",
       "       cost_of_initial_stay  care_plan_costs  cost_of_readmission  \n",
       "12975           6903.667616             2375                  0.0  \n",
       "12976           6094.383078             2108                  0.0  \n",
       "12977           9140.320880                0                  0.0  \n",
       "12978           4874.702213             8091                  0.0  \n",
       "12979           7395.983362             3250                  0.0  "
      ]
     },
     "execution_count": 7,
     "metadata": {},
     "output_type": "execute_result"
    }
   ],
   "source": [
    "# Displaying the last 5 rows of the DataFrame\n",
    "df.tail(5)"
   ]
  },
  {
   "cell_type": "code",
   "execution_count": 8,
   "metadata": {
    "id": "aiaEWITr2HrM"
   },
   "outputs": [
    {
     "data": {
      "text/plain": [
       "Index(['patient_key_code_number', 'weekday', 'month', 'depression', 'sex',\n",
       "       'ethnic_group_c', 'marital_status_c', 'insurance_provider', 'icu_yn',\n",
       "       'tobacco_user', 'drugabuse', 'mooddisorder', 'diabetes', 'anxiety',\n",
       "       'obesity', 'dementia', 'persmentaldis', 'age', 'bmi', 'bp_diastolic',\n",
       "       'bp_systolic', 'weight', 'height', 'pulse', 'temperature',\n",
       "       'respirations', 'pat_pain_score_c', 'ed_visits', 'ip_visits',\n",
       "       'chronic_conditions', 'meds_cardio_agents', 'meds_nutrition',\n",
       "       'meds_central_nervous_system', 'meds_hematologial',\n",
       "       'meds_neuromuscular', 'meds_gastro', 'meds_infective',\n",
       "       'meds_neoplastic', 'meds_anesthetics', 'meds_endocrine',\n",
       "       'meds_respiratory', 'meds_topical', 'meds_biological', 'meds_misc',\n",
       "       'meds_genitourinary', 'calcium', 'creatinine', 'glucose', 'wbc',\n",
       "       'potassium', 'sodium', 'artbloodgas', 'hemoglobin', 'chest_tube',\n",
       "       'vent', 'los', 'LACE_Score', 'readmit30', 'APRDRG', 'Condition',\n",
       "       'care_plan_following_discharge', 'cost_of_initial_stay',\n",
       "       'care_plan_costs', 'cost_of_readmission'],\n",
       "      dtype='object')"
      ]
     },
     "execution_count": 8,
     "metadata": {},
     "output_type": "execute_result"
    }
   ],
   "source": [
    "# Display column labels of the DataFrame\n",
    "df.columns"
   ]
  },
  {
   "cell_type": "code",
   "execution_count": 9,
   "metadata": {
    "id": "1H-nT7fJSqVX"
   },
   "outputs": [
    {
     "data": {
      "text/plain": [
       "float64    55\n",
       "object      9\n",
       "dtype: int64"
      ]
     },
     "execution_count": 9,
     "metadata": {},
     "output_type": "execute_result"
    }
   ],
   "source": [
    "#df data types\n",
    "df.dtypes\n",
    "df.dtypes.value_counts()\n",
    "for x in df:\n",
    "    if df[x].dtypes == \"int64\":\n",
    "        df[x] = df[x].astype(float)\n",
    "        #print (df[x].dtypes)\n",
    "        \n",
    "df.dtypes.value_counts()"
   ]
  },
  {
   "cell_type": "code",
   "execution_count": 10,
   "metadata": {
    "id": "qXWLAy2I2sz_"
   },
   "outputs": [
    {
     "data": {
      "text/html": [
       "<div>\n",
       "<style scoped>\n",
       "    .dataframe tbody tr th:only-of-type {\n",
       "        vertical-align: middle;\n",
       "    }\n",
       "\n",
       "    .dataframe tbody tr th {\n",
       "        vertical-align: top;\n",
       "    }\n",
       "\n",
       "    .dataframe thead th {\n",
       "        text-align: right;\n",
       "    }\n",
       "</style>\n",
       "<table border=\"1\" class=\"dataframe\">\n",
       "  <thead>\n",
       "    <tr style=\"text-align: right;\">\n",
       "      <th></th>\n",
       "      <th>patient_key_code_number</th>\n",
       "      <th>depression</th>\n",
       "      <th>icu_yn</th>\n",
       "      <th>drugabuse</th>\n",
       "      <th>mooddisorder</th>\n",
       "      <th>diabetes</th>\n",
       "      <th>anxiety</th>\n",
       "      <th>obesity</th>\n",
       "      <th>dementia</th>\n",
       "      <th>persmentaldis</th>\n",
       "      <th>age</th>\n",
       "      <th>bmi</th>\n",
       "      <th>bp_diastolic</th>\n",
       "      <th>bp_systolic</th>\n",
       "      <th>weight</th>\n",
       "      <th>height</th>\n",
       "      <th>pulse</th>\n",
       "      <th>temperature</th>\n",
       "      <th>respirations</th>\n",
       "      <th>pat_pain_score_c</th>\n",
       "      <th>ed_visits</th>\n",
       "      <th>ip_visits</th>\n",
       "      <th>chronic_conditions</th>\n",
       "      <th>meds_cardio_agents</th>\n",
       "      <th>meds_nutrition</th>\n",
       "      <th>meds_central_nervous_system</th>\n",
       "      <th>meds_hematologial</th>\n",
       "      <th>meds_neuromuscular</th>\n",
       "      <th>meds_gastro</th>\n",
       "      <th>meds_infective</th>\n",
       "      <th>meds_neoplastic</th>\n",
       "      <th>meds_anesthetics</th>\n",
       "      <th>meds_endocrine</th>\n",
       "      <th>meds_respiratory</th>\n",
       "      <th>meds_topical</th>\n",
       "      <th>meds_biological</th>\n",
       "      <th>meds_misc</th>\n",
       "      <th>meds_genitourinary</th>\n",
       "      <th>calcium</th>\n",
       "      <th>creatinine</th>\n",
       "      <th>glucose</th>\n",
       "      <th>wbc</th>\n",
       "      <th>potassium</th>\n",
       "      <th>sodium</th>\n",
       "      <th>artbloodgas</th>\n",
       "      <th>hemoglobin</th>\n",
       "      <th>chest_tube</th>\n",
       "      <th>vent</th>\n",
       "      <th>los</th>\n",
       "      <th>LACE_Score</th>\n",
       "      <th>readmit30</th>\n",
       "      <th>APRDRG</th>\n",
       "      <th>cost_of_initial_stay</th>\n",
       "      <th>care_plan_costs</th>\n",
       "      <th>cost_of_readmission</th>\n",
       "    </tr>\n",
       "  </thead>\n",
       "  <tbody>\n",
       "    <tr>\n",
       "      <th>count</th>\n",
       "      <td>12980.000000</td>\n",
       "      <td>12980.000000</td>\n",
       "      <td>12980.000000</td>\n",
       "      <td>12980.000000</td>\n",
       "      <td>12980.000000</td>\n",
       "      <td>12980.000000</td>\n",
       "      <td>12980.000000</td>\n",
       "      <td>12980.000000</td>\n",
       "      <td>12980.000000</td>\n",
       "      <td>12980.000000</td>\n",
       "      <td>12980.000000</td>\n",
       "      <td>12980.000000</td>\n",
       "      <td>12980.000000</td>\n",
       "      <td>12980.000000</td>\n",
       "      <td>12980.000000</td>\n",
       "      <td>12980.000000</td>\n",
       "      <td>12980.000000</td>\n",
       "      <td>12980.000000</td>\n",
       "      <td>12980.000000</td>\n",
       "      <td>12980.000000</td>\n",
       "      <td>12980.000000</td>\n",
       "      <td>12980.000000</td>\n",
       "      <td>12980.000000</td>\n",
       "      <td>12980.000000</td>\n",
       "      <td>12980.000000</td>\n",
       "      <td>12980.000000</td>\n",
       "      <td>12980.000000</td>\n",
       "      <td>12980.000000</td>\n",
       "      <td>12980.000000</td>\n",
       "      <td>12980.000000</td>\n",
       "      <td>12980.000000</td>\n",
       "      <td>12980.000000</td>\n",
       "      <td>12980.000000</td>\n",
       "      <td>12980.000000</td>\n",
       "      <td>12980.000000</td>\n",
       "      <td>12980.000000</td>\n",
       "      <td>12980.000000</td>\n",
       "      <td>12980.000000</td>\n",
       "      <td>12980.000000</td>\n",
       "      <td>12980.000000</td>\n",
       "      <td>12980.000000</td>\n",
       "      <td>12980.000000</td>\n",
       "      <td>12980.000000</td>\n",
       "      <td>12980.000000</td>\n",
       "      <td>12980.000000</td>\n",
       "      <td>12980.000000</td>\n",
       "      <td>12980.000000</td>\n",
       "      <td>12980.000000</td>\n",
       "      <td>12980.000000</td>\n",
       "      <td>12980.000000</td>\n",
       "      <td>12980.000000</td>\n",
       "      <td>12980.000000</td>\n",
       "      <td>12980.000000</td>\n",
       "      <td>12980.000000</td>\n",
       "      <td>12980.000000</td>\n",
       "    </tr>\n",
       "    <tr>\n",
       "      <th>mean</th>\n",
       "      <td>7904.538906</td>\n",
       "      <td>0.058243</td>\n",
       "      <td>0.047304</td>\n",
       "      <td>0.037442</td>\n",
       "      <td>0.012018</td>\n",
       "      <td>0.014484</td>\n",
       "      <td>0.213405</td>\n",
       "      <td>0.059245</td>\n",
       "      <td>0.067103</td>\n",
       "      <td>0.000231</td>\n",
       "      <td>71.616989</td>\n",
       "      <td>30.337493</td>\n",
       "      <td>67.845917</td>\n",
       "      <td>126.088829</td>\n",
       "      <td>190.986133</td>\n",
       "      <td>66.362096</td>\n",
       "      <td>78.675347</td>\n",
       "      <td>97.722573</td>\n",
       "      <td>18.745686</td>\n",
       "      <td>1.949923</td>\n",
       "      <td>1.699076</td>\n",
       "      <td>0.125424</td>\n",
       "      <td>6.612404</td>\n",
       "      <td>8.231895</td>\n",
       "      <td>3.982280</td>\n",
       "      <td>2.070339</td>\n",
       "      <td>2.734438</td>\n",
       "      <td>0.578814</td>\n",
       "      <td>4.306626</td>\n",
       "      <td>2.543220</td>\n",
       "      <td>0.038906</td>\n",
       "      <td>4.243220</td>\n",
       "      <td>3.921726</td>\n",
       "      <td>3.841525</td>\n",
       "      <td>0.757550</td>\n",
       "      <td>0.194838</td>\n",
       "      <td>0.372573</td>\n",
       "      <td>0.224807</td>\n",
       "      <td>8.854908</td>\n",
       "      <td>1.360709</td>\n",
       "      <td>144.634826</td>\n",
       "      <td>10.037797</td>\n",
       "      <td>4.219183</td>\n",
       "      <td>138.439204</td>\n",
       "      <td>0.227350</td>\n",
       "      <td>11.853606</td>\n",
       "      <td>0.125578</td>\n",
       "      <td>0.202619</td>\n",
       "      <td>4.513242</td>\n",
       "      <td>7.498626</td>\n",
       "      <td>0.192373</td>\n",
       "      <td>167.703390</td>\n",
       "      <td>7268.544249</td>\n",
       "      <td>2865.401387</td>\n",
       "      <td>3302.567739</td>\n",
       "    </tr>\n",
       "    <tr>\n",
       "      <th>std</th>\n",
       "      <td>4556.019510</td>\n",
       "      <td>0.234212</td>\n",
       "      <td>0.212296</td>\n",
       "      <td>0.189850</td>\n",
       "      <td>0.108972</td>\n",
       "      <td>0.119479</td>\n",
       "      <td>0.409727</td>\n",
       "      <td>0.236092</td>\n",
       "      <td>0.250210</td>\n",
       "      <td>0.015202</td>\n",
       "      <td>13.855038</td>\n",
       "      <td>8.465636</td>\n",
       "      <td>11.840361</td>\n",
       "      <td>20.209551</td>\n",
       "      <td>58.104121</td>\n",
       "      <td>4.301831</td>\n",
       "      <td>14.869041</td>\n",
       "      <td>0.832075</td>\n",
       "      <td>2.485144</td>\n",
       "      <td>2.570786</td>\n",
       "      <td>2.213620</td>\n",
       "      <td>0.388387</td>\n",
       "      <td>4.851799</td>\n",
       "      <td>6.114353</td>\n",
       "      <td>3.250963</td>\n",
       "      <td>2.221406</td>\n",
       "      <td>2.484556</td>\n",
       "      <td>1.078560</td>\n",
       "      <td>2.849212</td>\n",
       "      <td>2.362071</td>\n",
       "      <td>0.263820</td>\n",
       "      <td>2.780087</td>\n",
       "      <td>4.574511</td>\n",
       "      <td>3.468581</td>\n",
       "      <td>1.313135</td>\n",
       "      <td>0.536678</td>\n",
       "      <td>0.773245</td>\n",
       "      <td>0.554594</td>\n",
       "      <td>0.471924</td>\n",
       "      <td>0.696150</td>\n",
       "      <td>63.832652</td>\n",
       "      <td>4.469406</td>\n",
       "      <td>0.551866</td>\n",
       "      <td>3.854063</td>\n",
       "      <td>0.419136</td>\n",
       "      <td>2.040731</td>\n",
       "      <td>1.938243</td>\n",
       "      <td>2.534683</td>\n",
       "      <td>2.831700</td>\n",
       "      <td>2.605300</td>\n",
       "      <td>0.394180</td>\n",
       "      <td>27.474716</td>\n",
       "      <td>6172.129081</td>\n",
       "      <td>3857.424787</td>\n",
       "      <td>12297.413674</td>\n",
       "    </tr>\n",
       "    <tr>\n",
       "      <th>min</th>\n",
       "      <td>1.000000</td>\n",
       "      <td>0.000000</td>\n",
       "      <td>0.000000</td>\n",
       "      <td>0.000000</td>\n",
       "      <td>0.000000</td>\n",
       "      <td>0.000000</td>\n",
       "      <td>0.000000</td>\n",
       "      <td>0.000000</td>\n",
       "      <td>0.000000</td>\n",
       "      <td>0.000000</td>\n",
       "      <td>18.116358</td>\n",
       "      <td>14.000000</td>\n",
       "      <td>39.000000</td>\n",
       "      <td>78.000000</td>\n",
       "      <td>42.000000</td>\n",
       "      <td>40.000000</td>\n",
       "      <td>48.000000</td>\n",
       "      <td>95.000000</td>\n",
       "      <td>12.000000</td>\n",
       "      <td>0.000000</td>\n",
       "      <td>0.000000</td>\n",
       "      <td>0.000000</td>\n",
       "      <td>1.000000</td>\n",
       "      <td>0.000000</td>\n",
       "      <td>0.000000</td>\n",
       "      <td>0.000000</td>\n",
       "      <td>0.000000</td>\n",
       "      <td>0.000000</td>\n",
       "      <td>0.000000</td>\n",
       "      <td>0.000000</td>\n",
       "      <td>0.000000</td>\n",
       "      <td>0.000000</td>\n",
       "      <td>0.000000</td>\n",
       "      <td>0.000000</td>\n",
       "      <td>0.000000</td>\n",
       "      <td>0.000000</td>\n",
       "      <td>0.000000</td>\n",
       "      <td>0.000000</td>\n",
       "      <td>7.600000</td>\n",
       "      <td>0.230000</td>\n",
       "      <td>58.000000</td>\n",
       "      <td>3.200000</td>\n",
       "      <td>3.100000</td>\n",
       "      <td>125.000000</td>\n",
       "      <td>0.000000</td>\n",
       "      <td>7.800000</td>\n",
       "      <td>0.000000</td>\n",
       "      <td>0.000000</td>\n",
       "      <td>1.000000</td>\n",
       "      <td>2.000000</td>\n",
       "      <td>0.000000</td>\n",
       "      <td>139.000000</td>\n",
       "      <td>9.400430</td>\n",
       "      <td>0.000000</td>\n",
       "      <td>0.000000</td>\n",
       "    </tr>\n",
       "    <tr>\n",
       "      <th>25%</th>\n",
       "      <td>3988.750000</td>\n",
       "      <td>0.000000</td>\n",
       "      <td>0.000000</td>\n",
       "      <td>0.000000</td>\n",
       "      <td>0.000000</td>\n",
       "      <td>0.000000</td>\n",
       "      <td>0.000000</td>\n",
       "      <td>0.000000</td>\n",
       "      <td>0.000000</td>\n",
       "      <td>0.000000</td>\n",
       "      <td>63.368503</td>\n",
       "      <td>24.160000</td>\n",
       "      <td>60.000000</td>\n",
       "      <td>111.000000</td>\n",
       "      <td>149.000000</td>\n",
       "      <td>63.000000</td>\n",
       "      <td>68.000000</td>\n",
       "      <td>97.000000</td>\n",
       "      <td>18.000000</td>\n",
       "      <td>0.000000</td>\n",
       "      <td>0.000000</td>\n",
       "      <td>0.000000</td>\n",
       "      <td>3.000000</td>\n",
       "      <td>3.000000</td>\n",
       "      <td>2.000000</td>\n",
       "      <td>0.000000</td>\n",
       "      <td>1.000000</td>\n",
       "      <td>0.000000</td>\n",
       "      <td>2.000000</td>\n",
       "      <td>0.000000</td>\n",
       "      <td>0.000000</td>\n",
       "      <td>2.000000</td>\n",
       "      <td>0.000000</td>\n",
       "      <td>1.000000</td>\n",
       "      <td>0.000000</td>\n",
       "      <td>0.000000</td>\n",
       "      <td>0.000000</td>\n",
       "      <td>0.000000</td>\n",
       "      <td>8.500000</td>\n",
       "      <td>0.900000</td>\n",
       "      <td>96.000000</td>\n",
       "      <td>7.100000</td>\n",
       "      <td>3.800000</td>\n",
       "      <td>136.000000</td>\n",
       "      <td>0.000000</td>\n",
       "      <td>9.900000</td>\n",
       "      <td>0.000000</td>\n",
       "      <td>0.000000</td>\n",
       "      <td>3.000000</td>\n",
       "      <td>6.000000</td>\n",
       "      <td>0.000000</td>\n",
       "      <td>139.000000</td>\n",
       "      <td>3722.648740</td>\n",
       "      <td>0.000000</td>\n",
       "      <td>0.000000</td>\n",
       "    </tr>\n",
       "    <tr>\n",
       "      <th>50%</th>\n",
       "      <td>7895.500000</td>\n",
       "      <td>0.000000</td>\n",
       "      <td>0.000000</td>\n",
       "      <td>0.000000</td>\n",
       "      <td>0.000000</td>\n",
       "      <td>0.000000</td>\n",
       "      <td>0.000000</td>\n",
       "      <td>0.000000</td>\n",
       "      <td>0.000000</td>\n",
       "      <td>0.000000</td>\n",
       "      <td>74.490075</td>\n",
       "      <td>28.810000</td>\n",
       "      <td>68.000000</td>\n",
       "      <td>125.000000</td>\n",
       "      <td>182.000000</td>\n",
       "      <td>66.000000</td>\n",
       "      <td>77.000000</td>\n",
       "      <td>98.000000</td>\n",
       "      <td>18.000000</td>\n",
       "      <td>1.000000</td>\n",
       "      <td>1.000000</td>\n",
       "      <td>0.000000</td>\n",
       "      <td>6.000000</td>\n",
       "      <td>7.000000</td>\n",
       "      <td>3.000000</td>\n",
       "      <td>1.000000</td>\n",
       "      <td>2.000000</td>\n",
       "      <td>0.000000</td>\n",
       "      <td>4.000000</td>\n",
       "      <td>2.000000</td>\n",
       "      <td>0.000000</td>\n",
       "      <td>4.000000</td>\n",
       "      <td>2.000000</td>\n",
       "      <td>3.000000</td>\n",
       "      <td>0.000000</td>\n",
       "      <td>0.000000</td>\n",
       "      <td>0.000000</td>\n",
       "      <td>0.000000</td>\n",
       "      <td>8.900000</td>\n",
       "      <td>1.180000</td>\n",
       "      <td>127.000000</td>\n",
       "      <td>8.890000</td>\n",
       "      <td>4.200000</td>\n",
       "      <td>139.000000</td>\n",
       "      <td>0.000000</td>\n",
       "      <td>11.900000</td>\n",
       "      <td>0.000000</td>\n",
       "      <td>0.000000</td>\n",
       "      <td>4.000000</td>\n",
       "      <td>7.000000</td>\n",
       "      <td>0.000000</td>\n",
       "      <td>194.000000</td>\n",
       "      <td>5579.409082</td>\n",
       "      <td>1590.000000</td>\n",
       "      <td>0.000000</td>\n",
       "    </tr>\n",
       "    <tr>\n",
       "      <th>75%</th>\n",
       "      <td>11818.750000</td>\n",
       "      <td>0.000000</td>\n",
       "      <td>0.000000</td>\n",
       "      <td>0.000000</td>\n",
       "      <td>0.000000</td>\n",
       "      <td>0.000000</td>\n",
       "      <td>0.000000</td>\n",
       "      <td>0.000000</td>\n",
       "      <td>0.000000</td>\n",
       "      <td>0.000000</td>\n",
       "      <td>82.861054</td>\n",
       "      <td>35.122500</td>\n",
       "      <td>76.000000</td>\n",
       "      <td>140.000000</td>\n",
       "      <td>225.000000</td>\n",
       "      <td>70.000000</td>\n",
       "      <td>88.000000</td>\n",
       "      <td>98.000000</td>\n",
       "      <td>20.000000</td>\n",
       "      <td>3.000000</td>\n",
       "      <td>2.000000</td>\n",
       "      <td>0.000000</td>\n",
       "      <td>9.000000</td>\n",
       "      <td>12.000000</td>\n",
       "      <td>5.000000</td>\n",
       "      <td>3.000000</td>\n",
       "      <td>4.000000</td>\n",
       "      <td>1.000000</td>\n",
       "      <td>6.000000</td>\n",
       "      <td>4.000000</td>\n",
       "      <td>0.000000</td>\n",
       "      <td>6.000000</td>\n",
       "      <td>6.000000</td>\n",
       "      <td>6.000000</td>\n",
       "      <td>1.000000</td>\n",
       "      <td>0.000000</td>\n",
       "      <td>0.000000</td>\n",
       "      <td>0.000000</td>\n",
       "      <td>9.200000</td>\n",
       "      <td>1.600000</td>\n",
       "      <td>172.000000</td>\n",
       "      <td>12.000000</td>\n",
       "      <td>4.500000</td>\n",
       "      <td>141.000000</td>\n",
       "      <td>0.000000</td>\n",
       "      <td>13.400000</td>\n",
       "      <td>0.000000</td>\n",
       "      <td>0.000000</td>\n",
       "      <td>6.000000</td>\n",
       "      <td>9.000000</td>\n",
       "      <td>0.000000</td>\n",
       "      <td>194.000000</td>\n",
       "      <td>8616.042945</td>\n",
       "      <td>3250.000000</td>\n",
       "      <td>0.000000</td>\n",
       "    </tr>\n",
       "    <tr>\n",
       "      <th>max</th>\n",
       "      <td>15821.000000</td>\n",
       "      <td>1.000000</td>\n",
       "      <td>1.000000</td>\n",
       "      <td>1.000000</td>\n",
       "      <td>1.000000</td>\n",
       "      <td>1.000000</td>\n",
       "      <td>1.000000</td>\n",
       "      <td>1.000000</td>\n",
       "      <td>1.000000</td>\n",
       "      <td>1.000000</td>\n",
       "      <td>89.998631</td>\n",
       "      <td>54.470000</td>\n",
       "      <td>98.000000</td>\n",
       "      <td>180.000000</td>\n",
       "      <td>392.000000</td>\n",
       "      <td>76.000000</td>\n",
       "      <td>145.000000</td>\n",
       "      <td>100.000000</td>\n",
       "      <td>40.000000</td>\n",
       "      <td>10.000000</td>\n",
       "      <td>13.000000</td>\n",
       "      <td>2.000000</td>\n",
       "      <td>27.000000</td>\n",
       "      <td>28.000000</td>\n",
       "      <td>18.000000</td>\n",
       "      <td>11.000000</td>\n",
       "      <td>14.000000</td>\n",
       "      <td>6.000000</td>\n",
       "      <td>14.000000</td>\n",
       "      <td>10.000000</td>\n",
       "      <td>7.000000</td>\n",
       "      <td>15.000000</td>\n",
       "      <td>24.000000</td>\n",
       "      <td>17.000000</td>\n",
       "      <td>7.000000</td>\n",
       "      <td>3.000000</td>\n",
       "      <td>4.000000</td>\n",
       "      <td>3.000000</td>\n",
       "      <td>10.200000</td>\n",
       "      <td>4.800000</td>\n",
       "      <td>423.000000</td>\n",
       "      <td>28.400000</td>\n",
       "      <td>6.100000</td>\n",
       "      <td>147.000000</td>\n",
       "      <td>1.000000</td>\n",
       "      <td>16.800000</td>\n",
       "      <td>87.000000</td>\n",
       "      <td>95.000000</td>\n",
       "      <td>16.000000</td>\n",
       "      <td>15.000000</td>\n",
       "      <td>1.000000</td>\n",
       "      <td>194.000000</td>\n",
       "      <td>117843.123768</td>\n",
       "      <td>14160.000000</td>\n",
       "      <td>394513.200000</td>\n",
       "    </tr>\n",
       "  </tbody>\n",
       "</table>\n",
       "</div>"
      ],
      "text/plain": [
       "       patient_key_code_number    depression        icu_yn     drugabuse  \\\n",
       "count             12980.000000  12980.000000  12980.000000  12980.000000   \n",
       "mean               7904.538906      0.058243      0.047304      0.037442   \n",
       "std                4556.019510      0.234212      0.212296      0.189850   \n",
       "min                   1.000000      0.000000      0.000000      0.000000   \n",
       "25%                3988.750000      0.000000      0.000000      0.000000   \n",
       "50%                7895.500000      0.000000      0.000000      0.000000   \n",
       "75%               11818.750000      0.000000      0.000000      0.000000   \n",
       "max               15821.000000      1.000000      1.000000      1.000000   \n",
       "\n",
       "       mooddisorder      diabetes       anxiety       obesity      dementia  \\\n",
       "count  12980.000000  12980.000000  12980.000000  12980.000000  12980.000000   \n",
       "mean       0.012018      0.014484      0.213405      0.059245      0.067103   \n",
       "std        0.108972      0.119479      0.409727      0.236092      0.250210   \n",
       "min        0.000000      0.000000      0.000000      0.000000      0.000000   \n",
       "25%        0.000000      0.000000      0.000000      0.000000      0.000000   \n",
       "50%        0.000000      0.000000      0.000000      0.000000      0.000000   \n",
       "75%        0.000000      0.000000      0.000000      0.000000      0.000000   \n",
       "max        1.000000      1.000000      1.000000      1.000000      1.000000   \n",
       "\n",
       "       persmentaldis           age           bmi  bp_diastolic   bp_systolic  \\\n",
       "count   12980.000000  12980.000000  12980.000000  12980.000000  12980.000000   \n",
       "mean        0.000231     71.616989     30.337493     67.845917    126.088829   \n",
       "std         0.015202     13.855038      8.465636     11.840361     20.209551   \n",
       "min         0.000000     18.116358     14.000000     39.000000     78.000000   \n",
       "25%         0.000000     63.368503     24.160000     60.000000    111.000000   \n",
       "50%         0.000000     74.490075     28.810000     68.000000    125.000000   \n",
       "75%         0.000000     82.861054     35.122500     76.000000    140.000000   \n",
       "max         1.000000     89.998631     54.470000     98.000000    180.000000   \n",
       "\n",
       "             weight        height         pulse   temperature  respirations  \\\n",
       "count  12980.000000  12980.000000  12980.000000  12980.000000  12980.000000   \n",
       "mean     190.986133     66.362096     78.675347     97.722573     18.745686   \n",
       "std       58.104121      4.301831     14.869041      0.832075      2.485144   \n",
       "min       42.000000     40.000000     48.000000     95.000000     12.000000   \n",
       "25%      149.000000     63.000000     68.000000     97.000000     18.000000   \n",
       "50%      182.000000     66.000000     77.000000     98.000000     18.000000   \n",
       "75%      225.000000     70.000000     88.000000     98.000000     20.000000   \n",
       "max      392.000000     76.000000    145.000000    100.000000     40.000000   \n",
       "\n",
       "       pat_pain_score_c     ed_visits     ip_visits  chronic_conditions  \\\n",
       "count      12980.000000  12980.000000  12980.000000        12980.000000   \n",
       "mean           1.949923      1.699076      0.125424            6.612404   \n",
       "std            2.570786      2.213620      0.388387            4.851799   \n",
       "min            0.000000      0.000000      0.000000            1.000000   \n",
       "25%            0.000000      0.000000      0.000000            3.000000   \n",
       "50%            1.000000      1.000000      0.000000            6.000000   \n",
       "75%            3.000000      2.000000      0.000000            9.000000   \n",
       "max           10.000000     13.000000      2.000000           27.000000   \n",
       "\n",
       "       meds_cardio_agents  meds_nutrition  meds_central_nervous_system  \\\n",
       "count        12980.000000    12980.000000                 12980.000000   \n",
       "mean             8.231895        3.982280                     2.070339   \n",
       "std              6.114353        3.250963                     2.221406   \n",
       "min              0.000000        0.000000                     0.000000   \n",
       "25%              3.000000        2.000000                     0.000000   \n",
       "50%              7.000000        3.000000                     1.000000   \n",
       "75%             12.000000        5.000000                     3.000000   \n",
       "max             28.000000       18.000000                    11.000000   \n",
       "\n",
       "       meds_hematologial  meds_neuromuscular   meds_gastro  meds_infective  \\\n",
       "count       12980.000000        12980.000000  12980.000000    12980.000000   \n",
       "mean            2.734438            0.578814      4.306626        2.543220   \n",
       "std             2.484556            1.078560      2.849212        2.362071   \n",
       "min             0.000000            0.000000      0.000000        0.000000   \n",
       "25%             1.000000            0.000000      2.000000        0.000000   \n",
       "50%             2.000000            0.000000      4.000000        2.000000   \n",
       "75%             4.000000            1.000000      6.000000        4.000000   \n",
       "max            14.000000            6.000000     14.000000       10.000000   \n",
       "\n",
       "       meds_neoplastic  meds_anesthetics  meds_endocrine  meds_respiratory  \\\n",
       "count     12980.000000      12980.000000    12980.000000      12980.000000   \n",
       "mean          0.038906          4.243220        3.921726          3.841525   \n",
       "std           0.263820          2.780087        4.574511          3.468581   \n",
       "min           0.000000          0.000000        0.000000          0.000000   \n",
       "25%           0.000000          2.000000        0.000000          1.000000   \n",
       "50%           0.000000          4.000000        2.000000          3.000000   \n",
       "75%           0.000000          6.000000        6.000000          6.000000   \n",
       "max           7.000000         15.000000       24.000000         17.000000   \n",
       "\n",
       "       meds_topical  meds_biological     meds_misc  meds_genitourinary  \\\n",
       "count  12980.000000     12980.000000  12980.000000        12980.000000   \n",
       "mean       0.757550         0.194838      0.372573            0.224807   \n",
       "std        1.313135         0.536678      0.773245            0.554594   \n",
       "min        0.000000         0.000000      0.000000            0.000000   \n",
       "25%        0.000000         0.000000      0.000000            0.000000   \n",
       "50%        0.000000         0.000000      0.000000            0.000000   \n",
       "75%        1.000000         0.000000      0.000000            0.000000   \n",
       "max        7.000000         3.000000      4.000000            3.000000   \n",
       "\n",
       "            calcium    creatinine       glucose           wbc     potassium  \\\n",
       "count  12980.000000  12980.000000  12980.000000  12980.000000  12980.000000   \n",
       "mean       8.854908      1.360709    144.634826     10.037797      4.219183   \n",
       "std        0.471924      0.696150     63.832652      4.469406      0.551866   \n",
       "min        7.600000      0.230000     58.000000      3.200000      3.100000   \n",
       "25%        8.500000      0.900000     96.000000      7.100000      3.800000   \n",
       "50%        8.900000      1.180000    127.000000      8.890000      4.200000   \n",
       "75%        9.200000      1.600000    172.000000     12.000000      4.500000   \n",
       "max       10.200000      4.800000    423.000000     28.400000      6.100000   \n",
       "\n",
       "             sodium   artbloodgas    hemoglobin    chest_tube          vent  \\\n",
       "count  12980.000000  12980.000000  12980.000000  12980.000000  12980.000000   \n",
       "mean     138.439204      0.227350     11.853606      0.125578      0.202619   \n",
       "std        3.854063      0.419136      2.040731      1.938243      2.534683   \n",
       "min      125.000000      0.000000      7.800000      0.000000      0.000000   \n",
       "25%      136.000000      0.000000      9.900000      0.000000      0.000000   \n",
       "50%      139.000000      0.000000     11.900000      0.000000      0.000000   \n",
       "75%      141.000000      0.000000     13.400000      0.000000      0.000000   \n",
       "max      147.000000      1.000000     16.800000     87.000000     95.000000   \n",
       "\n",
       "                los    LACE_Score     readmit30        APRDRG  \\\n",
       "count  12980.000000  12980.000000  12980.000000  12980.000000   \n",
       "mean       4.513242      7.498626      0.192373    167.703390   \n",
       "std        2.831700      2.605300      0.394180     27.474716   \n",
       "min        1.000000      2.000000      0.000000    139.000000   \n",
       "25%        3.000000      6.000000      0.000000    139.000000   \n",
       "50%        4.000000      7.000000      0.000000    194.000000   \n",
       "75%        6.000000      9.000000      0.000000    194.000000   \n",
       "max       16.000000     15.000000      1.000000    194.000000   \n",
       "\n",
       "       cost_of_initial_stay  care_plan_costs  cost_of_readmission  \n",
       "count          12980.000000     12980.000000         12980.000000  \n",
       "mean            7268.544249      2865.401387          3302.567739  \n",
       "std             6172.129081      3857.424787         12297.413674  \n",
       "min                9.400430         0.000000             0.000000  \n",
       "25%             3722.648740         0.000000             0.000000  \n",
       "50%             5579.409082      1590.000000             0.000000  \n",
       "75%             8616.042945      3250.000000             0.000000  \n",
       "max           117843.123768     14160.000000        394513.200000  "
      ]
     },
     "execution_count": 10,
     "metadata": {},
     "output_type": "execute_result"
    }
   ],
   "source": [
    "# Descriptive Statistics for numerical columns\n",
    "df.describe()"
   ]
  },
  {
   "cell_type": "code",
   "execution_count": 11,
   "metadata": {
    "id": "x6DqwvyD3SjB"
   },
   "outputs": [],
   "source": [
    "# Installing Pandas Profiler for automated detailed Exploratory Data Analysis\n",
    "#!pip install pandas-profiling --upgrade"
   ]
  },
  {
   "cell_type": "code",
   "execution_count": 12,
   "metadata": {
    "id": "GUygG2wZ3Vv_"
   },
   "outputs": [],
   "source": [
    "# Generating detailed Exploratory Data Analysis report using Pandas Profiling\n",
    "# from pandas_profiling import ProfileReport\n",
    "# df_eda_report = ProfileReport(df)\n",
    "# df_eda_report.to_file(\"df_eda_report.html\")"
   ]
  },
  {
   "cell_type": "code",
   "execution_count": 13,
   "metadata": {
    "id": "lpD9rFyV3W3P"
   },
   "outputs": [],
   "source": [
    "# from google.colab import files\n",
    "# files.download(\"df_eda_report.html\")"
   ]
  },
  {
   "cell_type": "markdown",
   "metadata": {
    "id": "02KbE2hW3htW"
   },
   "source": [
    "## Exploratory Data Analysis"
   ]
  },
  {
   "cell_type": "code",
   "execution_count": 14,
   "metadata": {
    "colab": {
     "base_uri": "https://localhost:8080/"
    },
    "id": "reSt8Nkg3xWY",
    "outputId": "65ecbef3-6565-42bc-a504-13cd29096588",
    "scrolled": true
   },
   "outputs": [
    {
     "data": {
      "text/html": [
       "<div>\n",
       "<style scoped>\n",
       "    .dataframe tbody tr th:only-of-type {\n",
       "        vertical-align: middle;\n",
       "    }\n",
       "\n",
       "    .dataframe tbody tr th {\n",
       "        vertical-align: top;\n",
       "    }\n",
       "\n",
       "    .dataframe thead th {\n",
       "        text-align: right;\n",
       "    }\n",
       "</style>\n",
       "<table border=\"1\" class=\"dataframe\">\n",
       "  <thead>\n",
       "    <tr style=\"text-align: right;\">\n",
       "      <th></th>\n",
       "      <th>count</th>\n",
       "      <th>mean</th>\n",
       "      <th>std</th>\n",
       "      <th>min</th>\n",
       "      <th>25%</th>\n",
       "      <th>50%</th>\n",
       "      <th>75%</th>\n",
       "      <th>max</th>\n",
       "    </tr>\n",
       "    <tr>\n",
       "      <th>APRDRG</th>\n",
       "      <th></th>\n",
       "      <th></th>\n",
       "      <th></th>\n",
       "      <th></th>\n",
       "      <th></th>\n",
       "      <th></th>\n",
       "      <th></th>\n",
       "      <th></th>\n",
       "    </tr>\n",
       "  </thead>\n",
       "  <tbody>\n",
       "    <tr>\n",
       "      <th>139.0</th>\n",
       "      <td>6206.0</td>\n",
       "      <td>0.161296</td>\n",
       "      <td>0.367833</td>\n",
       "      <td>0.0</td>\n",
       "      <td>0.0</td>\n",
       "      <td>0.0</td>\n",
       "      <td>0.0</td>\n",
       "      <td>1.0</td>\n",
       "    </tr>\n",
       "    <tr>\n",
       "      <th>194.0</th>\n",
       "      <td>6774.0</td>\n",
       "      <td>0.220844</td>\n",
       "      <td>0.414846</td>\n",
       "      <td>0.0</td>\n",
       "      <td>0.0</td>\n",
       "      <td>0.0</td>\n",
       "      <td>0.0</td>\n",
       "      <td>1.0</td>\n",
       "    </tr>\n",
       "  </tbody>\n",
       "</table>\n",
       "</div>"
      ],
      "text/plain": [
       "         count      mean       std  min  25%  50%  75%  max\n",
       "APRDRG                                                     \n",
       "139.0   6206.0  0.161296  0.367833  0.0  0.0  0.0  0.0  1.0\n",
       "194.0   6774.0  0.220844  0.414846  0.0  0.0  0.0  0.0  1.0"
      ]
     },
     "execution_count": 14,
     "metadata": {},
     "output_type": "execute_result"
    }
   ],
   "source": [
    "# Display readmit30\n",
    "df.readmit30.value_counts()\n",
    "df.groupby(['APRDRG'])['readmit30'].describe()"
   ]
  },
  {
   "cell_type": "markdown",
   "metadata": {},
   "source": [
    "**Check for null values**"
   ]
  },
  {
   "cell_type": "code",
   "execution_count": 15,
   "metadata": {
    "id": "bkyKn47jSqg8",
    "scrolled": false
   },
   "outputs": [
    {
     "data": {
      "text/plain": [
       "patient_key_code_number          0\n",
       "weekday                          0\n",
       "month                            0\n",
       "depression                       0\n",
       "sex                              0\n",
       "                                ..\n",
       "Condition                        0\n",
       "care_plan_following_discharge    0\n",
       "cost_of_initial_stay             0\n",
       "care_plan_costs                  0\n",
       "cost_of_readmission              0\n",
       "Length: 64, dtype: int64"
      ]
     },
     "execution_count": 15,
     "metadata": {},
     "output_type": "execute_result"
    }
   ],
   "source": [
    "df.isnull().sum()"
   ]
  },
  {
   "cell_type": "markdown",
   "metadata": {},
   "source": [
    "**Taking out noise variables and assign to df1**"
   ]
  },
  {
   "cell_type": "code",
   "execution_count": 16,
   "metadata": {
    "id": "ZNnQxhk94ciL"
   },
   "outputs": [],
   "source": [
    "df1=df.drop(['Condition','marital_status_c','patient_key_code_number','height','cost_of_readmission','weight'], axis=1)"
   ]
  },
  {
   "cell_type": "code",
   "execution_count": 17,
   "metadata": {
    "id": "1TtACKizzQ2A"
   },
   "outputs": [],
   "source": [
    "#Encoding categorical columns\n",
    "df1['APRDRG'] = df1['APRDRG'].replace([139,194],[0,1])\n",
    "df1['sex'] = df1['sex'].replace(['M','F'],[0,1])\n",
    "df1['ethnic_group_c'] = df1['ethnic_group_c'].replace(['hispanic','not_hispanic'],[0,1])\n"
   ]
  },
  {
   "cell_type": "code",
   "execution_count": 18,
   "metadata": {
    "colab": {
     "base_uri": "https://localhost:8080/",
     "height": 192
    },
    "id": "iCpUNnOBDnrM",
    "outputId": "9ff3fec8-9c70-431a-81c7-1eb9921c1841",
    "scrolled": true
   },
   "outputs": [
    {
     "data": {
      "text/html": [
       "<div>\n",
       "<style scoped>\n",
       "    .dataframe tbody tr th:only-of-type {\n",
       "        vertical-align: middle;\n",
       "    }\n",
       "\n",
       "    .dataframe tbody tr th {\n",
       "        vertical-align: top;\n",
       "    }\n",
       "\n",
       "    .dataframe thead th {\n",
       "        text-align: right;\n",
       "    }\n",
       "</style>\n",
       "<table border=\"1\" class=\"dataframe\">\n",
       "  <thead>\n",
       "    <tr style=\"text-align: right;\">\n",
       "      <th></th>\n",
       "      <th>weekday</th>\n",
       "      <th>month</th>\n",
       "      <th>depression</th>\n",
       "      <th>sex</th>\n",
       "      <th>ethnic_group_c</th>\n",
       "      <th>insurance_provider</th>\n",
       "      <th>icu_yn</th>\n",
       "      <th>tobacco_user</th>\n",
       "      <th>drugabuse</th>\n",
       "      <th>mooddisorder</th>\n",
       "      <th>diabetes</th>\n",
       "      <th>anxiety</th>\n",
       "      <th>obesity</th>\n",
       "      <th>dementia</th>\n",
       "      <th>persmentaldis</th>\n",
       "      <th>age</th>\n",
       "      <th>bmi</th>\n",
       "      <th>bp_diastolic</th>\n",
       "      <th>bp_systolic</th>\n",
       "      <th>pulse</th>\n",
       "      <th>temperature</th>\n",
       "      <th>respirations</th>\n",
       "      <th>pat_pain_score_c</th>\n",
       "      <th>ed_visits</th>\n",
       "      <th>ip_visits</th>\n",
       "      <th>chronic_conditions</th>\n",
       "      <th>meds_cardio_agents</th>\n",
       "      <th>meds_nutrition</th>\n",
       "      <th>meds_central_nervous_system</th>\n",
       "      <th>meds_hematologial</th>\n",
       "      <th>meds_neuromuscular</th>\n",
       "      <th>meds_gastro</th>\n",
       "      <th>meds_infective</th>\n",
       "      <th>meds_neoplastic</th>\n",
       "      <th>meds_anesthetics</th>\n",
       "      <th>meds_endocrine</th>\n",
       "      <th>meds_respiratory</th>\n",
       "      <th>meds_topical</th>\n",
       "      <th>meds_biological</th>\n",
       "      <th>meds_misc</th>\n",
       "      <th>meds_genitourinary</th>\n",
       "      <th>calcium</th>\n",
       "      <th>creatinine</th>\n",
       "      <th>glucose</th>\n",
       "      <th>wbc</th>\n",
       "      <th>potassium</th>\n",
       "      <th>sodium</th>\n",
       "      <th>artbloodgas</th>\n",
       "      <th>hemoglobin</th>\n",
       "      <th>chest_tube</th>\n",
       "      <th>vent</th>\n",
       "      <th>los</th>\n",
       "      <th>LACE_Score</th>\n",
       "      <th>readmit30</th>\n",
       "      <th>APRDRG</th>\n",
       "      <th>care_plan_following_discharge</th>\n",
       "      <th>cost_of_initial_stay</th>\n",
       "      <th>care_plan_costs</th>\n",
       "    </tr>\n",
       "  </thead>\n",
       "  <tbody>\n",
       "    <tr>\n",
       "      <th>0</th>\n",
       "      <td>Tuesday</td>\n",
       "      <td>December</td>\n",
       "      <td>0.0</td>\n",
       "      <td>0</td>\n",
       "      <td>1</td>\n",
       "      <td>medicare</td>\n",
       "      <td>0.0</td>\n",
       "      <td>Never</td>\n",
       "      <td>0.0</td>\n",
       "      <td>0.0</td>\n",
       "      <td>0.0</td>\n",
       "      <td>0.0</td>\n",
       "      <td>0.0</td>\n",
       "      <td>0.0</td>\n",
       "      <td>0.0</td>\n",
       "      <td>87.063655</td>\n",
       "      <td>20.22</td>\n",
       "      <td>83.0</td>\n",
       "      <td>136.0</td>\n",
       "      <td>135.0</td>\n",
       "      <td>99.0</td>\n",
       "      <td>26.0</td>\n",
       "      <td>4.0</td>\n",
       "      <td>1.0</td>\n",
       "      <td>0.0</td>\n",
       "      <td>1.0</td>\n",
       "      <td>2.0</td>\n",
       "      <td>6.0</td>\n",
       "      <td>7.0</td>\n",
       "      <td>6.0</td>\n",
       "      <td>0.0</td>\n",
       "      <td>9.0</td>\n",
       "      <td>9.0</td>\n",
       "      <td>0.0</td>\n",
       "      <td>15.0</td>\n",
       "      <td>1.0</td>\n",
       "      <td>5.0</td>\n",
       "      <td>2.0</td>\n",
       "      <td>1.0</td>\n",
       "      <td>0.0</td>\n",
       "      <td>1.0</td>\n",
       "      <td>8.5</td>\n",
       "      <td>0.76</td>\n",
       "      <td>106.0</td>\n",
       "      <td>21.739946</td>\n",
       "      <td>3.9</td>\n",
       "      <td>130.0</td>\n",
       "      <td>0.0</td>\n",
       "      <td>9.1</td>\n",
       "      <td>0.0</td>\n",
       "      <td>0.0</td>\n",
       "      <td>9.973955</td>\n",
       "      <td>11.0</td>\n",
       "      <td>0.0</td>\n",
       "      <td>0.0</td>\n",
       "      <td>Expired</td>\n",
       "      <td>43986.686805</td>\n",
       "      <td>0.0</td>\n",
       "    </tr>\n",
       "    <tr>\n",
       "      <th>1</th>\n",
       "      <td>Saturday</td>\n",
       "      <td>December</td>\n",
       "      <td>1.0</td>\n",
       "      <td>1</td>\n",
       "      <td>1</td>\n",
       "      <td>medicare</td>\n",
       "      <td>0.0</td>\n",
       "      <td>Quit</td>\n",
       "      <td>0.0</td>\n",
       "      <td>1.0</td>\n",
       "      <td>0.0</td>\n",
       "      <td>1.0</td>\n",
       "      <td>0.0</td>\n",
       "      <td>0.0</td>\n",
       "      <td>0.0</td>\n",
       "      <td>79.501711</td>\n",
       "      <td>38.10</td>\n",
       "      <td>80.0</td>\n",
       "      <td>120.0</td>\n",
       "      <td>86.0</td>\n",
       "      <td>98.0</td>\n",
       "      <td>18.0</td>\n",
       "      <td>0.0</td>\n",
       "      <td>0.0</td>\n",
       "      <td>0.0</td>\n",
       "      <td>9.0</td>\n",
       "      <td>4.0</td>\n",
       "      <td>2.0</td>\n",
       "      <td>2.0</td>\n",
       "      <td>3.0</td>\n",
       "      <td>0.0</td>\n",
       "      <td>7.0</td>\n",
       "      <td>6.0</td>\n",
       "      <td>0.0</td>\n",
       "      <td>2.0</td>\n",
       "      <td>5.0</td>\n",
       "      <td>16.0</td>\n",
       "      <td>1.0</td>\n",
       "      <td>0.0</td>\n",
       "      <td>0.0</td>\n",
       "      <td>0.0</td>\n",
       "      <td>9.4</td>\n",
       "      <td>1.35</td>\n",
       "      <td>138.0</td>\n",
       "      <td>4.000000</td>\n",
       "      <td>4.4</td>\n",
       "      <td>138.0</td>\n",
       "      <td>1.0</td>\n",
       "      <td>13.9</td>\n",
       "      <td>0.0</td>\n",
       "      <td>0.0</td>\n",
       "      <td>3.000000</td>\n",
       "      <td>3.0</td>\n",
       "      <td>0.0</td>\n",
       "      <td>0.0</td>\n",
       "      <td>Telehealth</td>\n",
       "      <td>4476.003655</td>\n",
       "      <td>172.0</td>\n",
       "    </tr>\n",
       "  </tbody>\n",
       "</table>\n",
       "</div>"
      ],
      "text/plain": [
       "    weekday     month  depression  sex  ethnic_group_c insurance_provider  \\\n",
       "0   Tuesday  December         0.0    0               1           medicare   \n",
       "1  Saturday  December         1.0    1               1           medicare   \n",
       "\n",
       "   icu_yn tobacco_user  drugabuse  mooddisorder  diabetes  anxiety  obesity  \\\n",
       "0     0.0        Never        0.0           0.0       0.0      0.0      0.0   \n",
       "1     0.0         Quit        0.0           1.0       0.0      1.0      0.0   \n",
       "\n",
       "   dementia  persmentaldis        age    bmi  bp_diastolic  bp_systolic  \\\n",
       "0       0.0            0.0  87.063655  20.22          83.0        136.0   \n",
       "1       0.0            0.0  79.501711  38.10          80.0        120.0   \n",
       "\n",
       "   pulse  temperature  respirations  pat_pain_score_c  ed_visits  ip_visits  \\\n",
       "0  135.0         99.0          26.0               4.0        1.0        0.0   \n",
       "1   86.0         98.0          18.0               0.0        0.0        0.0   \n",
       "\n",
       "   chronic_conditions  meds_cardio_agents  meds_nutrition  \\\n",
       "0                 1.0                 2.0             6.0   \n",
       "1                 9.0                 4.0             2.0   \n",
       "\n",
       "   meds_central_nervous_system  meds_hematologial  meds_neuromuscular  \\\n",
       "0                          7.0                6.0                 0.0   \n",
       "1                          2.0                3.0                 0.0   \n",
       "\n",
       "   meds_gastro  meds_infective  meds_neoplastic  meds_anesthetics  \\\n",
       "0          9.0             9.0              0.0              15.0   \n",
       "1          7.0             6.0              0.0               2.0   \n",
       "\n",
       "   meds_endocrine  meds_respiratory  meds_topical  meds_biological  meds_misc  \\\n",
       "0             1.0               5.0           2.0              1.0        0.0   \n",
       "1             5.0              16.0           1.0              0.0        0.0   \n",
       "\n",
       "   meds_genitourinary  calcium  creatinine  glucose        wbc  potassium  \\\n",
       "0                 1.0      8.5        0.76    106.0  21.739946        3.9   \n",
       "1                 0.0      9.4        1.35    138.0   4.000000        4.4   \n",
       "\n",
       "   sodium  artbloodgas  hemoglobin  chest_tube  vent       los  LACE_Score  \\\n",
       "0   130.0          0.0         9.1         0.0   0.0  9.973955        11.0   \n",
       "1   138.0          1.0        13.9         0.0   0.0  3.000000         3.0   \n",
       "\n",
       "   readmit30  APRDRG care_plan_following_discharge  cost_of_initial_stay  \\\n",
       "0        0.0     0.0                       Expired          43986.686805   \n",
       "1        0.0     0.0                    Telehealth           4476.003655   \n",
       "\n",
       "   care_plan_costs  \n",
       "0              0.0  \n",
       "1            172.0  "
      ]
     },
     "execution_count": 18,
     "metadata": {},
     "output_type": "execute_result"
    }
   ],
   "source": [
    "# Display df1 data after encoding\n",
    "df1.head(2)"
   ]
  },
  {
   "cell_type": "markdown",
   "metadata": {
    "id": "Rx5JAxFyEPpS"
   },
   "source": [
    "### Correlation"
   ]
  },
  {
   "cell_type": "code",
   "execution_count": 19,
   "metadata": {
    "colab": {
     "base_uri": "https://localhost:8080/",
     "height": 130
    },
    "id": "vb__zAXrIHPR",
    "outputId": "66006215-decf-41e8-a45f-537f82d45ac3"
   },
   "outputs": [
    {
     "data": {
      "text/html": [
       "<div>\n",
       "<style scoped>\n",
       "    .dataframe tbody tr th:only-of-type {\n",
       "        vertical-align: middle;\n",
       "    }\n",
       "\n",
       "    .dataframe tbody tr th {\n",
       "        vertical-align: top;\n",
       "    }\n",
       "\n",
       "    .dataframe thead th {\n",
       "        text-align: right;\n",
       "    }\n",
       "</style>\n",
       "<table border=\"1\" class=\"dataframe\">\n",
       "  <thead>\n",
       "    <tr style=\"text-align: right;\">\n",
       "      <th></th>\n",
       "      <th>readmit30</th>\n",
       "      <th>ed_visits</th>\n",
       "    </tr>\n",
       "  </thead>\n",
       "  <tbody>\n",
       "    <tr>\n",
       "      <th>readmit30</th>\n",
       "      <td>1.00000</td>\n",
       "      <td>0.15933</td>\n",
       "    </tr>\n",
       "    <tr>\n",
       "      <th>ed_visits</th>\n",
       "      <td>0.15933</td>\n",
       "      <td>1.00000</td>\n",
       "    </tr>\n",
       "  </tbody>\n",
       "</table>\n",
       "</div>"
      ],
      "text/plain": [
       "           readmit30  ed_visits\n",
       "readmit30    1.00000    0.15933\n",
       "ed_visits    0.15933    1.00000"
      ]
     },
     "execution_count": 19,
     "metadata": {},
     "output_type": "execute_result"
    }
   ],
   "source": [
    "# Correlation between readmission and emergency visits \n",
    "df1[['readmit30','ed_visits']].corr()"
   ]
  },
  {
   "cell_type": "code",
   "execution_count": 20,
   "metadata": {
    "colab": {
     "base_uri": "https://localhost:8080/",
     "height": 130
    },
    "id": "1quZWGHeHA2j",
    "outputId": "d3147c00-0f89-4106-ebf0-fc9c413ed25b"
   },
   "outputs": [
    {
     "data": {
      "text/html": [
       "<div>\n",
       "<style scoped>\n",
       "    .dataframe tbody tr th:only-of-type {\n",
       "        vertical-align: middle;\n",
       "    }\n",
       "\n",
       "    .dataframe tbody tr th {\n",
       "        vertical-align: top;\n",
       "    }\n",
       "\n",
       "    .dataframe thead th {\n",
       "        text-align: right;\n",
       "    }\n",
       "</style>\n",
       "<table border=\"1\" class=\"dataframe\">\n",
       "  <thead>\n",
       "    <tr style=\"text-align: right;\">\n",
       "      <th></th>\n",
       "      <th>readmit30</th>\n",
       "      <th>APRDRG</th>\n",
       "    </tr>\n",
       "  </thead>\n",
       "  <tbody>\n",
       "    <tr>\n",
       "      <th>readmit30</th>\n",
       "      <td>1.000000</td>\n",
       "      <td>0.075466</td>\n",
       "    </tr>\n",
       "    <tr>\n",
       "      <th>APRDRG</th>\n",
       "      <td>0.075466</td>\n",
       "      <td>1.000000</td>\n",
       "    </tr>\n",
       "  </tbody>\n",
       "</table>\n",
       "</div>"
      ],
      "text/plain": [
       "           readmit30    APRDRG\n",
       "readmit30   1.000000  0.075466\n",
       "APRDRG      0.075466  1.000000"
      ]
     },
     "execution_count": 20,
     "metadata": {},
     "output_type": "execute_result"
    }
   ],
   "source": [
    "# Correlation between readmission and APRDRG\n",
    "df1[['readmit30','APRDRG']].corr()"
   ]
  },
  {
   "cell_type": "code",
   "execution_count": 21,
   "metadata": {
    "colab": {
     "base_uri": "https://localhost:8080/",
     "height": 130
    },
    "id": "122-JkcuIHyd",
    "outputId": "c5aaadd1-44b4-437c-d0ac-2ca879aaf789"
   },
   "outputs": [
    {
     "data": {
      "text/html": [
       "<div>\n",
       "<style scoped>\n",
       "    .dataframe tbody tr th:only-of-type {\n",
       "        vertical-align: middle;\n",
       "    }\n",
       "\n",
       "    .dataframe tbody tr th {\n",
       "        vertical-align: top;\n",
       "    }\n",
       "\n",
       "    .dataframe thead th {\n",
       "        text-align: right;\n",
       "    }\n",
       "</style>\n",
       "<table border=\"1\" class=\"dataframe\">\n",
       "  <thead>\n",
       "    <tr style=\"text-align: right;\">\n",
       "      <th></th>\n",
       "      <th>readmit30</th>\n",
       "      <th>bmi</th>\n",
       "    </tr>\n",
       "  </thead>\n",
       "  <tbody>\n",
       "    <tr>\n",
       "      <th>readmit30</th>\n",
       "      <td>1.000000</td>\n",
       "      <td>0.006497</td>\n",
       "    </tr>\n",
       "    <tr>\n",
       "      <th>bmi</th>\n",
       "      <td>0.006497</td>\n",
       "      <td>1.000000</td>\n",
       "    </tr>\n",
       "  </tbody>\n",
       "</table>\n",
       "</div>"
      ],
      "text/plain": [
       "           readmit30       bmi\n",
       "readmit30   1.000000  0.006497\n",
       "bmi         0.006497  1.000000"
      ]
     },
     "execution_count": 21,
     "metadata": {},
     "output_type": "execute_result"
    }
   ],
   "source": [
    "# Correlation between readmission and bmi\n",
    "df1[['readmit30','bmi']].corr()"
   ]
  },
  {
   "cell_type": "code",
   "execution_count": 22,
   "metadata": {
    "colab": {
     "base_uri": "https://localhost:8080/",
     "height": 130
    },
    "id": "83RcwyfWIHrD",
    "outputId": "8f50810b-e3ec-4613-fd8e-b1fdb961e9f1"
   },
   "outputs": [
    {
     "data": {
      "text/html": [
       "<div>\n",
       "<style scoped>\n",
       "    .dataframe tbody tr th:only-of-type {\n",
       "        vertical-align: middle;\n",
       "    }\n",
       "\n",
       "    .dataframe tbody tr th {\n",
       "        vertical-align: top;\n",
       "    }\n",
       "\n",
       "    .dataframe thead th {\n",
       "        text-align: right;\n",
       "    }\n",
       "</style>\n",
       "<table border=\"1\" class=\"dataframe\">\n",
       "  <thead>\n",
       "    <tr style=\"text-align: right;\">\n",
       "      <th></th>\n",
       "      <th>readmit30</th>\n",
       "      <th>age</th>\n",
       "    </tr>\n",
       "  </thead>\n",
       "  <tbody>\n",
       "    <tr>\n",
       "      <th>readmit30</th>\n",
       "      <td>1.000000</td>\n",
       "      <td>0.033746</td>\n",
       "    </tr>\n",
       "    <tr>\n",
       "      <th>age</th>\n",
       "      <td>0.033746</td>\n",
       "      <td>1.000000</td>\n",
       "    </tr>\n",
       "  </tbody>\n",
       "</table>\n",
       "</div>"
      ],
      "text/plain": [
       "           readmit30       age\n",
       "readmit30   1.000000  0.033746\n",
       "age         0.033746  1.000000"
      ]
     },
     "execution_count": 22,
     "metadata": {},
     "output_type": "execute_result"
    }
   ],
   "source": [
    "# Correlation between readmission and age\n",
    "df1[['readmit30','age']].corr()"
   ]
  },
  {
   "cell_type": "code",
   "execution_count": 23,
   "metadata": {
    "colab": {
     "base_uri": "https://localhost:8080/",
     "height": 130
    },
    "id": "2jQGW2XbIHju",
    "outputId": "5009d4e8-7f5f-439c-b067-6ccdea554713"
   },
   "outputs": [
    {
     "data": {
      "text/html": [
       "<div>\n",
       "<style scoped>\n",
       "    .dataframe tbody tr th:only-of-type {\n",
       "        vertical-align: middle;\n",
       "    }\n",
       "\n",
       "    .dataframe tbody tr th {\n",
       "        vertical-align: top;\n",
       "    }\n",
       "\n",
       "    .dataframe thead th {\n",
       "        text-align: right;\n",
       "    }\n",
       "</style>\n",
       "<table border=\"1\" class=\"dataframe\">\n",
       "  <thead>\n",
       "    <tr style=\"text-align: right;\">\n",
       "      <th></th>\n",
       "      <th>readmit30</th>\n",
       "      <th>sex</th>\n",
       "    </tr>\n",
       "  </thead>\n",
       "  <tbody>\n",
       "    <tr>\n",
       "      <th>readmit30</th>\n",
       "      <td>1.000000</td>\n",
       "      <td>-0.013748</td>\n",
       "    </tr>\n",
       "    <tr>\n",
       "      <th>sex</th>\n",
       "      <td>-0.013748</td>\n",
       "      <td>1.000000</td>\n",
       "    </tr>\n",
       "  </tbody>\n",
       "</table>\n",
       "</div>"
      ],
      "text/plain": [
       "           readmit30       sex\n",
       "readmit30   1.000000 -0.013748\n",
       "sex        -0.013748  1.000000"
      ]
     },
     "execution_count": 23,
     "metadata": {},
     "output_type": "execute_result"
    }
   ],
   "source": [
    "# Correlation between readmission and gender \n",
    "df1[['readmit30','sex']].corr()"
   ]
  },
  {
   "cell_type": "code",
   "execution_count": 24,
   "metadata": {
    "colab": {
     "base_uri": "https://localhost:8080/",
     "height": 130
    },
    "id": "aE2ngb2kITWi",
    "outputId": "4fd6efdc-16f8-4d93-c968-3d14f84fa3f8"
   },
   "outputs": [
    {
     "data": {
      "text/html": [
       "<div>\n",
       "<style scoped>\n",
       "    .dataframe tbody tr th:only-of-type {\n",
       "        vertical-align: middle;\n",
       "    }\n",
       "\n",
       "    .dataframe tbody tr th {\n",
       "        vertical-align: top;\n",
       "    }\n",
       "\n",
       "    .dataframe thead th {\n",
       "        text-align: right;\n",
       "    }\n",
       "</style>\n",
       "<table border=\"1\" class=\"dataframe\">\n",
       "  <thead>\n",
       "    <tr style=\"text-align: right;\">\n",
       "      <th></th>\n",
       "      <th>readmit30</th>\n",
       "      <th>meds_cardio_agents</th>\n",
       "    </tr>\n",
       "  </thead>\n",
       "  <tbody>\n",
       "    <tr>\n",
       "      <th>readmit30</th>\n",
       "      <td>1.000000</td>\n",
       "      <td>0.098236</td>\n",
       "    </tr>\n",
       "    <tr>\n",
       "      <th>meds_cardio_agents</th>\n",
       "      <td>0.098236</td>\n",
       "      <td>1.000000</td>\n",
       "    </tr>\n",
       "  </tbody>\n",
       "</table>\n",
       "</div>"
      ],
      "text/plain": [
       "                    readmit30  meds_cardio_agents\n",
       "readmit30            1.000000            0.098236\n",
       "meds_cardio_agents   0.098236            1.000000"
      ]
     },
     "execution_count": 24,
     "metadata": {},
     "output_type": "execute_result"
    }
   ],
   "source": [
    "# Correlation between readmission and cardio agent medications administered\n",
    "df1[['readmit30','meds_cardio_agents']].corr()"
   ]
  },
  {
   "cell_type": "code",
   "execution_count": 25,
   "metadata": {
    "colab": {
     "base_uri": "https://localhost:8080/",
     "height": 130
    },
    "id": "lEIFq1rYITNz",
    "outputId": "4bcf96ed-c866-4b5c-8fbd-8a1ffdf84e70"
   },
   "outputs": [
    {
     "data": {
      "text/html": [
       "<div>\n",
       "<style scoped>\n",
       "    .dataframe tbody tr th:only-of-type {\n",
       "        vertical-align: middle;\n",
       "    }\n",
       "\n",
       "    .dataframe tbody tr th {\n",
       "        vertical-align: top;\n",
       "    }\n",
       "\n",
       "    .dataframe thead th {\n",
       "        text-align: right;\n",
       "    }\n",
       "</style>\n",
       "<table border=\"1\" class=\"dataframe\">\n",
       "  <thead>\n",
       "    <tr style=\"text-align: right;\">\n",
       "      <th></th>\n",
       "      <th>readmit30</th>\n",
       "      <th>glucose</th>\n",
       "    </tr>\n",
       "  </thead>\n",
       "  <tbody>\n",
       "    <tr>\n",
       "      <th>readmit30</th>\n",
       "      <td>1.0000</td>\n",
       "      <td>0.0307</td>\n",
       "    </tr>\n",
       "    <tr>\n",
       "      <th>glucose</th>\n",
       "      <td>0.0307</td>\n",
       "      <td>1.0000</td>\n",
       "    </tr>\n",
       "  </tbody>\n",
       "</table>\n",
       "</div>"
      ],
      "text/plain": [
       "           readmit30  glucose\n",
       "readmit30     1.0000   0.0307\n",
       "glucose       0.0307   1.0000"
      ]
     },
     "execution_count": 25,
     "metadata": {},
     "output_type": "execute_result"
    }
   ],
   "source": [
    "# Correlation between readmission and glucose value\n",
    "df1[['readmit30','glucose']].corr()"
   ]
  },
  {
   "cell_type": "code",
   "execution_count": 26,
   "metadata": {
    "colab": {
     "base_uri": "https://localhost:8080/",
     "height": 130
    },
    "id": "8nGok77ELdVC",
    "outputId": "2aeab2e5-7428-41e7-f005-1e91cc093668"
   },
   "outputs": [
    {
     "data": {
      "text/html": [
       "<div>\n",
       "<style scoped>\n",
       "    .dataframe tbody tr th:only-of-type {\n",
       "        vertical-align: middle;\n",
       "    }\n",
       "\n",
       "    .dataframe tbody tr th {\n",
       "        vertical-align: top;\n",
       "    }\n",
       "\n",
       "    .dataframe thead th {\n",
       "        text-align: right;\n",
       "    }\n",
       "</style>\n",
       "<table border=\"1\" class=\"dataframe\">\n",
       "  <thead>\n",
       "    <tr style=\"text-align: right;\">\n",
       "      <th></th>\n",
       "      <th>readmit30</th>\n",
       "      <th>creatinine</th>\n",
       "    </tr>\n",
       "  </thead>\n",
       "  <tbody>\n",
       "    <tr>\n",
       "      <th>readmit30</th>\n",
       "      <td>1.000000</td>\n",
       "      <td>0.077369</td>\n",
       "    </tr>\n",
       "    <tr>\n",
       "      <th>creatinine</th>\n",
       "      <td>0.077369</td>\n",
       "      <td>1.000000</td>\n",
       "    </tr>\n",
       "  </tbody>\n",
       "</table>\n",
       "</div>"
      ],
      "text/plain": [
       "            readmit30  creatinine\n",
       "readmit30    1.000000    0.077369\n",
       "creatinine   0.077369    1.000000"
      ]
     },
     "execution_count": 26,
     "metadata": {},
     "output_type": "execute_result"
    }
   ],
   "source": [
    "# Correlation between readmission and creatinine\n",
    "df1[['readmit30','creatinine']].corr()"
   ]
  },
  {
   "cell_type": "code",
   "execution_count": 27,
   "metadata": {
    "colab": {
     "base_uri": "https://localhost:8080/",
     "height": 130
    },
    "id": "aTrmtYGhLdGr",
    "outputId": "61c72980-040c-4470-903a-18ad4ed2f32c"
   },
   "outputs": [
    {
     "data": {
      "text/html": [
       "<div>\n",
       "<style scoped>\n",
       "    .dataframe tbody tr th:only-of-type {\n",
       "        vertical-align: middle;\n",
       "    }\n",
       "\n",
       "    .dataframe tbody tr th {\n",
       "        vertical-align: top;\n",
       "    }\n",
       "\n",
       "    .dataframe thead th {\n",
       "        text-align: right;\n",
       "    }\n",
       "</style>\n",
       "<table border=\"1\" class=\"dataframe\">\n",
       "  <thead>\n",
       "    <tr style=\"text-align: right;\">\n",
       "      <th></th>\n",
       "      <th>readmit30</th>\n",
       "      <th>LACE_Score</th>\n",
       "    </tr>\n",
       "  </thead>\n",
       "  <tbody>\n",
       "    <tr>\n",
       "      <th>readmit30</th>\n",
       "      <td>1.000000</td>\n",
       "      <td>0.090413</td>\n",
       "    </tr>\n",
       "    <tr>\n",
       "      <th>LACE_Score</th>\n",
       "      <td>0.090413</td>\n",
       "      <td>1.000000</td>\n",
       "    </tr>\n",
       "  </tbody>\n",
       "</table>\n",
       "</div>"
      ],
      "text/plain": [
       "            readmit30  LACE_Score\n",
       "readmit30    1.000000    0.090413\n",
       "LACE_Score   0.090413    1.000000"
      ]
     },
     "execution_count": 27,
     "metadata": {},
     "output_type": "execute_result"
    }
   ],
   "source": [
    "# Correlation between readmission and LACE Score\n",
    "df1[['readmit30','LACE_Score']].corr()"
   ]
  },
  {
   "cell_type": "code",
   "execution_count": 28,
   "metadata": {
    "colab": {
     "base_uri": "https://localhost:8080/",
     "height": 130
    },
    "id": "sM-SD3wGnwdw",
    "outputId": "ceb41377-de94-438e-f19b-ffe602fd764c"
   },
   "outputs": [
    {
     "data": {
      "text/html": [
       "<div>\n",
       "<style scoped>\n",
       "    .dataframe tbody tr th:only-of-type {\n",
       "        vertical-align: middle;\n",
       "    }\n",
       "\n",
       "    .dataframe tbody tr th {\n",
       "        vertical-align: top;\n",
       "    }\n",
       "\n",
       "    .dataframe thead th {\n",
       "        text-align: right;\n",
       "    }\n",
       "</style>\n",
       "<table border=\"1\" class=\"dataframe\">\n",
       "  <thead>\n",
       "    <tr style=\"text-align: right;\">\n",
       "      <th></th>\n",
       "      <th>readmit30</th>\n",
       "      <th>care_plan_costs</th>\n",
       "    </tr>\n",
       "  </thead>\n",
       "  <tbody>\n",
       "    <tr>\n",
       "      <th>readmit30</th>\n",
       "      <td>1.000000</td>\n",
       "      <td>0.078163</td>\n",
       "    </tr>\n",
       "    <tr>\n",
       "      <th>care_plan_costs</th>\n",
       "      <td>0.078163</td>\n",
       "      <td>1.000000</td>\n",
       "    </tr>\n",
       "  </tbody>\n",
       "</table>\n",
       "</div>"
      ],
      "text/plain": [
       "                 readmit30  care_plan_costs\n",
       "readmit30         1.000000         0.078163\n",
       "care_plan_costs   0.078163         1.000000"
      ]
     },
     "execution_count": 28,
     "metadata": {},
     "output_type": "execute_result"
    }
   ],
   "source": [
    "# Correlation between readmission and care plan costs\n",
    "df1[['readmit30','care_plan_costs']].corr()"
   ]
  },
  {
   "cell_type": "code",
   "execution_count": 29,
   "metadata": {
    "id": "E-52jFAeAGiR",
    "scrolled": true
   },
   "outputs": [
    {
     "data": {
      "text/html": [
       "<div>\n",
       "<style scoped>\n",
       "    .dataframe tbody tr th:only-of-type {\n",
       "        vertical-align: middle;\n",
       "    }\n",
       "\n",
       "    .dataframe tbody tr th {\n",
       "        vertical-align: top;\n",
       "    }\n",
       "\n",
       "    .dataframe thead th {\n",
       "        text-align: right;\n",
       "    }\n",
       "</style>\n",
       "<table border=\"1\" class=\"dataframe\">\n",
       "  <thead>\n",
       "    <tr style=\"text-align: right;\">\n",
       "      <th></th>\n",
       "      <th>depression</th>\n",
       "      <th>sex</th>\n",
       "      <th>ethnic_group_c</th>\n",
       "      <th>icu_yn</th>\n",
       "      <th>drugabuse</th>\n",
       "      <th>mooddisorder</th>\n",
       "      <th>diabetes</th>\n",
       "      <th>anxiety</th>\n",
       "      <th>obesity</th>\n",
       "      <th>dementia</th>\n",
       "      <th>persmentaldis</th>\n",
       "      <th>age</th>\n",
       "      <th>bmi</th>\n",
       "      <th>bp_diastolic</th>\n",
       "      <th>bp_systolic</th>\n",
       "      <th>pulse</th>\n",
       "      <th>temperature</th>\n",
       "      <th>respirations</th>\n",
       "      <th>pat_pain_score_c</th>\n",
       "      <th>ed_visits</th>\n",
       "      <th>ip_visits</th>\n",
       "      <th>chronic_conditions</th>\n",
       "      <th>meds_cardio_agents</th>\n",
       "      <th>meds_nutrition</th>\n",
       "      <th>meds_central_nervous_system</th>\n",
       "      <th>meds_hematologial</th>\n",
       "      <th>meds_neuromuscular</th>\n",
       "      <th>meds_gastro</th>\n",
       "      <th>meds_infective</th>\n",
       "      <th>meds_neoplastic</th>\n",
       "      <th>meds_anesthetics</th>\n",
       "      <th>meds_endocrine</th>\n",
       "      <th>meds_respiratory</th>\n",
       "      <th>meds_topical</th>\n",
       "      <th>meds_biological</th>\n",
       "      <th>meds_misc</th>\n",
       "      <th>meds_genitourinary</th>\n",
       "      <th>calcium</th>\n",
       "      <th>creatinine</th>\n",
       "      <th>glucose</th>\n",
       "      <th>wbc</th>\n",
       "      <th>potassium</th>\n",
       "      <th>sodium</th>\n",
       "      <th>artbloodgas</th>\n",
       "      <th>hemoglobin</th>\n",
       "      <th>chest_tube</th>\n",
       "      <th>vent</th>\n",
       "      <th>los</th>\n",
       "      <th>LACE_Score</th>\n",
       "      <th>readmit30</th>\n",
       "      <th>APRDRG</th>\n",
       "      <th>cost_of_initial_stay</th>\n",
       "      <th>care_plan_costs</th>\n",
       "    </tr>\n",
       "  </thead>\n",
       "  <tbody>\n",
       "    <tr>\n",
       "      <th>readmit30</th>\n",
       "      <td>0.003811</td>\n",
       "      <td>-0.013748</td>\n",
       "      <td>0.009616</td>\n",
       "      <td>0.017386</td>\n",
       "      <td>-0.008744</td>\n",
       "      <td>0.028681</td>\n",
       "      <td>0.027540</td>\n",
       "      <td>0.036794</td>\n",
       "      <td>0.020752</td>\n",
       "      <td>0.037844</td>\n",
       "      <td>-0.007421</td>\n",
       "      <td>0.033746</td>\n",
       "      <td>0.006497</td>\n",
       "      <td>-0.035563</td>\n",
       "      <td>-0.018065</td>\n",
       "      <td>0.033320</td>\n",
       "      <td>-0.016036</td>\n",
       "      <td>0.016598</td>\n",
       "      <td>0.037867</td>\n",
       "      <td>0.159330</td>\n",
       "      <td>0.055267</td>\n",
       "      <td>0.094828</td>\n",
       "      <td>0.098236</td>\n",
       "      <td>0.062124</td>\n",
       "      <td>0.030917</td>\n",
       "      <td>0.086311</td>\n",
       "      <td>0.037460</td>\n",
       "      <td>0.054289</td>\n",
       "      <td>-0.005331</td>\n",
       "      <td>-0.004555</td>\n",
       "      <td>0.038858</td>\n",
       "      <td>0.077657</td>\n",
       "      <td>0.040332</td>\n",
       "      <td>0.052009</td>\n",
       "      <td>-0.038792</td>\n",
       "      <td>0.033288</td>\n",
       "      <td>0.006928</td>\n",
       "      <td>0.009186</td>\n",
       "      <td>0.077369</td>\n",
       "      <td>0.030700</td>\n",
       "      <td>-0.005594</td>\n",
       "      <td>0.070885</td>\n",
       "      <td>-0.016042</td>\n",
       "      <td>0.041182</td>\n",
       "      <td>-0.102246</td>\n",
       "      <td>0.009624</td>\n",
       "      <td>0.001161</td>\n",
       "      <td>0.074700</td>\n",
       "      <td>0.090413</td>\n",
       "      <td>1.000000</td>\n",
       "      <td>0.075466</td>\n",
       "      <td>0.088671</td>\n",
       "      <td>0.078163</td>\n",
       "    </tr>\n",
       "    <tr>\n",
       "      <th>ed_visits</th>\n",
       "      <td>0.054762</td>\n",
       "      <td>0.034951</td>\n",
       "      <td>0.018871</td>\n",
       "      <td>-0.017417</td>\n",
       "      <td>0.042946</td>\n",
       "      <td>0.032881</td>\n",
       "      <td>0.028425</td>\n",
       "      <td>0.075568</td>\n",
       "      <td>0.073921</td>\n",
       "      <td>0.069151</td>\n",
       "      <td>-0.002512</td>\n",
       "      <td>-0.066784</td>\n",
       "      <td>0.038705</td>\n",
       "      <td>-0.027267</td>\n",
       "      <td>-0.014346</td>\n",
       "      <td>-0.008093</td>\n",
       "      <td>-0.033867</td>\n",
       "      <td>-0.001448</td>\n",
       "      <td>0.139228</td>\n",
       "      <td>1.000000</td>\n",
       "      <td>0.092118</td>\n",
       "      <td>0.231113</td>\n",
       "      <td>0.027847</td>\n",
       "      <td>0.005908</td>\n",
       "      <td>0.097799</td>\n",
       "      <td>0.056788</td>\n",
       "      <td>0.104811</td>\n",
       "      <td>0.058853</td>\n",
       "      <td>-0.011496</td>\n",
       "      <td>-0.023620</td>\n",
       "      <td>0.031801</td>\n",
       "      <td>0.087388</td>\n",
       "      <td>0.051358</td>\n",
       "      <td>0.055901</td>\n",
       "      <td>-0.046434</td>\n",
       "      <td>0.009645</td>\n",
       "      <td>0.023792</td>\n",
       "      <td>-0.029635</td>\n",
       "      <td>0.059340</td>\n",
       "      <td>0.042088</td>\n",
       "      <td>-0.054911</td>\n",
       "      <td>0.067627</td>\n",
       "      <td>0.047034</td>\n",
       "      <td>0.034133</td>\n",
       "      <td>-0.146633</td>\n",
       "      <td>-0.019367</td>\n",
       "      <td>-0.008247</td>\n",
       "      <td>0.011831</td>\n",
       "      <td>0.497842</td>\n",
       "      <td>0.159330</td>\n",
       "      <td>0.090960</td>\n",
       "      <td>0.028616</td>\n",
       "      <td>0.059282</td>\n",
       "    </tr>\n",
       "    <tr>\n",
       "      <th>meds_cardio_agents</th>\n",
       "      <td>-0.022398</td>\n",
       "      <td>-0.047576</td>\n",
       "      <td>0.018919</td>\n",
       "      <td>0.053695</td>\n",
       "      <td>-0.009604</td>\n",
       "      <td>-0.014822</td>\n",
       "      <td>0.019027</td>\n",
       "      <td>0.064205</td>\n",
       "      <td>0.064778</td>\n",
       "      <td>0.021858</td>\n",
       "      <td>-0.011353</td>\n",
       "      <td>0.130280</td>\n",
       "      <td>0.116135</td>\n",
       "      <td>-0.123055</td>\n",
       "      <td>-0.054162</td>\n",
       "      <td>-0.128991</td>\n",
       "      <td>-0.039026</td>\n",
       "      <td>-0.001782</td>\n",
       "      <td>-0.060752</td>\n",
       "      <td>0.027847</td>\n",
       "      <td>0.044594</td>\n",
       "      <td>0.177087</td>\n",
       "      <td>1.000000</td>\n",
       "      <td>0.226169</td>\n",
       "      <td>0.001448</td>\n",
       "      <td>0.360655</td>\n",
       "      <td>0.004449</td>\n",
       "      <td>0.066044</td>\n",
       "      <td>-0.286878</td>\n",
       "      <td>-0.002632</td>\n",
       "      <td>0.079357</td>\n",
       "      <td>0.145601</td>\n",
       "      <td>-0.066777</td>\n",
       "      <td>0.065194</td>\n",
       "      <td>-0.026989</td>\n",
       "      <td>0.131016</td>\n",
       "      <td>0.028227</td>\n",
       "      <td>0.011796</td>\n",
       "      <td>0.268934</td>\n",
       "      <td>0.095462</td>\n",
       "      <td>-0.146814</td>\n",
       "      <td>0.124038</td>\n",
       "      <td>0.055933</td>\n",
       "      <td>0.051611</td>\n",
       "      <td>-0.132821</td>\n",
       "      <td>0.018782</td>\n",
       "      <td>0.057699</td>\n",
       "      <td>0.317339</td>\n",
       "      <td>0.161180</td>\n",
       "      <td>0.098236</td>\n",
       "      <td>0.573528</td>\n",
       "      <td>0.298240</td>\n",
       "      <td>0.101889</td>\n",
       "    </tr>\n",
       "    <tr>\n",
       "      <th>chronic_conditions</th>\n",
       "      <td>0.164016</td>\n",
       "      <td>0.050321</td>\n",
       "      <td>0.029073</td>\n",
       "      <td>-0.042040</td>\n",
       "      <td>0.007643</td>\n",
       "      <td>0.014058</td>\n",
       "      <td>0.045970</td>\n",
       "      <td>0.159436</td>\n",
       "      <td>0.100428</td>\n",
       "      <td>0.084830</td>\n",
       "      <td>-0.009232</td>\n",
       "      <td>0.070213</td>\n",
       "      <td>0.134663</td>\n",
       "      <td>-0.065511</td>\n",
       "      <td>-0.020972</td>\n",
       "      <td>-0.063111</td>\n",
       "      <td>0.006799</td>\n",
       "      <td>-0.001965</td>\n",
       "      <td>0.115680</td>\n",
       "      <td>0.231113</td>\n",
       "      <td>0.061168</td>\n",
       "      <td>1.000000</td>\n",
       "      <td>0.177087</td>\n",
       "      <td>0.016427</td>\n",
       "      <td>0.019594</td>\n",
       "      <td>0.153161</td>\n",
       "      <td>0.111899</td>\n",
       "      <td>0.022705</td>\n",
       "      <td>-0.058699</td>\n",
       "      <td>-0.019398</td>\n",
       "      <td>0.005407</td>\n",
       "      <td>0.155671</td>\n",
       "      <td>0.034771</td>\n",
       "      <td>0.049840</td>\n",
       "      <td>-0.067991</td>\n",
       "      <td>0.019519</td>\n",
       "      <td>0.027632</td>\n",
       "      <td>0.025580</td>\n",
       "      <td>0.125043</td>\n",
       "      <td>0.059797</td>\n",
       "      <td>-0.049220</td>\n",
       "      <td>0.062375</td>\n",
       "      <td>0.021043</td>\n",
       "      <td>0.094901</td>\n",
       "      <td>-0.123166</td>\n",
       "      <td>0.001924</td>\n",
       "      <td>-0.010886</td>\n",
       "      <td>0.036503</td>\n",
       "      <td>0.120844</td>\n",
       "      <td>0.094828</td>\n",
       "      <td>0.169934</td>\n",
       "      <td>0.049048</td>\n",
       "      <td>0.054017</td>\n",
       "    </tr>\n",
       "    <tr>\n",
       "      <th>LACE_Score</th>\n",
       "      <td>0.018866</td>\n",
       "      <td>0.033367</td>\n",
       "      <td>0.019441</td>\n",
       "      <td>-0.047704</td>\n",
       "      <td>0.042859</td>\n",
       "      <td>0.024754</td>\n",
       "      <td>0.023083</td>\n",
       "      <td>0.063780</td>\n",
       "      <td>0.042015</td>\n",
       "      <td>0.052612</td>\n",
       "      <td>-0.014583</td>\n",
       "      <td>0.043763</td>\n",
       "      <td>0.007707</td>\n",
       "      <td>-0.052909</td>\n",
       "      <td>-0.017245</td>\n",
       "      <td>0.003160</td>\n",
       "      <td>-0.002781</td>\n",
       "      <td>0.018240</td>\n",
       "      <td>0.035937</td>\n",
       "      <td>0.497842</td>\n",
       "      <td>0.024163</td>\n",
       "      <td>0.120844</td>\n",
       "      <td>0.161180</td>\n",
       "      <td>0.169544</td>\n",
       "      <td>0.107344</td>\n",
       "      <td>0.144286</td>\n",
       "      <td>0.076607</td>\n",
       "      <td>0.137919</td>\n",
       "      <td>0.076559</td>\n",
       "      <td>-0.006836</td>\n",
       "      <td>0.118532</td>\n",
       "      <td>0.139813</td>\n",
       "      <td>0.134196</td>\n",
       "      <td>0.114798</td>\n",
       "      <td>-0.024868</td>\n",
       "      <td>0.088750</td>\n",
       "      <td>0.033474</td>\n",
       "      <td>-0.026156</td>\n",
       "      <td>0.103346</td>\n",
       "      <td>0.055372</td>\n",
       "      <td>-0.003035</td>\n",
       "      <td>0.117382</td>\n",
       "      <td>0.034136</td>\n",
       "      <td>0.069037</td>\n",
       "      <td>-0.129632</td>\n",
       "      <td>0.024299</td>\n",
       "      <td>0.033746</td>\n",
       "      <td>0.388995</td>\n",
       "      <td>1.000000</td>\n",
       "      <td>0.090413</td>\n",
       "      <td>0.086181</td>\n",
       "      <td>0.334552</td>\n",
       "      <td>0.186448</td>\n",
       "    </tr>\n",
       "    <tr>\n",
       "      <th>cost_of_initial_stay</th>\n",
       "      <td>0.017794</td>\n",
       "      <td>-0.005324</td>\n",
       "      <td>0.014409</td>\n",
       "      <td>0.126772</td>\n",
       "      <td>0.007316</td>\n",
       "      <td>0.011128</td>\n",
       "      <td>0.009247</td>\n",
       "      <td>0.046874</td>\n",
       "      <td>0.023097</td>\n",
       "      <td>0.005087</td>\n",
       "      <td>-0.009768</td>\n",
       "      <td>-0.000251</td>\n",
       "      <td>0.025455</td>\n",
       "      <td>-0.077317</td>\n",
       "      <td>-0.041368</td>\n",
       "      <td>0.047775</td>\n",
       "      <td>0.024029</td>\n",
       "      <td>0.082236</td>\n",
       "      <td>-0.013926</td>\n",
       "      <td>0.028616</td>\n",
       "      <td>0.087089</td>\n",
       "      <td>0.049048</td>\n",
       "      <td>0.298240</td>\n",
       "      <td>0.444703</td>\n",
       "      <td>0.257852</td>\n",
       "      <td>0.301549</td>\n",
       "      <td>0.094753</td>\n",
       "      <td>0.296825</td>\n",
       "      <td>0.187497</td>\n",
       "      <td>0.062126</td>\n",
       "      <td>0.355498</td>\n",
       "      <td>0.260068</td>\n",
       "      <td>0.280865</td>\n",
       "      <td>0.296215</td>\n",
       "      <td>0.015238</td>\n",
       "      <td>0.249333</td>\n",
       "      <td>0.041865</td>\n",
       "      <td>-0.070943</td>\n",
       "      <td>0.134600</td>\n",
       "      <td>0.069655</td>\n",
       "      <td>0.050797</td>\n",
       "      <td>0.110167</td>\n",
       "      <td>-0.066906</td>\n",
       "      <td>0.124661</td>\n",
       "      <td>-0.143840</td>\n",
       "      <td>0.207267</td>\n",
       "      <td>0.286838</td>\n",
       "      <td>0.806326</td>\n",
       "      <td>0.334552</td>\n",
       "      <td>0.088671</td>\n",
       "      <td>0.007348</td>\n",
       "      <td>1.000000</td>\n",
       "      <td>0.227223</td>\n",
       "    </tr>\n",
       "    <tr>\n",
       "      <th>meds_hematologial</th>\n",
       "      <td>0.000763</td>\n",
       "      <td>-0.026104</td>\n",
       "      <td>0.023200</td>\n",
       "      <td>0.030245</td>\n",
       "      <td>-0.020571</td>\n",
       "      <td>-0.007562</td>\n",
       "      <td>0.013996</td>\n",
       "      <td>0.035694</td>\n",
       "      <td>0.029714</td>\n",
       "      <td>0.017017</td>\n",
       "      <td>-0.000415</td>\n",
       "      <td>0.107928</td>\n",
       "      <td>0.040978</td>\n",
       "      <td>-0.108191</td>\n",
       "      <td>-0.074000</td>\n",
       "      <td>-0.034383</td>\n",
       "      <td>-0.005638</td>\n",
       "      <td>-0.002641</td>\n",
       "      <td>-0.013469</td>\n",
       "      <td>0.056788</td>\n",
       "      <td>0.066697</td>\n",
       "      <td>0.153161</td>\n",
       "      <td>0.360655</td>\n",
       "      <td>0.239750</td>\n",
       "      <td>0.035088</td>\n",
       "      <td>1.000000</td>\n",
       "      <td>0.014927</td>\n",
       "      <td>0.149142</td>\n",
       "      <td>-0.028470</td>\n",
       "      <td>0.018350</td>\n",
       "      <td>0.117238</td>\n",
       "      <td>0.115746</td>\n",
       "      <td>0.015456</td>\n",
       "      <td>0.104459</td>\n",
       "      <td>-0.039315</td>\n",
       "      <td>0.130510</td>\n",
       "      <td>0.042435</td>\n",
       "      <td>-0.024553</td>\n",
       "      <td>0.219198</td>\n",
       "      <td>0.029882</td>\n",
       "      <td>-0.069050</td>\n",
       "      <td>0.090507</td>\n",
       "      <td>-0.010298</td>\n",
       "      <td>0.070337</td>\n",
       "      <td>-0.155320</td>\n",
       "      <td>0.042732</td>\n",
       "      <td>0.056504</td>\n",
       "      <td>0.307497</td>\n",
       "      <td>0.144286</td>\n",
       "      <td>0.086311</td>\n",
       "      <td>0.218945</td>\n",
       "      <td>0.301549</td>\n",
       "      <td>0.137094</td>\n",
       "    </tr>\n",
       "  </tbody>\n",
       "</table>\n",
       "</div>"
      ],
      "text/plain": [
       "                      depression       sex  ethnic_group_c    icu_yn  \\\n",
       "readmit30               0.003811 -0.013748        0.009616  0.017386   \n",
       "ed_visits               0.054762  0.034951        0.018871 -0.017417   \n",
       "meds_cardio_agents     -0.022398 -0.047576        0.018919  0.053695   \n",
       "chronic_conditions      0.164016  0.050321        0.029073 -0.042040   \n",
       "LACE_Score              0.018866  0.033367        0.019441 -0.047704   \n",
       "cost_of_initial_stay    0.017794 -0.005324        0.014409  0.126772   \n",
       "meds_hematologial       0.000763 -0.026104        0.023200  0.030245   \n",
       "\n",
       "                      drugabuse  mooddisorder  diabetes   anxiety   obesity  \\\n",
       "readmit30             -0.008744      0.028681  0.027540  0.036794  0.020752   \n",
       "ed_visits              0.042946      0.032881  0.028425  0.075568  0.073921   \n",
       "meds_cardio_agents    -0.009604     -0.014822  0.019027  0.064205  0.064778   \n",
       "chronic_conditions     0.007643      0.014058  0.045970  0.159436  0.100428   \n",
       "LACE_Score             0.042859      0.024754  0.023083  0.063780  0.042015   \n",
       "cost_of_initial_stay   0.007316      0.011128  0.009247  0.046874  0.023097   \n",
       "meds_hematologial     -0.020571     -0.007562  0.013996  0.035694  0.029714   \n",
       "\n",
       "                      dementia  persmentaldis       age       bmi  \\\n",
       "readmit30             0.037844      -0.007421  0.033746  0.006497   \n",
       "ed_visits             0.069151      -0.002512 -0.066784  0.038705   \n",
       "meds_cardio_agents    0.021858      -0.011353  0.130280  0.116135   \n",
       "chronic_conditions    0.084830      -0.009232  0.070213  0.134663   \n",
       "LACE_Score            0.052612      -0.014583  0.043763  0.007707   \n",
       "cost_of_initial_stay  0.005087      -0.009768 -0.000251  0.025455   \n",
       "meds_hematologial     0.017017      -0.000415  0.107928  0.040978   \n",
       "\n",
       "                      bp_diastolic  bp_systolic     pulse  temperature  \\\n",
       "readmit30                -0.035563    -0.018065  0.033320    -0.016036   \n",
       "ed_visits                -0.027267    -0.014346 -0.008093    -0.033867   \n",
       "meds_cardio_agents       -0.123055    -0.054162 -0.128991    -0.039026   \n",
       "chronic_conditions       -0.065511    -0.020972 -0.063111     0.006799   \n",
       "LACE_Score               -0.052909    -0.017245  0.003160    -0.002781   \n",
       "cost_of_initial_stay     -0.077317    -0.041368  0.047775     0.024029   \n",
       "meds_hematologial        -0.108191    -0.074000 -0.034383    -0.005638   \n",
       "\n",
       "                      respirations  pat_pain_score_c  ed_visits  ip_visits  \\\n",
       "readmit30                 0.016598          0.037867   0.159330   0.055267   \n",
       "ed_visits                -0.001448          0.139228   1.000000   0.092118   \n",
       "meds_cardio_agents       -0.001782         -0.060752   0.027847   0.044594   \n",
       "chronic_conditions       -0.001965          0.115680   0.231113   0.061168   \n",
       "LACE_Score                0.018240          0.035937   0.497842   0.024163   \n",
       "cost_of_initial_stay      0.082236         -0.013926   0.028616   0.087089   \n",
       "meds_hematologial        -0.002641         -0.013469   0.056788   0.066697   \n",
       "\n",
       "                      chronic_conditions  meds_cardio_agents  meds_nutrition  \\\n",
       "readmit30                       0.094828            0.098236        0.062124   \n",
       "ed_visits                       0.231113            0.027847        0.005908   \n",
       "meds_cardio_agents              0.177087            1.000000        0.226169   \n",
       "chronic_conditions              1.000000            0.177087        0.016427   \n",
       "LACE_Score                      0.120844            0.161180        0.169544   \n",
       "cost_of_initial_stay            0.049048            0.298240        0.444703   \n",
       "meds_hematologial               0.153161            0.360655        0.239750   \n",
       "\n",
       "                      meds_central_nervous_system  meds_hematologial  \\\n",
       "readmit30                                0.030917           0.086311   \n",
       "ed_visits                                0.097799           0.056788   \n",
       "meds_cardio_agents                       0.001448           0.360655   \n",
       "chronic_conditions                       0.019594           0.153161   \n",
       "LACE_Score                               0.107344           0.144286   \n",
       "cost_of_initial_stay                     0.257852           0.301549   \n",
       "meds_hematologial                        0.035088           1.000000   \n",
       "\n",
       "                      meds_neuromuscular  meds_gastro  meds_infective  \\\n",
       "readmit30                       0.037460     0.054289       -0.005331   \n",
       "ed_visits                       0.104811     0.058853       -0.011496   \n",
       "meds_cardio_agents              0.004449     0.066044       -0.286878   \n",
       "chronic_conditions              0.111899     0.022705       -0.058699   \n",
       "LACE_Score                      0.076607     0.137919        0.076559   \n",
       "cost_of_initial_stay            0.094753     0.296825        0.187497   \n",
       "meds_hematologial               0.014927     0.149142       -0.028470   \n",
       "\n",
       "                      meds_neoplastic  meds_anesthetics  meds_endocrine  \\\n",
       "readmit30                   -0.004555          0.038858        0.077657   \n",
       "ed_visits                   -0.023620          0.031801        0.087388   \n",
       "meds_cardio_agents          -0.002632          0.079357        0.145601   \n",
       "chronic_conditions          -0.019398          0.005407        0.155671   \n",
       "LACE_Score                  -0.006836          0.118532        0.139813   \n",
       "cost_of_initial_stay         0.062126          0.355498        0.260068   \n",
       "meds_hematologial            0.018350          0.117238        0.115746   \n",
       "\n",
       "                      meds_respiratory  meds_topical  meds_biological  \\\n",
       "readmit30                     0.040332      0.052009        -0.038792   \n",
       "ed_visits                     0.051358      0.055901        -0.046434   \n",
       "meds_cardio_agents           -0.066777      0.065194        -0.026989   \n",
       "chronic_conditions            0.034771      0.049840        -0.067991   \n",
       "LACE_Score                    0.134196      0.114798        -0.024868   \n",
       "cost_of_initial_stay          0.280865      0.296215         0.015238   \n",
       "meds_hematologial             0.015456      0.104459        -0.039315   \n",
       "\n",
       "                      meds_misc  meds_genitourinary   calcium  creatinine  \\\n",
       "readmit30              0.033288            0.006928  0.009186    0.077369   \n",
       "ed_visits              0.009645            0.023792 -0.029635    0.059340   \n",
       "meds_cardio_agents     0.131016            0.028227  0.011796    0.268934   \n",
       "chronic_conditions     0.019519            0.027632  0.025580    0.125043   \n",
       "LACE_Score             0.088750            0.033474 -0.026156    0.103346   \n",
       "cost_of_initial_stay   0.249333            0.041865 -0.070943    0.134600   \n",
       "meds_hematologial      0.130510            0.042435 -0.024553    0.219198   \n",
       "\n",
       "                       glucose       wbc  potassium    sodium  artbloodgas  \\\n",
       "readmit30             0.030700 -0.005594   0.070885 -0.016042     0.041182   \n",
       "ed_visits             0.042088 -0.054911   0.067627  0.047034     0.034133   \n",
       "meds_cardio_agents    0.095462 -0.146814   0.124038  0.055933     0.051611   \n",
       "chronic_conditions    0.059797 -0.049220   0.062375  0.021043     0.094901   \n",
       "LACE_Score            0.055372 -0.003035   0.117382  0.034136     0.069037   \n",
       "cost_of_initial_stay  0.069655  0.050797   0.110167 -0.066906     0.124661   \n",
       "meds_hematologial     0.029882 -0.069050   0.090507 -0.010298     0.070337   \n",
       "\n",
       "                      hemoglobin  chest_tube      vent       los  LACE_Score  \\\n",
       "readmit30              -0.102246    0.009624  0.001161  0.074700    0.090413   \n",
       "ed_visits              -0.146633   -0.019367 -0.008247  0.011831    0.497842   \n",
       "meds_cardio_agents     -0.132821    0.018782  0.057699  0.317339    0.161180   \n",
       "chronic_conditions     -0.123166    0.001924 -0.010886  0.036503    0.120844   \n",
       "LACE_Score             -0.129632    0.024299  0.033746  0.388995    1.000000   \n",
       "cost_of_initial_stay   -0.143840    0.207267  0.286838  0.806326    0.334552   \n",
       "meds_hematologial      -0.155320    0.042732  0.056504  0.307497    0.144286   \n",
       "\n",
       "                      readmit30    APRDRG  cost_of_initial_stay  \\\n",
       "readmit30              1.000000  0.075466              0.088671   \n",
       "ed_visits              0.159330  0.090960              0.028616   \n",
       "meds_cardio_agents     0.098236  0.573528              0.298240   \n",
       "chronic_conditions     0.094828  0.169934              0.049048   \n",
       "LACE_Score             0.090413  0.086181              0.334552   \n",
       "cost_of_initial_stay   0.088671  0.007348              1.000000   \n",
       "meds_hematologial      0.086311  0.218945              0.301549   \n",
       "\n",
       "                      care_plan_costs  \n",
       "readmit30                    0.078163  \n",
       "ed_visits                    0.059282  \n",
       "meds_cardio_agents           0.101889  \n",
       "chronic_conditions           0.054017  \n",
       "LACE_Score                   0.186448  \n",
       "cost_of_initial_stay         0.227223  \n",
       "meds_hematologial            0.137094  "
      ]
     },
     "execution_count": 29,
     "metadata": {},
     "output_type": "execute_result"
    }
   ],
   "source": [
    "## Correlation between multivariables\n",
    "corrmat = df1.corr()\n",
    "corrmat.sort_values(by= 'readmit30', ascending =False).head(7)"
   ]
  },
  {
   "cell_type": "markdown",
   "metadata": {},
   "source": [
    "### One hot encoding for categorical values"
   ]
  },
  {
   "cell_type": "code",
   "execution_count": 30,
   "metadata": {},
   "outputs": [],
   "source": [
    "df2=pd.get_dummies(data=df1,prefix=['','','','',''],prefix_sep='',\n",
    "                    columns=['month','weekday','insurance_provider','tobacco_user','care_plan_following_discharge'])"
   ]
  },
  {
   "cell_type": "markdown",
   "metadata": {
    "id": "xDFvlmLsopLg"
   },
   "source": [
    "## Data Visualization"
   ]
  },
  {
   "cell_type": "code",
   "execution_count": 31,
   "metadata": {
    "colab": {
     "base_uri": "https://localhost:8080/"
    },
    "id": "BuFgAN66bb22",
    "outputId": "accb8472-8eb0-4799-b8aa-089a9aade4b4",
    "scrolled": true
   },
   "outputs": [],
   "source": [
    "#pip install dexplot"
   ]
  },
  {
   "cell_type": "code",
   "execution_count": 32,
   "metadata": {
    "colab": {
     "base_uri": "https://localhost:8080/",
     "height": 390
    },
    "id": "PBurF_FZQD4H",
    "outputId": "c65ee0cc-92b8-4cd0-eb5d-19c3cf71191b",
    "scrolled": true
   },
   "outputs": [
    {
     "data": {
      "image/png": "[encoded data removed]",
      "text/plain": [
       "<Figure size 792x432 with 25 Axes>"
      ]
     },
     "metadata": {
      "needs_background": "light"
     },
     "output_type": "display_data"
    }
   ],
   "source": [
    "import dexplot as dxp\n",
    "viz_featu =df1[['age', 'bmi','bp_diastolic','bp_systolic','pulse','temperature','calcium', 'creatinine', 'glucose', 'wbc','potassium', 'sodium', 'artbloodgas', 'hemoglobin','los', 'LACE_Score',\n",
    "                'respirations', 'pat_pain_score_c','ed_visits', 'ip_visits', 'chronic_conditions', 'meds_cardio_agents','meds_nutrition','meds_anesthetics']]\n",
    "viz = viz_featu\n",
    "viz.hist(figsize=(11,6))\n",
    "plt.show()"
   ]
  },
  {
   "cell_type": "code",
   "execution_count": 33,
   "metadata": {
    "id": "TVabCnM7ngaV"
   },
   "outputs": [
    {
     "data": {
      "text/html": [
       "<div>\n",
       "<style scoped>\n",
       "    .dataframe tbody tr th:only-of-type {\n",
       "        vertical-align: middle;\n",
       "    }\n",
       "\n",
       "    .dataframe tbody tr th {\n",
       "        vertical-align: top;\n",
       "    }\n",
       "\n",
       "    .dataframe thead th {\n",
       "        text-align: right;\n",
       "    }\n",
       "</style>\n",
       "<table border=\"1\" class=\"dataframe\">\n",
       "  <thead>\n",
       "    <tr style=\"text-align: right;\">\n",
       "      <th></th>\n",
       "      <th>glucose</th>\n",
       "      <th>creatinine</th>\n",
       "      <th>calcium</th>\n",
       "      <th>wbc</th>\n",
       "      <th>sodium</th>\n",
       "    </tr>\n",
       "  </thead>\n",
       "  <tbody>\n",
       "    <tr>\n",
       "      <th>0</th>\n",
       "      <td>106.0</td>\n",
       "      <td>0.76</td>\n",
       "      <td>8.5</td>\n",
       "      <td>21.739946</td>\n",
       "      <td>130.0</td>\n",
       "    </tr>\n",
       "    <tr>\n",
       "      <th>1</th>\n",
       "      <td>138.0</td>\n",
       "      <td>1.35</td>\n",
       "      <td>9.4</td>\n",
       "      <td>4.000000</td>\n",
       "      <td>138.0</td>\n",
       "    </tr>\n",
       "    <tr>\n",
       "      <th>2</th>\n",
       "      <td>92.0</td>\n",
       "      <td>0.90</td>\n",
       "      <td>8.3</td>\n",
       "      <td>7.800000</td>\n",
       "      <td>141.0</td>\n",
       "    </tr>\n",
       "    <tr>\n",
       "      <th>3</th>\n",
       "      <td>170.0</td>\n",
       "      <td>0.97</td>\n",
       "      <td>8.3</td>\n",
       "      <td>6.870000</td>\n",
       "      <td>139.0</td>\n",
       "    </tr>\n",
       "    <tr>\n",
       "      <th>4</th>\n",
       "      <td>151.0</td>\n",
       "      <td>1.72</td>\n",
       "      <td>8.9</td>\n",
       "      <td>5.200000</td>\n",
       "      <td>137.0</td>\n",
       "    </tr>\n",
       "    <tr>\n",
       "      <th>...</th>\n",
       "      <td>...</td>\n",
       "      <td>...</td>\n",
       "      <td>...</td>\n",
       "      <td>...</td>\n",
       "      <td>...</td>\n",
       "    </tr>\n",
       "    <tr>\n",
       "      <th>12975</th>\n",
       "      <td>106.0</td>\n",
       "      <td>0.76</td>\n",
       "      <td>8.6</td>\n",
       "      <td>4.300000</td>\n",
       "      <td>143.0</td>\n",
       "    </tr>\n",
       "    <tr>\n",
       "      <th>12976</th>\n",
       "      <td>225.0</td>\n",
       "      <td>1.00</td>\n",
       "      <td>8.8</td>\n",
       "      <td>7.500000</td>\n",
       "      <td>139.0</td>\n",
       "    </tr>\n",
       "    <tr>\n",
       "      <th>12977</th>\n",
       "      <td>95.0</td>\n",
       "      <td>0.64</td>\n",
       "      <td>9.1</td>\n",
       "      <td>8.200000</td>\n",
       "      <td>140.0</td>\n",
       "    </tr>\n",
       "    <tr>\n",
       "      <th>12978</th>\n",
       "      <td>95.0</td>\n",
       "      <td>1.42</td>\n",
       "      <td>9.4</td>\n",
       "      <td>16.870000</td>\n",
       "      <td>146.0</td>\n",
       "    </tr>\n",
       "    <tr>\n",
       "      <th>12979</th>\n",
       "      <td>131.0</td>\n",
       "      <td>1.59</td>\n",
       "      <td>8.3</td>\n",
       "      <td>5.476885</td>\n",
       "      <td>142.0</td>\n",
       "    </tr>\n",
       "  </tbody>\n",
       "</table>\n",
       "<p>12980 rows × 5 columns</p>\n",
       "</div>"
      ],
      "text/plain": [
       "       glucose  creatinine  calcium        wbc  sodium\n",
       "0        106.0        0.76      8.5  21.739946   130.0\n",
       "1        138.0        1.35      9.4   4.000000   138.0\n",
       "2         92.0        0.90      8.3   7.800000   141.0\n",
       "3        170.0        0.97      8.3   6.870000   139.0\n",
       "4        151.0        1.72      8.9   5.200000   137.0\n",
       "...        ...         ...      ...        ...     ...\n",
       "12975    106.0        0.76      8.6   4.300000   143.0\n",
       "12976    225.0        1.00      8.8   7.500000   139.0\n",
       "12977     95.0        0.64      9.1   8.200000   140.0\n",
       "12978     95.0        1.42      9.4  16.870000   146.0\n",
       "12979    131.0        1.59      8.3   5.476885   142.0\n",
       "\n",
       "[12980 rows x 5 columns]"
      ]
     },
     "execution_count": 33,
     "metadata": {},
     "output_type": "execute_result"
    }
   ],
   "source": [
    "from pandas import DataFrame\n",
    "lab_results=DataFrame(df1,columns=['glucose','creatinine','calcium','wbc','sodium'])\n",
    "lab_results"
   ]
  },
  {
   "cell_type": "markdown",
   "metadata": {
    "id": "O11pO_BTp6rI"
   },
   "source": [
    "There is a direct correlation between age and patient's readmission condition."
   ]
  },
  {
   "cell_type": "code",
   "execution_count": 34,
   "metadata": {
    "cellView": "code",
    "colab": {
     "base_uri": "https://localhost:8080/",
     "height": 392
    },
    "id": "Ldo_aGW4QPnI",
    "outputId": "293e89ac-ab8e-4c5d-b012-2870f25e0028",
    "scrolled": false
   },
   "outputs": [
    {
     "data": {
      "text/html": [
       "<div>\n",
       "<style scoped>\n",
       "    .dataframe tbody tr th:only-of-type {\n",
       "        vertical-align: middle;\n",
       "    }\n",
       "\n",
       "    .dataframe tbody tr th {\n",
       "        vertical-align: top;\n",
       "    }\n",
       "\n",
       "    .dataframe thead th {\n",
       "        text-align: right;\n",
       "    }\n",
       "</style>\n",
       "<table border=\"1\" class=\"dataframe\">\n",
       "  <thead>\n",
       "    <tr style=\"text-align: right;\">\n",
       "      <th></th>\n",
       "      <th>count</th>\n",
       "      <th>mean</th>\n",
       "      <th>std</th>\n",
       "      <th>min</th>\n",
       "      <th>25%</th>\n",
       "      <th>50%</th>\n",
       "      <th>75%</th>\n",
       "      <th>max</th>\n",
       "    </tr>\n",
       "    <tr>\n",
       "      <th>Condition</th>\n",
       "      <th></th>\n",
       "      <th></th>\n",
       "      <th></th>\n",
       "      <th></th>\n",
       "      <th></th>\n",
       "      <th></th>\n",
       "      <th></th>\n",
       "      <th></th>\n",
       "    </tr>\n",
       "  </thead>\n",
       "  <tbody>\n",
       "    <tr>\n",
       "      <th>Heart_Failure</th>\n",
       "      <td>6774.0</td>\n",
       "      <td>73.710876</td>\n",
       "      <td>12.237808</td>\n",
       "      <td>22.649446</td>\n",
       "      <td>66.073922</td>\n",
       "      <td>76.321697</td>\n",
       "      <td>83.780971</td>\n",
       "      <td>89.998631</td>\n",
       "    </tr>\n",
       "    <tr>\n",
       "      <th>Pneumonia</th>\n",
       "      <td>6206.0</td>\n",
       "      <td>69.331460</td>\n",
       "      <td>15.101094</td>\n",
       "      <td>18.116358</td>\n",
       "      <td>60.142529</td>\n",
       "      <td>72.193018</td>\n",
       "      <td>81.676933</td>\n",
       "      <td>89.998631</td>\n",
       "    </tr>\n",
       "  </tbody>\n",
       "</table>\n",
       "</div>"
      ],
      "text/plain": [
       "                count       mean        std        min        25%        50%  \\\n",
       "Condition                                                                      \n",
       "Heart_Failure  6774.0  73.710876  12.237808  22.649446  66.073922  76.321697   \n",
       "Pneumonia      6206.0  69.331460  15.101094  18.116358  60.142529  72.193018   \n",
       "\n",
       "                     75%        max  \n",
       "Condition                            \n",
       "Heart_Failure  83.780971  89.998631  \n",
       "Pneumonia      81.676933  89.998631  "
      ]
     },
     "execution_count": 34,
     "metadata": {},
     "output_type": "execute_result"
    },
    {
     "data": {
      "image/png": "[encoded data removed]",
      "text/plain": [
       "<Figure size 432x288 with 1 Axes>"
      ]
     },
     "metadata": {
      "needs_background": "light"
     },
     "output_type": "display_data"
    }
   ],
   "source": [
    "df.age.hist()\n",
    "plt.xlabel('age')\n",
    "plt.ylabel('readmit30')\n",
    "df.groupby(['Condition'])['age'].describe()"
   ]
  },
  {
   "cell_type": "markdown",
   "metadata": {
    "id": "LrgxmUxYlul0"
   },
   "source": [
    "Dementia seems to affect patients especialy pnuemonia readmit"
   ]
  },
  {
   "cell_type": "code",
   "execution_count": 35,
   "metadata": {
    "colab": {
     "base_uri": "https://localhost:8080/",
     "height": 469
    },
    "id": "hw5eNCcKQEfO",
    "outputId": "258ad0f3-3704-4b5f-a4bf-4d7a9e5a94dd"
   },
   "outputs": [
    {
     "name": "stderr",
     "output_type": "stream",
     "text": [
      "findfont: Font family ['Helvetica'] not found. Falling back to DejaVu Sans.\n"
     ]
    },
    {
     "data": {
      "image/png": "[encoded data removed]",
      "text/plain": [
       "<Figure size 360x432 with 1 Axes>"
      ]
     },
     "execution_count": 35,
     "metadata": {},
     "output_type": "execute_result"
    }
   ],
   "source": [
    "# Dementia on readmission \n",
    "dxp.bar(y='readmit30', x= 'dementia', data=df, aggfunc='mean',split = 'Condition',figsize=(2.5,3))"
   ]
  },
  {
   "cell_type": "markdown",
   "metadata": {
    "id": "BQ76NIotlumC"
   },
   "source": [
    " Diabetes may increase patients readmission condition"
   ]
  },
  {
   "cell_type": "code",
   "execution_count": 36,
   "metadata": {
    "colab": {
     "base_uri": "https://localhost:8080/",
     "height": 451
    },
    "id": "EGoMbftAfpG_",
    "outputId": "8fe29f71-f622-4862-b23b-47fc5b74ed1a"
   },
   "outputs": [
    {
     "data": {
      "image/png": "[encoded data removed]",
      "text/plain": [
       "<Figure size 432x432 with 1 Axes>"
      ]
     },
     "execution_count": 36,
     "metadata": {},
     "output_type": "execute_result"
    }
   ],
   "source": [
    "#dexplot shows diabetes and readamission\n",
    "dxp.bar(x='readmit30', y='diabetes', data=df, aggfunc='mean', split = 'Condition',figsize=(3,3)) #glucose"
   ]
  },
  {
   "cell_type": "markdown",
   "metadata": {
    "id": "_asA1KHblume"
   },
   "source": [
    " Readmitted patients had more blood gas test than non readmitted patients"
   ]
  },
  {
   "cell_type": "code",
   "execution_count": 37,
   "metadata": {
    "colab": {
     "base_uri": "https://localhost:8080/",
     "height": 451
    },
    "id": "zXX05KLMlv5P",
    "outputId": "ba201693-68d5-4dfd-be19-b9ec1f7ccf3a"
   },
   "outputs": [
    {
     "data": {
      "image/png": "[encoded data removed]",
      "text/plain": [
       "<Figure size 432x432 with 1 Axes>"
      ]
     },
     "execution_count": 37,
     "metadata": {},
     "output_type": "execute_result"
    }
   ],
   "source": [
    "#dexplot shows blood gas test at readmit\n",
    "dxp.bar(x='readmit30', y='artbloodgas', data=df, aggfunc='mean', split = 'Condition',figsize=(3,3))\n"
   ]
  },
  {
   "cell_type": "markdown",
   "metadata": {
    "id": "narSDpJ9lum2"
   },
   "source": [
    " Readmitted patients tend to stay longer in a hospital than non readmitted patients"
   ]
  },
  {
   "cell_type": "code",
   "execution_count": 38,
   "metadata": {
    "colab": {
     "base_uri": "https://localhost:8080/",
     "height": 451
    },
    "id": "to9fwbKzl0zZ",
    "outputId": "5710200e-e81c-4ec6-abe8-2bd0c01b7524"
   },
   "outputs": [
    {
     "data": {
      "image/png": "[encoded data removed]",
      "text/plain": [
       "<Figure size 432x432 with 1 Axes>"
      ]
     },
     "execution_count": 38,
     "metadata": {},
     "output_type": "execute_result"
    }
   ],
   "source": [
    "#dexplot shows length of stay may increase with readmission\n",
    "dxp.bar(x='readmit30', y='los', data=df, aggfunc='mean', split = 'Condition',figsize=(3,3))"
   ]
  },
  {
   "cell_type": "markdown",
   "metadata": {
    "id": "EPLQJKPwlunF"
   },
   "source": [
    "patient pain score increases on readmission"
   ]
  },
  {
   "cell_type": "code",
   "execution_count": 39,
   "metadata": {
    "colab": {
     "base_uri": "https://localhost:8080/",
     "height": 451
    },
    "id": "Z3ePG11ll3t3",
    "outputId": "f2819d6a-1d71-474a-a566-cf85fd777920"
   },
   "outputs": [
    {
     "data": {
      "image/png": "[encoded data removed]",
      "text/plain": [
       "<Figure size 432x432 with 1 Axes>"
      ]
     },
     "execution_count": 39,
     "metadata": {},
     "output_type": "execute_result"
    }
   ],
   "source": [
    "#dexplot shows patient pain score\n",
    "dxp.bar(x='readmit30', y='pat_pain_score_c', data=df, aggfunc='mean', split = 'Condition',figsize=(3,3))"
   ]
  },
  {
   "cell_type": "markdown",
   "metadata": {
    "id": "MvcIhhrrib6U"
   },
   "source": [
    "Patient pain score may be higher on readmit"
   ]
  },
  {
   "cell_type": "code",
   "execution_count": 40,
   "metadata": {
    "colab": {
     "base_uri": "https://localhost:8080/",
     "height": 451
    },
    "id": "QSd3E5D5l7d1",
    "outputId": "8e0e7093-0142-40ae-9d90-3e8bd968f9cc",
    "scrolled": true
   },
   "outputs": [
    {
     "data": {
      "image/png": "[encoded data removed]",
      "text/plain": [
       "<Figure size 432x360 with 1 Axes>"
      ]
     },
     "execution_count": 40,
     "metadata": {},
     "output_type": "execute_result"
    }
   ],
   "source": [
    "#dexplot shows patient pain score on readmission\n",
    "dxp.bar(x='readmit30', y='ip_visits', data=df, aggfunc='mean', split = 'Condition',figsize=(3,2.5))"
   ]
  },
  {
   "cell_type": "code",
   "execution_count": 41,
   "metadata": {
    "colab": {
     "base_uri": "https://localhost:8080/",
     "height": 451
    },
    "id": "HNDAvE10mCu9",
    "outputId": "d06ceeea-71c4-42c2-8129-3c97e0dba6e2"
   },
   "outputs": [
    {
     "data": {
      "image/png": "[encoded data removed]",
      "text/plain": [
       "<Figure size 432x432 with 1 Axes>"
      ]
     },
     "execution_count": 41,
     "metadata": {},
     "output_type": "execute_result"
    }
   ],
   "source": [
    "#patient meds_cardio_agents on readmission\n",
    "dxp.bar(x='readmit30', y='meds_cardio_agents', data=df, aggfunc='mean', split = 'Condition',figsize=(3,3))"
   ]
  },
  {
   "cell_type": "markdown",
   "metadata": {
    "id": "ZN2sESp2lun2"
   },
   "source": [
    "Nutrition medication adminstered to patient may increase during readmit"
   ]
  },
  {
   "cell_type": "code",
   "execution_count": 42,
   "metadata": {
    "colab": {
     "base_uri": "https://localhost:8080/",
     "height": 451
    },
    "id": "usHMGmwqmMfe",
    "outputId": "f1f9816e-2f9d-4515-d2ec-54bd2f16bf4e"
   },
   "outputs": [
    {
     "data": {
      "image/png": "[encoded data removed]",
      "text/plain": [
       "<Figure size 432x432 with 1 Axes>"
      ]
     },
     "execution_count": 42,
     "metadata": {},
     "output_type": "execute_result"
    }
   ],
   "source": [
    "#patient meds_nutrition on readmission\n",
    "dxp.bar(x='readmit30', y='meds_nutrition', data=df, aggfunc='mean', split = 'Condition',figsize=(3,3))"
   ]
  },
  {
   "cell_type": "markdown",
   "metadata": {
    "id": "BTXu7lB2zQ5p"
   },
   "source": [
    "The month of June appears to the peak season for both conditions"
   ]
  },
  {
   "cell_type": "code",
   "execution_count": 43,
   "metadata": {
    "colab": {
     "base_uri": "https://localhost:8080/",
     "height": 326
    },
    "id": "z7wPEMdXzQ5t",
    "outputId": "dd352d79-73de-48e2-c374-18c0bcfd3a21",
    "scrolled": true
   },
   "outputs": [
    {
     "data": {
      "image/png": "[encoded data removed]",
      "text/plain": [
       "<Figure size 1440x432 with 1 Axes>"
      ]
     },
     "execution_count": 43,
     "metadata": {},
     "output_type": "execute_result"
    }
   ],
   "source": [
    "# dexplot shows month on readmission\n",
    "df.groupby(['month', 'APRDRG'])['readmit30'].mean()*100\n",
    "dxp.bar(x='month', y= 'readmit30', data=df, orientation='v', split = 'APRDRG', aggfunc='mean',figsize=(10,3))"
   ]
  },
  {
   "cell_type": "markdown",
   "metadata": {
    "id": "55tILyR9luon"
   },
   "source": [
    "The plot shows that tobacco may increase patients readmit condition"
   ]
  },
  {
   "cell_type": "code",
   "execution_count": 44,
   "metadata": {
    "colab": {
     "base_uri": "https://localhost:8080/",
     "height": 408
    },
    "id": "pMcQrVL9zQ6c",
    "outputId": "e843e549-0ddf-4c4f-e68b-bac0dc8afca8"
   },
   "outputs": [
    {
     "data": {
      "image/png": "[encoded data removed]",
      "text/plain": [
       "<Figure size 864x388.8 with 1 Axes>"
      ]
     },
     "execution_count": 44,
     "metadata": {},
     "output_type": "execute_result"
    }
   ],
   "source": [
    "# dexplot shows tobacco_user on readmission\n",
    "dxp.bar(y='readmit30', x='tobacco_user', data=df, aggfunc='mean',split = 'Condition', figsize=(6,2.7))\n",
    "#care_plan_costs,cost_of_initial_stay,cost_of_readmission"
   ]
  },
  {
   "cell_type": "markdown",
   "metadata": {
    "id": "bVP594Wsluo1"
   },
   "source": [
    "The plot shows tabacco usage increases cost of readmission"
   ]
  },
  {
   "cell_type": "code",
   "execution_count": 45,
   "metadata": {
    "colab": {
     "base_uri": "https://localhost:8080/",
     "height": 408
    },
    "id": "1uZ3eKUfNxyv",
    "outputId": "4d511b97-73f5-4cbb-e1cb-7ba4997458f7"
   },
   "outputs": [
    {
     "data": {
      "image/png": "[encoded data removed]",
      "text/plain": [
       "<Figure size 864x388.8 with 1 Axes>"
      ]
     },
     "execution_count": 45,
     "metadata": {},
     "output_type": "execute_result"
    }
   ],
   "source": [
    "# dexplot shows tabacco userson on cost_of_readmission\n",
    "dxp.bar(x='tobacco_user', y='cost_of_readmission', data=df, aggfunc='mean',split = 'Condition', figsize=(6,2.7))"
   ]
  },
  {
   "cell_type": "markdown",
   "metadata": {
    "id": "AeyrNMj7zQ6y"
   },
   "source": [
    "Length of hospital stay increases the cost of initial stay "
   ]
  },
  {
   "cell_type": "code",
   "execution_count": 46,
   "metadata": {
    "colab": {
     "base_uri": "https://localhost:8080/",
     "height": 408
    },
    "id": "rw7eEP0lzQ61",
    "outputId": "80bfa62d-cca3-46de-b180-23dfed8a00bb",
    "scrolled": true
   },
   "outputs": [
    {
     "data": {
      "image/png": "[encoded data removed]",
      "text/plain": [
       "<Figure size 504x388.8 with 1 Axes>"
      ]
     },
     "execution_count": 46,
     "metadata": {},
     "output_type": "execute_result"
    }
   ],
   "source": [
    "# dexplot shows cost_of_initial_stay on readmission\n",
    "#display(df1.groupby(['readmit30'])['cost_of_initial_stay'].describe())\n",
    "dxp.bar(x='readmit30', y= 'cost_of_initial_stay', data=df, aggfunc='mean',split = 'Condition',figsize=(3.5,2.7))#"
   ]
  },
  {
   "cell_type": "code",
   "execution_count": 47,
   "metadata": {
    "colab": {
     "base_uri": "https://localhost:8080/",
     "height": 269
    },
    "id": "RWxwPuLQNa_t",
    "outputId": "0ad8f1d2-eb90-4426-fcd2-0fe759917101"
   },
   "outputs": [
    {
     "data": {
      "image/png": "[encoded data removed]",
      "text/plain": [
       "<Figure size 432x288 with 1 Axes>"
      ]
     },
     "metadata": {
      "needs_background": "light"
     },
     "output_type": "display_data"
    }
   ],
   "source": [
    "# cost_of_initial_stay on readmission\n",
    "ax=sns.regplot(x='los',y='cost_of_initial_stay',data=df)"
   ]
  },
  {
   "cell_type": "markdown",
   "metadata": {
    "id": "PXeQzZoSzQ7I"
   },
   "source": [
    "Number of chronics conditions may increase patietns readmit condition."
   ]
  },
  {
   "cell_type": "code",
   "execution_count": 48,
   "metadata": {
    "colab": {
     "base_uri": "https://localhost:8080/",
     "height": 530
    },
    "id": "tbGouvbZzQ7L",
    "outputId": "a00e48b0-5182-4f6b-af23-a4a3c3501d1f",
    "scrolled": true
   },
   "outputs": [
    {
     "data": {
      "text/html": [
       "<div>\n",
       "<style scoped>\n",
       "    .dataframe tbody tr th:only-of-type {\n",
       "        vertical-align: middle;\n",
       "    }\n",
       "\n",
       "    .dataframe tbody tr th {\n",
       "        vertical-align: top;\n",
       "    }\n",
       "\n",
       "    .dataframe thead th {\n",
       "        text-align: right;\n",
       "    }\n",
       "</style>\n",
       "<table border=\"1\" class=\"dataframe\">\n",
       "  <thead>\n",
       "    <tr style=\"text-align: right;\">\n",
       "      <th></th>\n",
       "      <th></th>\n",
       "      <th>count</th>\n",
       "      <th>mean</th>\n",
       "      <th>std</th>\n",
       "      <th>min</th>\n",
       "      <th>25%</th>\n",
       "      <th>50%</th>\n",
       "      <th>75%</th>\n",
       "      <th>max</th>\n",
       "    </tr>\n",
       "    <tr>\n",
       "      <th>readmit30</th>\n",
       "      <th>Condition</th>\n",
       "      <th></th>\n",
       "      <th></th>\n",
       "      <th></th>\n",
       "      <th></th>\n",
       "      <th></th>\n",
       "      <th></th>\n",
       "      <th></th>\n",
       "      <th></th>\n",
       "    </tr>\n",
       "  </thead>\n",
       "  <tbody>\n",
       "    <tr>\n",
       "      <th rowspan=\"2\" valign=\"top\">0.0</th>\n",
       "      <th>Heart_Failure</th>\n",
       "      <td>5278.0</td>\n",
       "      <td>7.202349</td>\n",
       "      <td>5.023460</td>\n",
       "      <td>1.0</td>\n",
       "      <td>4.0</td>\n",
       "      <td>6.0</td>\n",
       "      <td>10.0</td>\n",
       "      <td>27.0</td>\n",
       "    </tr>\n",
       "    <tr>\n",
       "      <th>Pneumonia</th>\n",
       "      <td>5205.0</td>\n",
       "      <td>5.561960</td>\n",
       "      <td>4.253706</td>\n",
       "      <td>1.0</td>\n",
       "      <td>2.0</td>\n",
       "      <td>5.0</td>\n",
       "      <td>7.0</td>\n",
       "      <td>26.0</td>\n",
       "    </tr>\n",
       "    <tr>\n",
       "      <th rowspan=\"2\" valign=\"top\">1.0</th>\n",
       "      <th>Heart_Failure</th>\n",
       "      <td>1496.0</td>\n",
       "      <td>8.104278</td>\n",
       "      <td>5.401210</td>\n",
       "      <td>1.0</td>\n",
       "      <td>4.0</td>\n",
       "      <td>7.0</td>\n",
       "      <td>11.0</td>\n",
       "      <td>27.0</td>\n",
       "    </tr>\n",
       "    <tr>\n",
       "      <th>Pneumonia</th>\n",
       "      <td>1001.0</td>\n",
       "      <td>6.734266</td>\n",
       "      <td>4.864084</td>\n",
       "      <td>1.0</td>\n",
       "      <td>3.0</td>\n",
       "      <td>6.0</td>\n",
       "      <td>9.0</td>\n",
       "      <td>26.0</td>\n",
       "    </tr>\n",
       "  </tbody>\n",
       "</table>\n",
       "</div>"
      ],
      "text/plain": [
       "                          count      mean       std  min  25%  50%   75%   max\n",
       "readmit30 Condition                                                           \n",
       "0.0       Heart_Failure  5278.0  7.202349  5.023460  1.0  4.0  6.0  10.0  27.0\n",
       "          Pneumonia      5205.0  5.561960  4.253706  1.0  2.0  5.0   7.0  26.0\n",
       "1.0       Heart_Failure  1496.0  8.104278  5.401210  1.0  4.0  7.0  11.0  27.0\n",
       "          Pneumonia      1001.0  6.734266  4.864084  1.0  3.0  6.0   9.0  26.0"
      ]
     },
     "metadata": {},
     "output_type": "display_data"
    },
    {
     "data": {
      "image/png": "[encoded data removed]",
      "text/plain": [
       "<Figure size 1296x432 with 1 Axes>"
      ]
     },
     "execution_count": 48,
     "metadata": {},
     "output_type": "execute_result"
    }
   ],
   "source": [
    "display(df.groupby(['readmit30', 'Condition'])['chronic_conditions'].describe())\n",
    "dxp.bar(y='readmit30', x='chronic_conditions', data=df, aggfunc='mean', split = 'Condition',figsize=(9,3))"
   ]
  },
  {
   "cell_type": "markdown",
   "metadata": {
    "id": "i_0zW1_suJK0"
   },
   "source": [
    "There is strong correlation between weight and bmi as expected "
   ]
  },
  {
   "cell_type": "code",
   "execution_count": 49,
   "metadata": {
    "colab": {
     "base_uri": "https://localhost:8080/",
     "height": 269
    },
    "id": "UTz_voS8c6DA",
    "outputId": "4cc69d0d-fd61-45a7-c52c-9b3542339171"
   },
   "outputs": [
    {
     "data": {
      "image/png": "[encoded data removed]",
      "text/plain": [
       "<Figure size 432x288 with 1 Axes>"
      ]
     },
     "metadata": {
      "needs_background": "light"
     },
     "output_type": "display_data"
    }
   ],
   "source": [
    "#based on regplot correlation between weight and bmi\n",
    "ax=sns.regplot(x='weight',y='bmi',data=df)"
   ]
  },
  {
   "cell_type": "code",
   "execution_count": 50,
   "metadata": {
    "colab": {
     "base_uri": "https://localhost:8080/",
     "height": 341
    },
    "id": "K1lQW3videOv",
    "outputId": "0f5cef7c-3b28-4461-d350-e5117253d8df"
   },
   "outputs": [
    {
     "data": {
      "text/plain": [
       "<AxesSubplot:xlabel='LACE_Score', ylabel='los'>"
      ]
     },
     "execution_count": 50,
     "metadata": {},
     "output_type": "execute_result"
    },
    {
     "data": {
      "image/png": "[encoded data removed]",
      "text/plain": [
       "<Figure size 720x360 with 1 Axes>"
      ]
     },
     "metadata": {
      "needs_background": "light"
     },
     "output_type": "display_data"
    }
   ],
   "source": [
    "# Regplot shows Lace_score has significant impact on readmit with conditions\n",
    "plt.figure(figsize=(10, 5))\n",
    "sns.regplot(y='los',x='LACE_Score',data=df1)"
   ]
  },
  {
   "cell_type": "markdown",
   "metadata": {
    "id": "puv-i7pQzQ7d"
   },
   "source": [
    "Patients who visited emergcy departments in prior 12 months have higher probablity of readmit"
   ]
  },
  {
   "cell_type": "code",
   "execution_count": 51,
   "metadata": {
    "colab": {
     "base_uri": "https://localhost:8080/",
     "height": 595
    },
    "id": "96QgrcrszQ7f",
    "outputId": "773534b1-acb4-4c6f-96a7-6181e2d0eebb"
   },
   "outputs": [
    {
     "data": {
      "image/png": "[encoded data removed]",
      "text/plain": [
       "<Figure size 504x576 with 1 Axes>"
      ]
     },
     "metadata": {},
     "output_type": "display_data"
    }
   ],
   "source": [
    "#df.groupby(['readmit30','Condition'])['ed_visits'].describe()\n",
    "display(dxp.bar(x='readmit30', y='ed_visits', data=df1, aggfunc='mean',split = 'APRDRG', figsize=(3.5,4)))"
   ]
  },
  {
   "cell_type": "markdown",
   "metadata": {
    "id": "OwLuKcNazQ7s"
   },
   "source": [
    "Care_plan_cost of readmitted patients is higher than non-readmit patients"
   ]
  },
  {
   "cell_type": "code",
   "execution_count": 52,
   "metadata": {
    "colab": {
     "base_uri": "https://localhost:8080/",
     "height": 451
    },
    "id": "aFz7pkSPzQ8A",
    "outputId": "42eb2910-9fb0-462e-f581-7304e3fc87ae",
    "scrolled": true
   },
   "outputs": [
    {
     "data": {
      "image/png": "[encoded data removed]",
      "text/plain": [
       "<Figure size 504x432 with 1 Axes>"
      ]
     },
     "execution_count": 52,
     "metadata": {},
     "output_type": "execute_result"
    }
   ],
   "source": [
    "# dexplot shows care_plan_costs on readmit\n",
    "#display(df.groupby(['readmit30','Condition'])['care_plan_costs'].describe())\n",
    "dxp.bar(x='readmit30', y='care_plan_costs', data=df, aggfunc='mean',split = 'Condition', figsize=(3.5,3))"
   ]
  },
  {
   "cell_type": "markdown",
   "metadata": {
    "id": "H8RKk13gzQ8T"
   },
   "source": [
    "Skilled Nursing Facility care plan is more expensive than the rest"
   ]
  },
  {
   "cell_type": "code",
   "execution_count": 53,
   "metadata": {
    "colab": {
     "base_uri": "https://localhost:8080/",
     "height": 448
    },
    "id": "lQ23D7EgzQ8V",
    "outputId": "99559830-bf74-4cd9-c05d-445accd86902",
    "scrolled": true
   },
   "outputs": [
    {
     "data": {
      "image/png": "[encoded data removed]",
      "text/plain": [
       "<Figure size 1008x432 with 1 Axes>"
      ]
     },
     "execution_count": 53,
     "metadata": {},
     "output_type": "execute_result"
    }
   ],
   "source": [
    "# dexplot shows care_plan_following_discharge on readmit\n",
    "dxp.bar(y='care_plan_costs', x= 'care_plan_following_discharge', data=df, orientation='v', split = 'readmit30', aggfunc='mean',figsize=(7,3))"
   ]
  },
  {
   "cell_type": "markdown",
   "metadata": {
    "id": "HT4AXbwyvb6E"
   },
   "source": [
    "Care plan following discharge has significant impact on readmit"
   ]
  },
  {
   "cell_type": "code",
   "execution_count": 54,
   "metadata": {
    "colab": {
     "base_uri": "https://localhost:8080/"
    },
    "id": "PuRZi7ijzQ8j",
    "outputId": "ba9c456c-edea-48bc-8b5e-420d7cdef8ff"
   },
   "outputs": [
    {
     "name": "stdout",
     "output_type": "stream",
     "text": [
      "care_plan_costs\n",
      " mean    3483.156988\n",
      "Name: care_plan_costs, dtype: float64\n",
      "\n",
      "cost_of_initial_stay\n",
      " mean    8389.879643\n",
      "Name: cost_of_initial_stay, dtype: float64\n",
      "\n",
      "cost_of_readmission\n",
      " mean    17102.865369\n",
      "Name: cost_of_readmission, dtype: float64\n"
     ]
    }
   ],
   "source": [
    "filtt = df['readmit30'] ==1\n",
    "readmit_cost=df.loc[filtt]['cost_of_readmission'].agg(['mean'])\n",
    "initial_stay=df.loc[filtt]['cost_of_initial_stay'].agg(['mean'])\n",
    "plan_cost=df1.loc[filtt]['care_plan_costs'].agg(['mean'])\n",
    "\n",
    "print('care_plan_costs\\n',plan_cost)\n",
    "print('\\ncost_of_initial_stay\\n',initial_stay)\n",
    "print('\\ncost_of_readmission\\n',readmit_cost)"
   ]
  },
  {
   "cell_type": "code",
   "execution_count": 55,
   "metadata": {
    "colab": {
     "base_uri": "https://localhost:8080/",
     "height": 363
    },
    "id": "sFTzXYPIzQ8w",
    "outputId": "0685b817-8c3c-451b-8a54-2c813b8d4338"
   },
   "outputs": [
    {
     "data": {
      "text/plain": [
       "<AxesSubplot:xlabel='care_plan_costs', ylabel='Condition'>"
      ]
     },
     "execution_count": 55,
     "metadata": {},
     "output_type": "execute_result"
    },
    {
     "data": {
      "image/png": "[encoded data removed]",
      "text/plain": [
       "<Figure size 1080x360 with 1 Axes>"
      ]
     },
     "metadata": {
      "needs_background": "light"
     },
     "output_type": "display_data"
    }
   ],
   "source": [
    "sns.set(font_scale = 1.25)\n",
    "plt.figure(figsize=(15, 5))\n",
    "sns.barplot(y='Condition', x='cost_of_readmission',hue = 'readmit30',ci = None, data=df,color = 'orange')\n",
    "sns.barplot(y='Condition', x='cost_of_initial_stay',hue = 'readmit30',ci = None, data=df,color = 'cyan')\n",
    "sns.barplot(y='Condition', x='care_plan_costs',hue = 'readmit30',ci = None,data=df)"
   ]
  },
  {
   "cell_type": "markdown",
   "metadata": {
    "id": "QYy_QLtNzQ88"
   },
   "source": [
    "It can be observed from dexplot and table below that the cost of readmission for 'Hospice' and Skilled Nursing Faclity' care plans reduced by 50% while patients who were 'Discharged to Home' and on 'Telehealth' care plan ended up paying 2,500.00 - 2,900.00 for their care.\n",
    "Patients who were on 'Home Health' care plan also saw an increased 75% cost which may have been minimized with a good readmission model. Thus, care plan following discharge may save patients more money"
   ]
  },
  {
   "cell_type": "code",
   "execution_count": 56,
   "metadata": {
    "colab": {
     "base_uri": "https://localhost:8080/",
     "height": 269
    },
    "id": "QrXj4VmZzQ8-",
    "outputId": "e4661350-8d86-45d0-abee-9530bddec517",
    "scrolled": true
   },
   "outputs": [
    {
     "name": "stderr",
     "output_type": "stream",
     "text": [
      "C:\\Users\\Kin1\\anaconda3\\lib\\site-packages\\ipykernel_launcher.py:2: FutureWarning: Indexing with multiple keys (implicitly converted to a tuple of keys) will be deprecated, use a list instead.\n",
      "  \n"
     ]
    },
    {
     "data": {
      "text/html": [
       "<div>\n",
       "<style scoped>\n",
       "    .dataframe tbody tr th:only-of-type {\n",
       "        vertical-align: middle;\n",
       "    }\n",
       "\n",
       "    .dataframe tbody tr th {\n",
       "        vertical-align: top;\n",
       "    }\n",
       "\n",
       "    .dataframe thead th {\n",
       "        text-align: right;\n",
       "    }\n",
       "</style>\n",
       "<table border=\"1\" class=\"dataframe\">\n",
       "  <thead>\n",
       "    <tr style=\"text-align: right;\">\n",
       "      <th></th>\n",
       "      <th>care_plan_costs</th>\n",
       "      <th>cost_of_readmission</th>\n",
       "    </tr>\n",
       "    <tr>\n",
       "      <th>care_plan_following_discharge</th>\n",
       "      <th></th>\n",
       "      <th></th>\n",
       "    </tr>\n",
       "  </thead>\n",
       "  <tbody>\n",
       "    <tr>\n",
       "      <th>Discharged to Home</th>\n",
       "      <td>0.000000</td>\n",
       "      <td>2927.191487</td>\n",
       "    </tr>\n",
       "    <tr>\n",
       "      <th>Expired</th>\n",
       "      <td>0.000000</td>\n",
       "      <td>0.000000</td>\n",
       "    </tr>\n",
       "    <tr>\n",
       "      <th>Home Health</th>\n",
       "      <td>2295.397343</td>\n",
       "      <td>4032.452808</td>\n",
       "    </tr>\n",
       "    <tr>\n",
       "      <th>Hospice</th>\n",
       "      <td>4853.590551</td>\n",
       "      <td>1627.245771</td>\n",
       "    </tr>\n",
       "    <tr>\n",
       "      <th>Skilled Nursing Facility</th>\n",
       "      <td>9768.641813</td>\n",
       "      <td>4327.329620</td>\n",
       "    </tr>\n",
       "    <tr>\n",
       "      <th>Telehealth</th>\n",
       "      <td>198.963000</td>\n",
       "      <td>2577.214033</td>\n",
       "    </tr>\n",
       "  </tbody>\n",
       "</table>\n",
       "</div>"
      ],
      "text/plain": [
       "                               care_plan_costs  cost_of_readmission\n",
       "care_plan_following_discharge                                      \n",
       "Discharged to Home                    0.000000          2927.191487\n",
       "Expired                               0.000000             0.000000\n",
       "Home Health                        2295.397343          4032.452808\n",
       "Hospice                            4853.590551          1627.245771\n",
       "Skilled Nursing Facility           9768.641813          4327.329620\n",
       "Telehealth                          198.963000          2577.214033"
      ]
     },
     "execution_count": 56,
     "metadata": {},
     "output_type": "execute_result"
    }
   ],
   "source": [
    "# care_plan_following_discharge on cost of readmission\n",
    "df.groupby(['care_plan_following_discharge'])['care_plan_costs','cost_of_readmission'].mean()"
   ]
  },
  {
   "cell_type": "markdown",
   "metadata": {
    "id": "lmZ8qpBYlurq"
   },
   "source": [
    "There is significant difference between cost of readmission cand care_plan_costs"
   ]
  },
  {
   "cell_type": "code",
   "execution_count": 57,
   "metadata": {
    "colab": {
     "base_uri": "https://localhost:8080/",
     "height": 526
    },
    "id": "X75WBmebzQ9N",
    "outputId": "35c36552-d784-47a1-d19b-741f7d0119a7",
    "scrolled": true
   },
   "outputs": [
    {
     "data": {
      "text/plain": [
       "<AxesSubplot:xlabel='care_plan_costs', ylabel='care_plan_following_discharge'>"
      ]
     },
     "execution_count": 57,
     "metadata": {},
     "output_type": "execute_result"
    },
    {
     "data": {
      "image/png": "[encoded data removed]",
      "text/plain": [
       "<Figure size 864x576 with 1 Axes>"
      ]
     },
     "metadata": {
      "needs_background": "light"
     },
     "output_type": "display_data"
    }
   ],
   "source": [
    "# barplot shows care_plan_costs on cost of readmission\n",
    "sns.set(font_scale = 1.25)\n",
    "plt.figure(figsize=(12, 8))\n",
    "sns.barplot(y='care_plan_following_discharge', x='cost_of_readmission',hue = 'readmit30',ci = None,data=df,color='b')\n",
    "sns.barplot(y='care_plan_following_discharge', x='care_plan_costs',hue = 'readmit30',ci = None,data=df,color='orange')"
   ]
  },
  {
   "cell_type": "markdown",
   "metadata": {
    "id": "375rXYrQlur-"
   },
   "source": [
    "catplot shows impact of 'Skilled Nursing Facility' care plan on on readmit"
   ]
  },
  {
   "cell_type": "code",
   "execution_count": 58,
   "metadata": {
    "colab": {
     "base_uri": "https://localhost:8080/",
     "height": 394
    },
    "id": "rZP6MzG6tOCc",
    "outputId": "431d354e-c848-4ca5-c9b3-bfa39fb10632"
   },
   "outputs": [
    {
     "data": {
      "text/plain": [
       "<seaborn.axisgrid.FacetGrid at 0x249b2cb0f08>"
      ]
     },
     "execution_count": 58,
     "metadata": {},
     "output_type": "execute_result"
    },
    {
     "data": {
      "image/png": "[encoded data removed]",
      "text/plain": [
       "<Figure size 522.125x360 with 1 Axes>"
      ]
     },
     "metadata": {
      "needs_background": "light"
     },
     "output_type": "display_data"
    }
   ],
   "source": [
    "# plot Skilled Nursing facility care plan after discharge\n",
    "sns.catplot(x='readmit30',hue='Skilled Nursing Facility',kind='count',data=df2)"
   ]
  },
  {
   "cell_type": "code",
   "execution_count": 59,
   "metadata": {
    "id": "ji35JxezvD34"
   },
   "outputs": [
    {
     "data": {
      "text/plain": [
       "<AxesSubplot:xlabel='readmit30', ylabel='count'>"
      ]
     },
     "execution_count": 59,
     "metadata": {},
     "output_type": "execute_result"
    },
    {
     "data": {
      "image/png": "[encoded data removed]",
      "text/plain": [
       "<Figure size 432x288 with 1 Axes>"
      ]
     },
     "metadata": {
      "needs_background": "light"
     },
     "output_type": "display_data"
    }
   ],
   "source": [
    "sns.countplot(x='readmit30',hue='Telehealth',data=df2)"
   ]
  },
  {
   "cell_type": "markdown",
   "metadata": {
    "id": "gBjyw-Z_jpiO"
   },
   "source": [
    "'Home Health' care plan has significant impact on readmit"
   ]
  },
  {
   "cell_type": "code",
   "execution_count": 60,
   "metadata": {
    "colab": {
     "base_uri": "https://localhost:8080/",
     "height": 394
    },
    "id": "ucLvm391vKXB",
    "outputId": "a386e67c-c3dd-4b9a-cf04-549558247379"
   },
   "outputs": [
    {
     "data": {
      "text/plain": [
       "<seaborn.axisgrid.FacetGrid at 0x249b2ae72c8>"
      ]
     },
     "execution_count": 60,
     "metadata": {},
     "output_type": "execute_result"
    },
    {
     "data": {
      "image/png": "[encoded data removed]",
      "text/plain": [
       "<Figure size 458.625x360 with 1 Axes>"
      ]
     },
     "metadata": {
      "needs_background": "light"
     },
     "output_type": "display_data"
    }
   ],
   "source": [
    "# Catplot shows correlation between readmit and Home Health care plan\n",
    "sns.catplot(x='readmit30',hue='Home Health',kind='count',data=df2, )"
   ]
  },
  {
   "cell_type": "code",
   "execution_count": 61,
   "metadata": {
    "id": "NVlwbgmuvRoL"
   },
   "outputs": [],
   "source": [
    "#sns.countplot(x='readmit30',hue='Hospice',data=df1)"
   ]
  },
  {
   "cell_type": "markdown",
   "metadata": {
    "id": "1S5ZzCP2j5UJ"
   },
   "source": [
    "Care plan summary following discharge"
   ]
  },
  {
   "cell_type": "code",
   "execution_count": 62,
   "metadata": {
    "colab": {
     "base_uri": "https://localhost:8080/",
     "height": 367
    },
    "id": "0Zhj14PIrByp",
    "outputId": "00d7744c-ef0f-4d95-ae95-fdbc9273fb00",
    "scrolled": true
   },
   "outputs": [
    {
     "data": {
      "text/plain": [
       "<AxesSubplot:xlabel='readmit30', ylabel='count'>"
      ]
     },
     "execution_count": 62,
     "metadata": {},
     "output_type": "execute_result"
    },
    {
     "data": {
      "image/png": "[encoded data removed]",
      "text/plain": [
       "<Figure size 864x360 with 1 Axes>"
      ]
     },
     "metadata": {
      "needs_background": "light"
     },
     "output_type": "display_data"
    }
   ],
   "source": [
    "# Catplot shows correlation between readmit and care_plan_following_discharge\n",
    "sns.set(font_scale=1.25)\n",
    "plt.figure(figsize=(12,5))\n",
    "sns.countplot(x='readmit30',hue='care_plan_following_discharge',data=df1)\n"
   ]
  },
  {
   "cell_type": "markdown",
   "metadata": {},
   "source": [
    "**Heatmap**\n",
    "- Pearson Correlation"
   ]
  },
  {
   "cell_type": "code",
   "execution_count": 63,
   "metadata": {
    "colab": {
     "base_uri": "https://localhost:8080/",
     "height": 604
    },
    "id": "36jNRjz9zQ9n",
    "outputId": "0b90ebd2-0b81-4f72-dd5c-16a0352b4737",
    "scrolled": false
   },
   "outputs": [
    {
     "data": {
      "image/png": "[encoded data removed]",
      "text/plain": [
       "<Figure size 2520x1440 with 2 Axes>"
      ]
     },
     "metadata": {
      "needs_background": "light"
     },
     "output_type": "display_data"
    }
   ],
   "source": [
    "corr = df1.corr()\n",
    "f,(ax) = plt.subplots(1, 1,figsize=(35,20))\n",
    "heatmap= sns.heatmap(df1.corr(),\n",
    "                     cmap=\"RdYlGn\",square=True,\n",
    "                     ax=ax,fmt='.2f',\n",
    "                     #annot=True,\n",
    "                     linewidth=0.05)\n",
    "f.subplots_adjust(top=0.80)\n",
    "plt.title('Pearson Correlation of Features',y=2.05,size=25)\n",
    "top_corr_features = corr.index"
   ]
  },
  {
   "cell_type": "code",
   "execution_count": 64,
   "metadata": {
    "id": "yF3GvOL0TCZF"
   },
   "outputs": [],
   "source": [
    "scaler = MinMaxScaler()\n",
    "features_minimax = pd.DataFrame(scaler.fit_transform(df2),columns =(df2.columns))"
   ]
  },
  {
   "cell_type": "markdown",
   "metadata": {
    "id": "5ZjZ__hczQ-s"
   },
   "source": [
    "## split dataset"
   ]
  },
  {
   "cell_type": "code",
   "execution_count": 65,
   "metadata": {
    "id": "MOAcJREozQ-u"
   },
   "outputs": [
    {
     "data": {
      "text/plain": [
       "array([0., 1.])"
      ]
     },
     "metadata": {},
     "output_type": "display_data"
    }
   ],
   "source": [
    "from sklearn.model_selection import train_test_split\n",
    "\n",
    "display(df1.readmit30.unique())#.value_counts())\n",
    "df1.shape\n",
    "y = features_minimax.readmit30\n",
    "X = features_minimax.drop(\"readmit30\", axis=1)\n",
    "\n",
    "y = df2.readmit30\n",
    "X = df2.drop('readmit30', axis=1)\n",
    "\n",
    "#cat_features = X.dtypes == object\n",
    "X_train, X_test, y_train, y_test = train_test_split(X, y, test_size=0.20,stratify=y,random_state=123)\n",
    "\n",
    "scaler= StandardScaler()\n",
    "X_train = scaler.fit_transform(X_train)\n",
    "X_test = scaler.transform(X_test)"
   ]
  },
  {
   "cell_type": "code",
   "execution_count": 66,
   "metadata": {
    "id": "GfQfKHonluuf"
   },
   "outputs": [
    {
     "data": {
      "text/plain": [
       "float64    51\n",
       "object      5\n",
       "int64       2\n",
       "dtype: int64"
      ]
     },
     "execution_count": 66,
     "metadata": {},
     "output_type": "execute_result"
    }
   ],
   "source": [
    "df1.dtypes.value_counts()"
   ]
  },
  {
   "cell_type": "code",
   "execution_count": 67,
   "metadata": {
    "id": "Bi9ZIy2zzQ-4"
   },
   "outputs": [
    {
     "data": {
      "text/plain": [
       "(0.19221879815100154, 0.1923728813559322)"
      ]
     },
     "execution_count": 67,
     "metadata": {},
     "output_type": "execute_result"
    }
   ],
   "source": [
    "# calculate the percentage of ones\n",
    "# simply calculate the mean = percentage of ones\n",
    "y_test.mean(),df1.readmit30.mean()"
   ]
  },
  {
   "cell_type": "markdown",
   "metadata": {
    "id": "H4jJmbsnzQ_R"
   },
   "source": [
    "## Models Selection"
   ]
  },
  {
   "cell_type": "code",
   "execution_count": 68,
   "metadata": {
    "id": "-YhKumigzQ_T"
   },
   "outputs": [
    {
     "name": "stdout",
     "output_type": "stream",
     "text": [
      "\n",
      " RandomForestClassifier() \n",
      "Trainng score: 1.000\n",
      "Testing score: 0.838\n",
      "Cross validation score: 0.834\n",
      "ROC AUC Score: 0.579\n",
      "[[2096    1]\n",
      " [ 420   79]]\n",
      "              precision    recall  f1-score   support\n",
      "\n",
      "         0.0       0.83      1.00      0.91      2097\n",
      "         1.0       0.99      0.16      0.27       499\n",
      "\n",
      "    accuracy                           0.84      2596\n",
      "   macro avg       0.91      0.58      0.59      2596\n",
      "weighted avg       0.86      0.84      0.79      2596\n",
      "\n",
      "\n",
      " GradientBoostingClassifier() \n",
      "Trainng score: 0.824\n",
      "Testing score: 0.810\n",
      "Cross validation score: 0.810\n",
      "ROC AUC Score: 0.512\n",
      "[[2090    7]\n",
      " [ 485   14]]\n",
      "              precision    recall  f1-score   support\n",
      "\n",
      "         0.0       0.81      1.00      0.89      2097\n",
      "         1.0       0.67      0.03      0.05       499\n",
      "\n",
      "    accuracy                           0.81      2596\n",
      "   macro avg       0.74      0.51      0.47      2596\n",
      "weighted avg       0.78      0.81      0.73      2596\n",
      "\n",
      "\n",
      " HistGradientBoostingClassifier() \n",
      "Trainng score: 0.857\n",
      "Testing score: 0.823\n",
      "Cross validation score: 0.821\n",
      "ROC AUC Score: 0.552\n",
      "[[2082   15]\n",
      " [ 444   55]]\n",
      "              precision    recall  f1-score   support\n",
      "\n",
      "         0.0       0.82      0.99      0.90      2097\n",
      "         1.0       0.79      0.11      0.19       499\n",
      "\n",
      "    accuracy                           0.82      2596\n",
      "   macro avg       0.80      0.55      0.55      2596\n",
      "weighted avg       0.82      0.82      0.76      2596\n",
      "\n",
      "\n",
      " ExtraTreesClassifier() \n",
      "Trainng score: 1.000\n",
      "Testing score: 0.836\n",
      "Cross validation score: 0.834\n",
      "ROC AUC Score: 0.576\n",
      "[[2095    2]\n",
      " [ 423   76]]\n",
      "              precision    recall  f1-score   support\n",
      "\n",
      "         0.0       0.83      1.00      0.91      2097\n",
      "         1.0       0.97      0.15      0.26       499\n",
      "\n",
      "    accuracy                           0.84      2596\n",
      "   macro avg       0.90      0.58      0.59      2596\n",
      "weighted avg       0.86      0.84      0.78      2596\n",
      "\n",
      "\n",
      " KNeighborsClassifier() \n",
      "Trainng score: 0.840\n",
      "Testing score: 0.792\n",
      "Cross validation score: 0.797\n",
      "ROC AUC Score: 0.555\n",
      "[[1970  127]\n",
      " [ 414   85]]\n",
      "              precision    recall  f1-score   support\n",
      "\n",
      "         0.0       0.83      0.94      0.88      2097\n",
      "         1.0       0.40      0.17      0.24       499\n",
      "\n",
      "    accuracy                           0.79      2596\n",
      "   macro avg       0.61      0.55      0.56      2596\n",
      "weighted avg       0.74      0.79      0.76      2596\n",
      "\n",
      "\n",
      " LogisticRegression() \n",
      "Trainng score: 0.807\n",
      "Testing score: 0.805\n",
      "Cross validation score: 0.807\n",
      "ROC AUC Score: 0.514\n",
      "[[2071   26]\n",
      " [ 479   20]]\n",
      "              precision    recall  f1-score   support\n",
      "\n",
      "         0.0       0.81      0.99      0.89      2097\n",
      "         1.0       0.43      0.04      0.07       499\n",
      "\n",
      "    accuracy                           0.81      2596\n",
      "   macro avg       0.62      0.51      0.48      2596\n",
      "weighted avg       0.74      0.81      0.73      2596\n",
      "\n",
      "\n",
      " SVC() \n",
      "Trainng score: 0.840\n",
      "Testing score: 0.820\n",
      "Cross validation score: 0.819\n",
      "ROC AUC Score: 0.533\n",
      "[[2096    1]\n",
      " [ 466   33]]\n",
      "              precision    recall  f1-score   support\n",
      "\n",
      "         0.0       0.82      1.00      0.90      2097\n",
      "         1.0       0.97      0.07      0.12       499\n",
      "\n",
      "    accuracy                           0.82      2596\n",
      "   macro avg       0.89      0.53      0.51      2596\n",
      "weighted avg       0.85      0.82      0.75      2596\n",
      "\n"
     ]
    }
   ],
   "source": [
    "from sklearn.metrics import accuracy_score, log_loss\n",
    "from sklearn.neighbors import KNeighborsClassifier\n",
    "from sklearn.tree import DecisionTreeClassifier\n",
    "from sklearn.experimental import enable_hist_gradient_boosting  # noqa\n",
    "from sklearn.ensemble import HistGradientBoostingClassifier, GradientBoostingClassifier\n",
    "from sklearn.ensemble import RandomForestClassifier, AdaBoostClassifier,ExtraTreesClassifier \n",
    "from sklearn.linear_model import LogisticRegression\n",
    "from sklearn.svm import SVR,SVC\n",
    "\n",
    "classifiers = [\n",
    "    RandomForestClassifier(),\n",
    "    GradientBoostingClassifier(),\n",
    "    HistGradientBoostingClassifier(),\n",
    "    ExtraTreesClassifier(),\n",
    "    KNeighborsClassifier(),\n",
    "    LogisticRegression(),\n",
    "    SVC(),\n",
    "    \n",
    "    ]\n",
    "\n",
    "for classifier in classifiers:\n",
    "    pipe = make_pipeline(StandardScaler(), classifier)\n",
    "\n",
    "    pipe.fit(X_train, y_train)\n",
    "    cv_scores = cross_val_score(pipe, X_train, y_train, cv=3, scoring=\"accuracy\")\n",
    "    y_pred = pipe.predict(X_test)\n",
    "    \n",
    "    print('\\n',classifier,\"\\nTrainng score: %.3f\" % pipe.score(X_train, y_train))\n",
    "    print(\"Testing score: %.3f\" % pipe.score(X_test, y_test))\n",
    "    print('Cross validation score: %.3f' % mean(cv_scores))\n",
    "    print(\"ROC AUC Score: %.3f\" % roc_auc_score(y_test, y_pred))\n",
    "\n",
    "    print(confusion_matrix(y_test, y_pred))\n",
    "    print(classification_report(y_test, y_pred))\n",
    "    "
   ]
  },
  {
   "cell_type": "markdown",
   "metadata": {
    "id": "rOV0LVeQluvK"
   },
   "source": [
    "## RandomForestClassifier\n",
    "\n",
    "\n"
   ]
  },
  {
   "cell_type": "code",
   "execution_count": 69,
   "metadata": {
    "id": "RwuWDx7ZluvN",
    "scrolled": true
   },
   "outputs": [
    {
     "name": "stdout",
     "output_type": "stream",
     "text": [
      "Training score: 1.000\n",
      "Testing score: 0.837\n",
      "Cross validation score: 0.836\n",
      "ROC AUC Score: 0.578\n",
      "[[2096    1]\n",
      " [ 421   78]]\n",
      "              precision    recall  f1-score   support\n",
      "\n",
      "         0.0       0.83      1.00      0.91      2097\n",
      "         1.0       0.99      0.16      0.27       499\n",
      "\n",
      "    accuracy                           0.84      2596\n",
      "   macro avg       0.91      0.58      0.59      2596\n",
      "weighted avg       0.86      0.84      0.79      2596\n",
      "\n"
     ]
    }
   ],
   "source": [
    "from sklearn.ensemble import RandomForestClassifier\n",
    "randf_clf = RandomForestClassifier()\n",
    "\n",
    "#cross validation \n",
    "scores = cross_val_score(randf_clf, X_train, y_train, cv=5, scoring=\"accuracy\")\n",
    "\n",
    "# fit model\n",
    "clf_rf = randf_clf.fit(X_train, y_train)\n",
    "\n",
    "# Predict model\n",
    "y_pred = randf_clf.predict(X_test)\n",
    "\n",
    "# Use score method to get accuracy of model\n",
    "print(\"Training score: %.3f\" % randf_clf.score(X_train, y_train))   \n",
    "print(\"Testing score: %.3f\" % randf_clf.score(X_test, y_test))\n",
    "print(\"Cross validation score: %.3f\" % mean(scores))\n",
    "print(\"ROC AUC Score: %.3f\" % roc_auc_score(y_test, y_pred))\n",
    "print(confusion_matrix(y_test, y_pred))\n",
    "print(classification_report(y_test, y_pred))"
   ]
  },
  {
   "cell_type": "code",
   "execution_count": 70,
   "metadata": {},
   "outputs": [
    {
     "data": {
      "image/png": "[encoded data removed]",
      "text/plain": [
       "<Figure size 432x288 with 1 Axes>"
      ]
     },
     "metadata": {
      "needs_background": "light"
     },
     "output_type": "display_data"
    }
   ],
   "source": [
    "#plot graph of inbuilt class feature importances for better visualization\n",
    "randf_clf.feature_importances_\n",
    "feat_importances = pd.Series(clf_rf.feature_importances_, index=X.columns)\n",
    "feat_importances.nlargest(15).plot(kind='barh')\n",
    "plt.show()"
   ]
  },
  {
   "cell_type": "markdown",
   "metadata": {
    "id": "Vk5qk0BsluvY"
   },
   "source": [
    "### Tunning RandomForestClassifier\n"
   ]
  },
  {
   "cell_type": "code",
   "execution_count": 71,
   "metadata": {
    "id": "7TsdMHq6luva",
    "scrolled": true
   },
   "outputs": [
    {
     "name": "stdout",
     "output_type": "stream",
     "text": [
      "Training score: 0.886\n",
      "Testing score: 0.831\n",
      "Cross validation score: 0.826\n",
      "ROC AUC Score: 0.568\n",
      "[[2085   12]\n",
      " [ 428   71]]\n",
      "              precision    recall  f1-score   support\n",
      "\n",
      "         0.0       0.83      0.99      0.90      2097\n",
      "         1.0       0.86      0.14      0.24       499\n",
      "\n",
      "    accuracy                           0.83      2596\n",
      "   macro avg       0.84      0.57      0.57      2596\n",
      "weighted avg       0.83      0.83      0.78      2596\n",
      "\n"
     ]
    }
   ],
   "source": [
    "## Tunning RandomForestClassifier\n",
    "\n",
    "randf_clf = RandomForestClassifier(criterion='gini', max_features=None,min_samples_split = 4,\n",
    "                        min_samples_leaf=7, n_estimators=18, n_jobs=1,random_state=3, verbose=False)\n",
    "#make pipeline\n",
    "pipe_rf = make_pipeline(StandardScaler(), randf_clf)\n",
    "\n",
    "#cross validation \n",
    "scores = cross_val_score(pipe_rf, X_train, y_train, cv=5, scoring=\"accuracy\")\n",
    "\n",
    "# fit model\n",
    "clf_rf = pipe_rf.fit(X_train, y_train)\n",
    "\n",
    "# Predict model\n",
    "y_pred = pipe_rf.predict(X_test)\n",
    "\n",
    "# Use score method to get accuracy of model\n",
    "print(\"Training score: %.3f\" % pipe_rf.score(X_train, y_train))   \n",
    "print(\"Testing score: %.3f\" % pipe_rf.score(X_test, y_test))\n",
    "print(\"Cross validation score: %.3f\" % mean(scores))\n",
    "print(\"ROC AUC Score: %.3f\" % roc_auc_score(y_test, y_pred))\n",
    "print(confusion_matrix(y_test, y_pred))\n",
    "print(classification_report(y_test, y_pred))"
   ]
  },
  {
   "cell_type": "markdown",
   "metadata": {
    "id": "gsxktjC-luvo"
   },
   "source": [
    "## GradientBoostingClassifier"
   ]
  },
  {
   "cell_type": "code",
   "execution_count": 72,
   "metadata": {
    "id": "xZLmr8VNluvq",
    "scrolled": true
   },
   "outputs": [
    {
     "name": "stdout",
     "output_type": "stream",
     "text": [
      "Training score: 0.824\n",
      "Testing score: 0.811\n",
      "Cross validation score: 0.812\n",
      "ROC AUC Score: 0.513\n",
      "[[2091    6]\n",
      " [ 485   14]]\n",
      "              precision    recall  f1-score   support\n",
      "\n",
      "         0.0       0.81      1.00      0.89      2097\n",
      "         1.0       0.70      0.03      0.05       499\n",
      "\n",
      "    accuracy                           0.81      2596\n",
      "   macro avg       0.76      0.51      0.47      2596\n",
      "weighted avg       0.79      0.81      0.73      2596\n",
      "\n",
      "\n",
      "Is this model predicting on [0],[1] or [0,1]?  [0. 1.]\n"
     ]
    },
    {
     "data": {
      "image/png": "[encoded data removed]",
      "text/plain": [
       "<Figure size 432x288 with 1 Axes>"
      ]
     },
     "metadata": {
      "needs_background": "light"
     },
     "output_type": "display_data"
    }
   ],
   "source": [
    "from sklearn.ensemble import GradientBoostingClassifier\n",
    "\n",
    "gdb_clf =GradientBoostingClassifier()\n",
    "\n",
    "# fit model\n",
    "clf_rf = gdb_clf.fit(X_train, y_train)\n",
    "scores = cross_val_score(gdb_clf, X_train, y_train, cv=5, scoring=\"accuracy\")\n",
    "\n",
    "# Predict model\n",
    "y_pred = gdb_clf.predict(X_test)\n",
    "\n",
    "print(\"Training score: %.3f\" % gdb_clf.score(X_train, y_train))   \n",
    "print(\"Testing score: %.3f\" % gdb_clf.score(X_test, y_test))\n",
    "print(\"Cross validation score: %.3f\" % mean(scores))\n",
    "print(\"ROC AUC Score: %.3f\" % roc_auc_score(y_test, y_pred))\n",
    "print(confusion_matrix(y_test, y_pred))\n",
    "print(classification_report(y_test, y_pred))\n",
    "\n",
    "\n",
    "print('\\nIs this model predicting on [0],[1] or [0,1]? ', np.unique(y_pred))\n",
    "\n",
    "#plot graph of inbuilt class feature importances for better visualization\n",
    "gdb_clf.feature_importances_\n",
    "feat_importances = pd.Series(gdb_clf.feature_importances_, index=X.columns)\n",
    "feat_importances.nlargest(15).plot(kind='barh')\n",
    "plt.show()"
   ]
  },
  {
   "cell_type": "markdown",
   "metadata": {
    "id": "Xnm-wOTjluvy"
   },
   "source": [
    "### Tuning GradientBoostingClassifier"
   ]
  },
  {
   "cell_type": "code",
   "execution_count": 73,
   "metadata": {
    "id": "D4x3ZtJTluv0"
   },
   "outputs": [
    {
     "name": "stdout",
     "output_type": "stream",
     "text": [
      "Training score: 0.861\n",
      "Testing score: 0.823\n",
      "Cross validation score: 0.820\n",
      "ROC AUC Score: 0.549\n",
      "[[2085   12]\n",
      " [ 447   52]]\n",
      "              precision    recall  f1-score   support\n",
      "\n",
      "         0.0       0.82      0.99      0.90      2097\n",
      "         1.0       0.81      0.10      0.18       499\n",
      "\n",
      "    accuracy                           0.82      2596\n",
      "   macro avg       0.82      0.55      0.54      2596\n",
      "weighted avg       0.82      0.82      0.76      2596\n",
      "\n",
      "\n",
      "Is this model predicting on [0],[1] or [0,1]?  [0. 1.]\n"
     ]
    }
   ],
   "source": [
    "clf_gdb = GradientBoostingClassifier(n_estimators=100,learning_rate=0.05,\n",
    "                                     subsample=.75,max_depth=6,random_state=3)\n",
    "# gdb = GradientBoostingClassifier(max_features=0.4,min_samples_leaf=4, min_samples_split=11, n_estimators=100)\n",
    "\n",
    "\n",
    "pipe_gdb = make_pipeline(StandardScaler(), clf_gdb)\n",
    "\n",
    "# fit model\n",
    "clf_rf = pipe_gdb.fit(X_train, y_train)\n",
    "scores = cross_val_score(pipe_gdb, X_train, y_train, cv=5, scoring=\"accuracy\")\n",
    "\n",
    "# Predict model\n",
    "y_pred = pipe_gdb.predict(X_test)\n",
    "\n",
    "# Use score method to get accuracy of model\n",
    "print(\"Training score: %.3f\" % pipe_gdb.score(X_train, y_train))   \n",
    "print(\"Testing score: %.3f\" % pipe_gdb.score(X_test, y_test))\n",
    "print(\"Cross validation score: %.3f\" % mean(scores))\n",
    "print(\"ROC AUC Score: %.3f\" % roc_auc_score(y_test, y_pred))\n",
    "print(confusion_matrix(y_test, y_pred))\n",
    "print(classification_report(y_test, y_pred))\n",
    "\n",
    "print('\\nIs this model predicting on [0],[1] or [0,1]? ', np.unique(y_pred))\n"
   ]
  },
  {
   "cell_type": "markdown",
   "metadata": {
    "id": "ntRCuAdtluv9"
   },
   "source": [
    "## HistGradientBoostingClassifier"
   ]
  },
  {
   "cell_type": "code",
   "execution_count": 74,
   "metadata": {
    "id": "hgvJJCv5luv-",
    "scrolled": true
   },
   "outputs": [
    {
     "name": "stdout",
     "output_type": "stream",
     "text": [
      "Training score: 0.859\n",
      "Testing score: 0.820\n",
      "Cross validation score: 0.825\n",
      "ROC AUC Score: 0.546\n",
      "[[2079   18]\n",
      " [ 449   50]]\n",
      "              precision    recall  f1-score   support\n",
      "\n",
      "         0.0       0.82      0.99      0.90      2097\n",
      "         1.0       0.74      0.10      0.18       499\n",
      "\n",
      "    accuracy                           0.82      2596\n",
      "   macro avg       0.78      0.55      0.54      2596\n",
      "weighted avg       0.81      0.82      0.76      2596\n",
      "\n"
     ]
    }
   ],
   "source": [
    "from sklearn.ensemble import HistGradientBoostingClassifier\n",
    "\n",
    "hist_clf = HistGradientBoostingClassifier()\n",
    "\n",
    "#cross validation \n",
    "scores = cross_val_score(hist_clf, X_train, y_train, cv=5, scoring=\"accuracy\")\n",
    "\n",
    "# fit model\n",
    "clf_rf = hist_clf.fit(X_train, y_train)\n",
    "\n",
    "# Predict model\n",
    "y_pred = hist_clf.predict(X_test)\n",
    "\n",
    "# Use score method to get accuracy of model\n",
    "print(\"Training score: %.3f\" % hist_clf.score(X_train, y_train))   \n",
    "print(\"Testing score: %.3f\" % hist_clf.score(X_test, y_test))\n",
    "print(\"Cross validation score: %.3f\" % mean(scores))\n",
    "print(\"ROC AUC Score: %.3f\" % roc_auc_score(y_test, y_pred))\n",
    "print(confusion_matrix(y_test, y_pred))\n",
    "print(classification_report(y_test, y_pred))"
   ]
  },
  {
   "cell_type": "markdown",
   "metadata": {
    "id": "oJkuVfHwluwF"
   },
   "source": [
    "### Tunning HistGradientBoostingClassifier"
   ]
  },
  {
   "cell_type": "code",
   "execution_count": 75,
   "metadata": {
    "id": "cEKVg4MAluwH"
   },
   "outputs": [
    {
     "name": "stdout",
     "output_type": "stream",
     "text": [
      "Training score: 0.857\n",
      "Testing score: 0.825\n",
      "Cross validation score: 0.824\n",
      "ROC AUC Score: 0.554\n",
      "[[2084   13]\n",
      " [ 442   57]]\n",
      "              precision    recall  f1-score   support\n",
      "\n",
      "         0.0       0.83      0.99      0.90      2097\n",
      "         1.0       0.81      0.11      0.20       499\n",
      "\n",
      "    accuracy                           0.82      2596\n",
      "   macro avg       0.82      0.55      0.55      2596\n",
      "weighted avg       0.82      0.82      0.77      2596\n",
      "\n"
     ]
    }
   ],
   "source": [
    "### Tunning\n",
    "clf_hist = HistGradientBoostingClassifier(learning_rate=0.1,max_depth=8,random_state=3)\n",
    "\n",
    "#make pipeline\n",
    "pipe_hist = make_pipeline(StandardScaler(), clf_hist)\n",
    "\n",
    "#cross validation \n",
    "scores = cross_val_score(pipe_hist, X_train, y_train, cv=5, scoring=\"accuracy\")\n",
    "\n",
    "# fit model\n",
    "clf_rf_fit = pipe_hist.fit(X_train, y_train)\n",
    "\n",
    "# Predict model\n",
    "y_pred = pipe_hist.predict(X_test)\n",
    "\n",
    "# Use score method to get accuracy of model\n",
    "print(\"Training score: %.3f\" % pipe_hist.score(X_train, y_train))   \n",
    "print(\"Testing score: %.3f\" % pipe_hist.score(X_test, y_test))\n",
    "print(\"Cross validation score: %.3f\" % mean(scores))\n",
    "print(\"ROC AUC Score: %.3f\" % roc_auc_score(y_test, y_pred))\n",
    "print(confusion_matrix(y_test, y_pred))\n",
    "print(classification_report(y_test, y_pred))"
   ]
  },
  {
   "cell_type": "markdown",
   "metadata": {
    "id": "UcdVJ6vOluwY"
   },
   "source": [
    "## ExtraTreesClassifier"
   ]
  },
  {
   "cell_type": "code",
   "execution_count": 76,
   "metadata": {
    "id": "7atOUcUjluwZ",
    "scrolled": true
   },
   "outputs": [
    {
     "name": "stdout",
     "output_type": "stream",
     "text": [
      "Training score: 1.000\n",
      "Testing score: 0.837\n",
      "Cross validation score: 0.836\n",
      "ROC AUC Score: 0.577\n",
      "[[2094    3]\n",
      " [ 421   78]]\n",
      "              precision    recall  f1-score   support\n",
      "\n",
      "         0.0       0.83      1.00      0.91      2097\n",
      "         1.0       0.96      0.16      0.27       499\n",
      "\n",
      "    accuracy                           0.84      2596\n",
      "   macro avg       0.90      0.58      0.59      2596\n",
      "weighted avg       0.86      0.84      0.79      2596\n",
      "\n"
     ]
    }
   ],
   "source": [
    "from sklearn.ensemble import ExtraTreesClassifier\n",
    "\n",
    "xtr_clf = ExtraTreesClassifier()\n",
    "\n",
    "#cross validation \n",
    "scores = cross_val_score(xtr_clf, X_train, y_train, cv=5, scoring=\"accuracy\")\n",
    "\n",
    "# fit model\n",
    "clf_xtr = xtr_clf.fit(X_train, y_train)\n",
    "\n",
    "# Predict model\n",
    "y_pred = xtr_clf.predict(X_test)\n",
    "\n",
    "# Use score method to get accuracy of model\n",
    "print(\"Training score: %.3f\" % xtr_clf.score(X_train, y_train))   \n",
    "print(\"Testing score: %.3f\" % xtr_clf.score(X_test, y_test))\n",
    "print(\"Cross validation score: %.3f\" % mean(scores))\n",
    "print(\"ROC AUC Score: %.3f\" % roc_auc_score(y_test, y_pred))\n",
    "print(confusion_matrix(y_test, y_pred))\n",
    "print(classification_report(y_test, y_pred))"
   ]
  },
  {
   "cell_type": "markdown",
   "metadata": {
    "id": "VDKyy4Q5luwk"
   },
   "source": [
    "### Tunning ExtraTreesClassifier"
   ]
  },
  {
   "cell_type": "code",
   "execution_count": 77,
   "metadata": {
    "id": "5TYlP45dluwn"
   },
   "outputs": [
    {
     "name": "stdout",
     "output_type": "stream",
     "text": [
      "Training score: 1.000\n",
      "Testing score: 0.837\n",
      "Cross validation score: 0.836\n",
      "ROC AUC Score: 0.579\n",
      "[[2095    2]\n",
      " [ 420   79]]\n",
      "              precision    recall  f1-score   support\n",
      "\n",
      "         0.0       0.83      1.00      0.91      2097\n",
      "         1.0       0.98      0.16      0.27       499\n",
      "\n",
      "    accuracy                           0.84      2596\n",
      "   macro avg       0.90      0.58      0.59      2596\n",
      "weighted avg       0.86      0.84      0.79      2596\n",
      "\n"
     ]
    }
   ],
   "source": [
    "## Tunning\n",
    "clf_xtr= ExtraTreesClassifier(max_features=0.45, min_samples_leaf=7,min_samples_split=12)\n",
    "clf_xtr1= ExtraTreesClassifier(bootstrap=True, max_features=0.7472105238637603,\n",
    "                         n_estimators=264, n_jobs=1, random_state=0, verbose=False)\n",
    "clf_xtr2 = ExtraTreesClassifier(criterion='gini', max_features=0.17984040275895374,\n",
    "                     min_samples_leaf=4, n_estimators=85, n_jobs=1,random_state=0, verbose=False)\n",
    "\n",
    "# make pipe\n",
    "pipe_xrt = make_pipeline(StandardScaler(), clf_xtr1)#2\n",
    "\n",
    "# cross validation\n",
    "scores = cross_val_score(pipe_xrt, X_train, y_train, cv=5, scoring=\"accuracy\")\n",
    "\n",
    "\n",
    "# fit model\n",
    "clf_xtr_1 = pipe_xrt.fit(X_train, y_train)\n",
    "\n",
    "# Predict model\n",
    "y_pred = pipe_xrt.predict(X_test)\n",
    "\n",
    "# Use score method to get accuracy of model\n",
    "print(\"Training score: %.3f\" % pipe_xrt.score(X_train, y_train))   \n",
    "print(\"Testing score: %.3f\" % pipe_xrt.score(X_test, y_test))\n",
    "print(\"Cross validation score: %.3f\" % mean(scores))\n",
    "print(\"ROC AUC Score: %.3f\" % roc_auc_score(y_test, y_pred))\n",
    "print(confusion_matrix(y_test, y_pred))\n",
    "print(classification_report(y_test, y_pred))"
   ]
  },
  {
   "cell_type": "markdown",
   "metadata": {
    "id": "o2aanzQAluw0"
   },
   "source": [
    "## KNeighborsClassifier"
   ]
  },
  {
   "cell_type": "code",
   "execution_count": 78,
   "metadata": {
    "id": "Klu2Lz8Gluw2"
   },
   "outputs": [
    {
     "name": "stdout",
     "output_type": "stream",
     "text": [
      "Training score: 0.840\n",
      "Testing score: 0.792\n",
      "Cross validation score: 0.797\n",
      "ROC AUC Score: 0.555\n",
      "[[1970  127]\n",
      " [ 414   85]]\n",
      "              precision    recall  f1-score   support\n",
      "\n",
      "         0.0       0.83      0.94      0.88      2097\n",
      "         1.0       0.40      0.17      0.24       499\n",
      "\n",
      "    accuracy                           0.79      2596\n",
      "   macro avg       0.61      0.55      0.56      2596\n",
      "weighted avg       0.74      0.79      0.76      2596\n",
      "\n"
     ]
    }
   ],
   "source": [
    "from sklearn.neighbors import KNeighborsClassifier\n",
    "\n",
    "knn_clf = KNeighborsClassifier()\n",
    "\n",
    "#cross validation\n",
    "scores = cross_val_score(knn_clf, X_train, y_train, cv=5, scoring=\"accuracy\")\n",
    "\n",
    "# fit model\n",
    "clf_rf = knn_clf.fit(X_train, y_train)\n",
    "\n",
    "# Predict model\n",
    "y_pred = knn_clf.predict(X_test)\n",
    "\n",
    "# Use score method to get accuracy of model\n",
    "print(\"Training score: %.3f\" % knn_clf.score(X_train, y_train))   \n",
    "print(\"Testing score: %.3f\" % knn_clf.score(X_test, y_test))\n",
    "print(\"Cross validation score: %.3f\" % mean(scores))\n",
    "print(\"ROC AUC Score: %.3f\" % roc_auc_score(y_test, y_pred))\n",
    "print(confusion_matrix(y_test, y_pred))\n",
    "print(classification_report(y_test, y_pred))"
   ]
  },
  {
   "cell_type": "markdown",
   "metadata": {
    "id": "OanuI06SluxB"
   },
   "source": [
    "### Tunning KNeighborsClassifier"
   ]
  },
  {
   "cell_type": "code",
   "execution_count": 79,
   "metadata": {
    "id": "0xwavu3hluxC"
   },
   "outputs": [
    {
     "name": "stdout",
     "output_type": "stream",
     "text": [
      "Training score: 1.000\n",
      "Testing score: 0.832\n",
      "Cross validation score: 0.833\n",
      "ROC AUC Score: 0.575\n",
      "[[2083   14]\n",
      " [ 421   78]]\n",
      "              precision    recall  f1-score   support\n",
      "\n",
      "         0.0       0.83      0.99      0.91      2097\n",
      "         1.0       0.85      0.16      0.26       499\n",
      "\n",
      "    accuracy                           0.83      2596\n",
      "   macro avg       0.84      0.57      0.58      2596\n",
      "weighted avg       0.83      0.83      0.78      2596\n",
      "\n"
     ]
    }
   ],
   "source": [
    "## Tunning\n",
    "#clf_knn = KNeighborsClassifier(n_neighbors=55, p=1, weights='distance')\n",
    "clf_knn= KNeighborsClassifier(algorithm='auto', leaf_size=30, metric='euclidean',\n",
    "                     metric_params=None, n_jobs=1, n_neighbors=24, p=2,\n",
    "                     weights='distance')\n",
    "#make pipeline\n",
    "pipe_knn = make_pipeline(StandardScaler(), clf_knn)\n",
    "\n",
    "# fit model\n",
    "clf_rf = pipe_knn.fit(X_train, y_train)\n",
    "scores = cross_val_score(pipe_knn, X_train, y_train, cv=5, scoring=\"accuracy\")\n",
    "\n",
    "# Predict model\n",
    "y_pred = pipe_knn.predict(X_test)\n",
    "\n",
    "# Use score method to get accuracy of model\n",
    "print(\"Training score: %.3f\" % pipe_knn.score(X_train, y_train))   \n",
    "print(\"Testing score: %.3f\" % pipe_knn.score(X_test, y_test))\n",
    "print(\"Cross validation score: %.3f\" % mean(scores))\n",
    "print(\"ROC AUC Score: %.3f\" % roc_auc_score(y_test, y_pred))\n",
    "print(confusion_matrix(y_test, y_pred))\n",
    "print(classification_report(y_test, y_pred))"
   ]
  },
  {
   "cell_type": "markdown",
   "metadata": {
    "id": "8cEkkHeF5sZ8"
   },
   "source": [
    "## Support Vector machine"
   ]
  },
  {
   "cell_type": "code",
   "execution_count": 80,
   "metadata": {
    "id": "K7NWOeZb37M7"
   },
   "outputs": [
    {
     "name": "stdout",
     "output_type": "stream",
     "text": [
      "Training score: 0.840\n",
      "Testing score: 0.820\n",
      "Cross validation score: 0.821\n",
      "ROC AUC Score: 0.533\n",
      "[[2096    1]\n",
      " [ 466   33]]\n",
      "              precision    recall  f1-score   support\n",
      "\n",
      "         0.0       0.82      1.00      0.90      2097\n",
      "         1.0       0.97      0.07      0.12       499\n",
      "\n",
      "    accuracy                           0.82      2596\n",
      "   macro avg       0.89      0.53      0.51      2596\n",
      "weighted avg       0.85      0.82      0.75      2596\n",
      "\n"
     ]
    }
   ],
   "source": [
    "from sklearn import svm\n",
    "svc_clf = svm.SVC()\n",
    "\n",
    "# cross validation\n",
    "scores = cross_val_score(svc_clf, X_train, y_train, cv=5, scoring=\"accuracy\")\n",
    "\n",
    "# fit model\n",
    "svc_clf.fit(X_train, y_train)\n",
    "\n",
    "# Predict model\n",
    "y_pred = svc_clf.predict(X_test)\n",
    "\n",
    "# Use score method to get accuracy of model\n",
    "print(\"Training score: %.3f\" % svc_clf.score(X_train, y_train))   \n",
    "print(\"Testing score: %.3f\" % svc_clf.score(X_test, y_test))\n",
    "print(\"Cross validation score: %.3f\" % mean(scores))\n",
    "print(\"ROC AUC Score: %.3f\" % roc_auc_score(y_test, y_pred))\n",
    "print(confusion_matrix(y_test, y_pred))\n",
    "print(classification_report(y_test, y_pred))"
   ]
  },
  {
   "cell_type": "markdown",
   "metadata": {
    "id": "JT7QPbGk5x1U"
   },
   "source": [
    "### Tunning Support Vector machine"
   ]
  },
  {
   "cell_type": "code",
   "execution_count": 81,
   "metadata": {
    "id": "NJQ4xu084s0_"
   },
   "outputs": [
    {
     "name": "stdout",
     "output_type": "stream",
     "text": [
      "Training score: 1.000\n",
      "Testing score: 0.836\n",
      "Cross validation score: 0.836\n",
      "ROC AUC Score: 0.574\n",
      "[[2097    0]\n",
      " [ 425   74]]\n",
      "              precision    recall  f1-score   support\n",
      "\n",
      "         0.0       0.83      1.00      0.91      2097\n",
      "         1.0       1.00      0.15      0.26       499\n",
      "\n",
      "    accuracy                           0.84      2596\n",
      "   macro avg       0.92      0.57      0.58      2596\n",
      "weighted avg       0.86      0.84      0.78      2596\n",
      "\n"
     ]
    }
   ],
   "source": [
    "## Tunning\n",
    "clf_svc = SVC(C=78628.91306010487, cache_size=512, class_weight=None, degree=1,gamma=0.44909476152905226, \n",
    "              kernel='rbf', max_iter=430087067.0, random_state=1, shrinking=False,tol=0.0007841109378165444)\n",
    "\n",
    "#make pipeline\n",
    "pipe_svc = make_pipeline(StandardScaler(), clf_svc)\n",
    "\n",
    "#cross validation\n",
    "scores = cross_val_score(pipe_svc, X_train, y_train, cv=5, scoring=\"accuracy\")\n",
    "\n",
    "# fit model\n",
    "clf_rf = pipe_svc.fit(X_train, y_train)\n",
    "\n",
    "# Predict model\n",
    "y_pred = pipe_svc.predict(X_test)\n",
    "\n",
    "# Use score method to get accuracy of model\n",
    "print(\"Training score: %.3f\" % pipe_svc.score(X_train, y_train))   \n",
    "print(\"Testing score: %.3f\" % pipe_svc.score(X_test, y_test))\n",
    "print(\"Cross validation score: %.3f\" % mean(scores))\n",
    "print(\"ROC AUC Score: %.3f\" % roc_auc_score(y_test, y_pred))\n",
    "print(confusion_matrix(y_test, y_pred))\n",
    "print(classification_report(y_test, y_pred))\n"
   ]
  },
  {
   "cell_type": "markdown",
   "metadata": {
    "id": "5gr6xyK7luxR"
   },
   "source": [
    "## RandomizedSearchCV\n",
    "**RandomForestClassifier**"
   ]
  },
  {
   "cell_type": "code",
   "execution_count": 82,
   "metadata": {
    "id": "Yd_2ya4dluxT"
   },
   "outputs": [
    {
     "name": "stdout",
     "output_type": "stream",
     "text": [
      "Training score: 1.000\n",
      "Testing score: 0.837\n",
      "Cross validation score: 0.836\n",
      "best score: 0.836\n",
      "\n",
      " best_parameters\n",
      " {'randomforestclassifier__min_samples_split': 3, 'randomforestclassifier__min_samples_leaf': 1, 'randomforestclassifier__max_features': 'log2'}\n",
      "\n",
      "Is this model predicting on [0],[1] or [0,1]?  [0. 1.]\n"
     ]
    }
   ],
   "source": [
    "#hyper parameters\n",
    "params_rf = {\n",
    "    'randomforestclassifier__min_samples_split': [2,3,4],\n",
    "    'randomforestclassifier__min_samples_leaf': [1,2,3],\n",
    "    'randomforestclassifier__max_features': ['log2', 'sqrt','auto'],\n",
    "}\n",
    "#make pipeline\n",
    "pipe_rf = make_pipeline(StandardScaler(),RandomForestClassifier())\n",
    "\n",
    "#cross validation\n",
    "cores = cross_val_score(pipe_rf, X_train, y_train, cv=5)\n",
    "\n",
    "#Grid Search Cross Validation\n",
    "CV = RandomizedSearchCV(pipe_rf, param_distributions=params_rf, cv=5)\n",
    "\n",
    "#fit\n",
    "CV.fit(X_train, y_train)\n",
    "\n",
    "#predict\n",
    "y_pred_pipe = CV.predict(X_test)\n",
    "\n",
    "CV_score = accuracy_score(y_test,y_pred_pipe)\n",
    "print(\"Training score: %.3f\" % CV.score(X_train, y_train))  \n",
    "print(\"Testing score: %.3f\" % CV.score(X_test, y_test))\n",
    "print(\"Cross validation score: %.3f\" % mean(scores))\n",
    "print(\"best score: %.3f\" % CV.best_score_)\n",
    "print('\\n best_parameters\\n',CV.best_params_)\n",
    "print('\\nIs this model predicting on [0],[1] or [0,1]? ', np.unique(y_pred_pipe))"
   ]
  },
  {
   "cell_type": "markdown",
   "metadata": {
    "id": "lDKvRK6NTMt0"
   },
   "source": [
    "**ExtraTreesClassifier**"
   ]
  },
  {
   "cell_type": "code",
   "execution_count": 83,
   "metadata": {
    "id": "yzLG5W0_Pz6L"
   },
   "outputs": [
    {
     "name": "stdout",
     "output_type": "stream",
     "text": [
      "Training score: 0.818\n",
      "Testing score: 0.811\n",
      "best score: 0.812\n",
      "\n",
      " best_parameters\n",
      " {'extratreesclassifier__n_estimators': 125, 'extratreesclassifier__min_samples_split': 30, 'extratreesclassifier__min_samples_leaf': 20, 'extratreesclassifier__max_features': 33}\n",
      "\n",
      "Is this model predicting on [0],[1] or [0,1]?  [0. 1.]\n"
     ]
    }
   ],
   "source": [
    "from sklearn.ensemble import ExtraTreesClassifier\n",
    "params_xtr ={\n",
    "    'extratreesclassifier__n_estimators': range(50,126,25),\n",
    "    'extratreesclassifier__max_features': range(20,50),\n",
    "    'extratreesclassifier__min_samples_leaf': range(20,50,5),\n",
    "    'extratreesclassifier__min_samples_split': range(15,36,5),\n",
    "}\n",
    "#make pipeline\n",
    "pipe_xtr = make_pipeline(StandardScaler(), ExtraTreesClassifier())\n",
    "\n",
    "#Grid Search Cross Validation\n",
    "rscv_grid = RandomizedSearchCV(pipe_xtr, param_distributions=params_xtr, cv=5)\n",
    "\n",
    "#fit\n",
    "rscv_grid.fit(X_train, y_train)\n",
    "\n",
    "#predict\n",
    "y_pred_pipe = rscv_grid.predict(X_test)\n",
    "\n",
    "CV_score = accuracy_score(y_test,y_pred_pipe)\n",
    "print(\"Training score: %.3f\" % rscv_grid.score(X_train, y_train))  \n",
    "print(\"Testing score: %.3f\" % rscv_grid.score(X_test, y_test))\n",
    "#print(\"Cross validation score: %.3f\" % mean(scores))\n",
    "print(\"best score: %.3f\" % rscv_grid.best_score_)\n",
    "print('\\n best_parameters\\n',rscv_grid.best_params_)\n",
    "print('\\nIs this model predicting on [0],[1] or [0,1]? ', np.unique(y_pred_pipe))"
   ]
  },
  {
   "cell_type": "markdown",
   "metadata": {
    "id": "9rsqR-bQTciT"
   },
   "source": [
    "**Decisiontreeclassifier**"
   ]
  },
  {
   "cell_type": "code",
   "execution_count": 84,
   "metadata": {
    "id": "mm2ip1qZSnhu"
   },
   "outputs": [
    {
     "name": "stdout",
     "output_type": "stream",
     "text": [
      "Training score: 0.814\n",
      "Testing score: 0.812\n",
      "accuracy score: 0.812\n",
      "Cross validation score: 0.836\n",
      "best cross-validation accuracy: 0.804\n",
      "\n",
      " best_parameters\n",
      " {'decisiontreeclassifier__min_samples_split': 15, 'decisiontreeclassifier__min_samples_leaf': 4, 'decisiontreeclassifier__max_depth': 5}\n",
      "\n",
      "Is this model predicting on [0],[1] or [0,1]?  [0. 1.]\n"
     ]
    }
   ],
   "source": [
    "from sklearn.tree import DecisionTreeClassifier\n",
    "#hyper parameters\n",
    "params_dt =  {\n",
    "    'decisiontreeclassifier__min_samples_split':[9,10,15],\n",
    "    'decisiontreeclassifier__min_samples_leaf': [2,4,8,10],\n",
    "    'decisiontreeclassifier__max_depth': [5,15,20]\n",
    "}\n",
    "#make pipe\n",
    "pipe_dt = make_pipeline(StandardScaler(), DecisionTreeClassifier())\n",
    "\n",
    "#Grid Search Cross Validation\n",
    "dt_rscv_grid = RandomizedSearchCV(pipe_dt, param_distributions=params_dt, cv=5)\n",
    "\n",
    "#fit\n",
    "dt_rscv_grid.fit(X_train, y_train)\n",
    "\n",
    "#predict\n",
    "y_pred_pipe = dt_rscv_grid.predict(X_test)\n",
    "\n",
    "CV_score = accuracy_score(y_test,y_pred_pipe)\n",
    "print(\"Training score: %.3f\" % dt_rscv_grid.score(X_train, y_train))  \n",
    "print(\"Testing score: %.3f\" % dt_rscv_grid.score(X_test, y_test))\n",
    "print(\"accuracy score: %.3f\" % CV_score)\n",
    "print(\"Cross validation score: %.3f\" % mean(scores))\n",
    "print(\"best cross-validation accuracy: %.3f\" % dt_rscv_grid.best_score_)\n",
    "print('\\n best_parameters\\n',dt_rscv_grid.best_params_)\n",
    "print('\\nIs this model predicting on [0],[1] or [0,1]? ', np.unique(y_pred_pipe))"
   ]
  },
  {
   "cell_type": "markdown",
   "metadata": {
    "id": "ej8X38Mzep2Y"
   },
   "source": [
    "**Support Vector Machine**"
   ]
  },
  {
   "cell_type": "code",
   "execution_count": 85,
   "metadata": {
    "id": "vX2606zBd5W-"
   },
   "outputs": [],
   "source": [
    "# from sklearn import svm\n",
    "# params_sv = {'svc__C':[56,57,59],\n",
    "#              'svc__gamma':[.001,.01,.1,10]\n",
    "#              }\n",
    "\n",
    "# pipe_sv = make_pipeline(StandardScaler(), SVC())\n",
    "\n",
    "# #Grid Search Cross Validation\n",
    "# CV = RandomizedSearchCV(pipe_sv, param_distributions=params_sv, cv=5)\n",
    "\n",
    "# #fit\n",
    "# CV.fit(X_train, y_train)\n",
    "\n",
    "# #predict\n",
    "# y_pred_pipe = CV.predict(X_test)\n",
    "\n",
    "# CV_score = accuracy_score(y_test,y_pred_pipe)\n",
    "# print(\"Training score: %.3f\" % CV.score(X_train, y_train))  \n",
    "# print(\"Testing score: %.3f\" % CV.score(X_test, y_test))\n",
    "# print(\"accuracy score: %.3f\" % CV_score)\n",
    "# #print(\"Cross validation score: %.3f\" % mean(scores))\n",
    "# print(\"best score: %.3f\" % CV.best_score_)\n",
    "# print('\\n best_parameters\\n',CV.best_params_)\n",
    "# print('\\nIs this model predicting on [0],[1] or [0,1]? ', np.unique(y_pred_pipe))"
   ]
  },
  {
   "cell_type": "markdown",
   "metadata": {
    "id": "a-2qfJArzRAJ"
   },
   "source": [
    "## Grid SearchCV"
   ]
  },
  {
   "cell_type": "code",
   "execution_count": 86,
   "metadata": {
    "id": "ntyTs_mbzRAP"
   },
   "outputs": [
    {
     "name": "stdout",
     "output_type": "stream",
     "text": [
      "Fitting 3 folds for each of 27 candidates, totalling 81 fits\n"
     ]
    },
    {
     "name": "stderr",
     "output_type": "stream",
     "text": [
      "[Parallel(n_jobs=1)]: Using backend SequentialBackend with 1 concurrent workers.\n",
      "[Parallel(n_jobs=1)]: Done  81 out of  81 | elapsed:  1.4min finished\n"
     ]
    },
    {
     "name": "stdout",
     "output_type": "stream",
     "text": [
      "Training score: 0.837\n",
      "Testing score: 0.817\n",
      "Cross validation score: 0.817\n",
      "CV best score: 0.817\n",
      "\n",
      " best_parameters\n",
      " {'randomforestclassifier__max_features': 'sqrt', 'randomforestclassifier__min_samples_leaf': 1, 'randomforestclassifier__min_samples_split': 4}\n",
      "\n",
      "Is this model predicting on [0],[1] or [0,1]?  [0. 1.]\n"
     ]
    }
   ],
   "source": [
    "rf = RandomForestClassifier(n_estimators=18,n_jobs=1,random_state=5, verbose=False,max_depth = 10)\n",
    "\n",
    "pipe_rf = make_pipeline(StandardScaler(), rf)\n",
    "\n",
    "#cross validation\n",
    "#scores = cross_val_score(RandomForestClassifier(), X_train, y_train, cv=5)\n",
    "#print(scores.mean())\n",
    "\n",
    "#Grid Search Cross Validation\n",
    "RF_grid = GridSearchCV(estimator=pipe_rf, param_grid=params_rf,cv=3,verbose=1,n_jobs=1)\n",
    "#rf_grid = GridSearchCV(estimator=RandomForestClassifier(),param_grid=params_rf,cv=3,verbose=1,n_jobs=1)\n",
    "\n",
    "#fit\n",
    "RF_grid.fit(X_train, y_train)\n",
    "\n",
    "#predict\n",
    "y_pred_pipe = RF_grid.predict(X_test)\n",
    "\n",
    "CV_score = accuracy_score(y_test,y_pred_pipe)\n",
    "print(\"Training score: %.3f\" % RF_grid.score(X_train, y_train))  \n",
    "print(\"Testing score: %.3f\" % RF_grid.score(X_test, y_test))\n",
    "print(\"Cross validation score: %.3f\" % mean(CV_score))\n",
    "print(\"CV best score: %.3f\" % RF_grid.best_score_)\n",
    "print('\\n best_parameters\\n',RF_grid.best_params_)\n",
    "print('\\nIs this model predicting on [0],[1] or [0,1]? ', np.unique(y_pred_pipe))"
   ]
  },
  {
   "cell_type": "code",
   "execution_count": 88,
   "metadata": {
    "id": "_OrxtlJ5luyc"
   },
   "outputs": [],
   "source": [
    "# import os\n",
    "# !sudo pip install hyperopt\n",
    "# !git clone https://github.com/hyperopt/hyperopt-sklearn.git\n",
    "# os.chdir('/content/hyperopt-sklearn')\n",
    "# os.chdir('/content/hyperopt-sklearn')\n",
    "# !sudo pip install .\n",
    "# os.chdir('/content/')"
   ]
  },
  {
   "cell_type": "markdown",
   "metadata": {
    "id": "2NPy86EhzRA3"
   },
   "source": [
    "### HyperoptEstimator"
   ]
  },
  {
   "cell_type": "code",
   "execution_count": 89,
   "metadata": {
    "id": "ksnWf8qnzRA5",
    "scrolled": true
   },
   "outputs": [
    {
     "name": "stdout",
     "output_type": "stream",
     "text": [
      "WARN: OMP_NUM_THREADS=None =>\n",
      "... If you are using openblas if you are using openblas set OMP_NUM_THREADS=1 or risk subprocess calls hanging indefinitely\n",
      "100%|████████████████████████████████████████████████████| 1/1 [00:13<00:00, 13.94s/it, best loss: 0.19836302359171887]\n",
      "100%|████████████████████████████████████████████████████| 1/1 [00:22<00:00, 22.72s/it, best loss: 0.19836302359171887]\n",
      "100%|████████████████████████████████████████████████████| 1/1 [00:55<00:00, 55.68s/it, best loss: 0.19836302359171887]\n",
      "100%|████████████████████████████████████████████████████| 1/1 [00:28<00:00, 28.73s/it, best loss: 0.17380837746750122]\n",
      "100%|████████████████████████████████████████████████████| 1/1 [00:29<00:00, 29.75s/it, best loss: 0.17380837746750122]\n",
      "100%|████████████████████████████████████████████████████| 1/1 [00:55<00:00, 55.37s/it, best loss: 0.17380837746750122]\n",
      "100%|████████████████████████████████████████████████████| 1/1 [00:55<00:00, 55.46s/it, best loss: 0.17380837746750122]\n",
      "100%|████████████████████████████████████████████████████| 1/1 [00:55<00:00, 55.63s/it, best loss: 0.17380837746750122]\n",
      "100%|████████████████████████████████████████████████████| 1/1 [00:11<00:00, 11.71s/it, best loss: 0.17380837746750122]\n",
      "100%|████████████████████████████████████████████████████| 1/1 [00:55<00:00, 55.37s/it, best loss: 0.17380837746750122]\n",
      "{'learner': KNeighborsClassifier(metric='chebyshev', n_jobs=1, n_neighbors=28, p=0,\n",
      "                     weights='distance'), 'preprocs': (StandardScaler(with_mean=False),), 'ex_preprocs': ()}\n",
      "Training data score : 1.000\n",
      "Testing data score: 0.829\n",
      "Is this model predicting on [0],[1] or [0,1]?  [0. 1.]\n"
     ]
    }
   ],
   "source": [
    "#!pip install hpsklearn\n",
    "\n",
    "from hpsklearn import HyperoptEstimator\n",
    "from hpsklearn import any_classifier\n",
    "from hpsklearn import any_preprocessing\n",
    "from hyperopt import tpe\n",
    "\n",
    "y1 = df2.readmit30\n",
    "X1 = df2.drop(\"readmit30\", axis=1)\n",
    "\n",
    "X1_train, X1_test, y1_train, y1_test = train_test_split(X1, y1, test_size=0.20, stratify=y1, random_state=123)\n",
    "\n",
    "scaler= StandardScaler()\n",
    "X1_train_hyp = scaler.fit_transform(X1_train)\n",
    "X1_test_hyp = scaler.transform(X1_test)\n",
    "\n",
    "estimator_mod = HyperoptEstimator(preprocessing=any_preprocessing('pre'),\n",
    "                              classifier=any_classifier('cla'), \n",
    "                              algo=tpe.suggest,\n",
    "                              max_evals=10,\n",
    "                              trial_timeout=45)\n",
    "\n",
    "\n",
    "# from sklearn.preprocessing import StandardScaler\n",
    "# scaler= StandardScaler()\n",
    "# X_train_hyp_ = scaler.fit_transform(X_train_hyp)\n",
    "# X_test_1 = scaler.transform(X_test1)\n",
    "\n",
    "estimator_mod.fit(X1_train_hyp, y1_train)\n",
    "\n",
    "print(estimator_mod.best_model())\n",
    "\n",
    "print(\"Training data score : %.3f\" % estimator_mod.score(X1_train_hyp, y1_train))\n",
    "print(\"Testing data score: %.3f\" % estimator_mod.score(X1_test_hyp, y1_test))\n",
    "print('Is this model predicting on [0],[1] or [0,1]? ', np.unique(estimator_mod.predict(X1_test_hyp)))"
   ]
  },
  {
   "cell_type": "markdown",
   "metadata": {
    "id": "I9IXb7jAzRBi"
   },
   "source": [
    "## make_pipeline\n",
    "<b>Randomforest"
   ]
  },
  {
   "cell_type": "code",
   "execution_count": 90,
   "metadata": {
    "id": "JGedOi9azRBk",
    "scrolled": true
   },
   "outputs": [
    {
     "data": {
      "text/plain": [
       "(12980, 58)"
      ]
     },
     "metadata": {},
     "output_type": "display_data"
    },
    {
     "name": "stdout",
     "output_type": "stream",
     "text": [
      "Pipeline(steps=[('columntransformer',\n",
      "                 ColumnTransformer(transformers=[('num',\n",
      "                                                  Pipeline(steps=[('imputer',\n",
      "                                                                   SimpleImputer(strategy='median')),\n",
      "                                                                  ('scaler',\n",
      "                                                                   StandardScaler())]),\n",
      "                                                  weekday                          False\n",
      "month                            False\n",
      "depression                        True\n",
      "sex                               True\n",
      "ethnic_group_c                    True\n",
      "insurance_provider               False\n",
      "icu_yn                            True\n",
      "tobacco_user                     False\n",
      "drugabuse                         True\n",
      "mooddisorder                      True\n",
      "diabetes                          True\n",
      "anxiety                           True\n",
      "obesity                           True\n",
      "dementia                          T...\n",
      "los                              False\n",
      "LACE_Score                       False\n",
      "APRDRG                           False\n",
      "care_plan_following_discharge     True\n",
      "cost_of_initial_stay             False\n",
      "care_plan_costs                  False\n",
      "dtype: bool)])),\n",
      "                ('pca', PCA(n_components=2)),\n",
      "                ('selectkbest', SelectKBest(k='all')),\n",
      "                ('randomforestclassifier',\n",
      "                 RandomForestClassifier(criterion='entropy', max_features=None,\n",
      "                                        min_samples_leaf=7, n_estimators=18,\n",
      "                                        n_jobs=1, random_state=3,\n",
      "                                        verbose=False))])\n",
      "Training score: 0.8431432973805855\n",
      "Test score:  0.8033898305084746\n",
      "classification_report               precision    recall  f1-score   support\n",
      "\n",
      "         0.0       0.82      0.98      0.89      2621\n",
      "         1.0       0.43      0.07      0.13       624\n",
      "\n",
      "    accuracy                           0.80      3245\n",
      "   macro avg       0.62      0.53      0.51      3245\n",
      "weighted avg       0.74      0.80      0.74      3245\n",
      "\n",
      "Confusion Matrix\n",
      " [[2561   60]\n",
      " [ 578   46]]\n",
      "Cross validation score: 0.803\n",
      "ROC AUC Score: 0.525\n",
      "roc auc score: 0.525\n",
      "\n",
      "Is this model predicting on [0],[1] or [0,1]?  [0. 1.]\n"
     ]
    }
   ],
   "source": [
    "from sklearn.impute import SimpleImputer\n",
    "from sklearn.pipeline import Pipeline\n",
    "from sklearn.compose import ColumnTransformer\n",
    "from sklearn.feature_selection import SelectKBest\n",
    "from sklearn.compose import ColumnTransformer\n",
    "from sklearn.decomposition import PCA\n",
    "\n",
    "display(df1.shape)\n",
    "#make_pipeline\n",
    "y = df1.readmit30\n",
    "X = df1.drop(\"readmit30\", axis=1)\n",
    "\n",
    "X_train, X_test, y_train, y_test = train_test_split(X, y,test_size=0.25,stratify=y,random_state=0)\n",
    "\n",
    "cat_features = X.dtypes == object\n",
    "\n",
    "ct = make_column_transformer((OneHotEncoder(sparse=False), cat_features),\n",
    "                             remainder=StandardScaler())\n",
    "\n",
    "numeric_transformer = Pipeline(steps=[\n",
    "    ('imputer', SimpleImputer(strategy='median')),\n",
    "    ('scaler', StandardScaler())])\n",
    "\n",
    "categorical_transformer = Pipeline(steps=[\n",
    "    ('imputer', SimpleImputer(strategy='most_frequent')),\n",
    "    ('onehot', OneHotEncoder(handle_unknown='ignore'))])\n",
    "\n",
    "preprocessor = ColumnTransformer(\n",
    "    transformers=[\n",
    "        ('num', numeric_transformer, ~cat_features),\n",
    "        ('cat', categorical_transformer, cat_features)\n",
    "    ])\n",
    "\n",
    "rf_clf = RandomForestClassifier(criterion='entropy', max_features=None,\n",
    "                       min_samples_leaf=7, n_estimators=18, n_jobs=1,\n",
    "                       random_state=3, verbose=False)\n",
    "\n",
    "ohe_pipe = make_pipeline(preprocessor,PCA(n_components=2),SelectKBest(k='all'),rf_clf)\n",
    "#ohe_pipe = make_pipeline(preprocessor,PCA(SelectKBest(k='all'),rf_clf))\n",
    "\n",
    "#ohe_pipe = make_pipeline(ct,SelectKBest(k=10), rf_clf)\n",
    "scores = cross_val_score(ohe_pipe, X_train, y_train, cv=5, scoring=\"accuracy\")\n",
    "\n",
    "print(ohe_pipe)\n",
    "\n",
    "#cross_val_score(ohe_pipe, X_train, y_train)\n",
    "\n",
    "#fit\n",
    "ohe_pipe.fit(X_train, y_train)\n",
    "\n",
    "#predict\n",
    "y_pred=ohe_pipe.predict(X_test)\n",
    "\n",
    "#Evaluate\n",
    "print(\"Training score:\", ohe_pipe.score(X_train, y_train))\n",
    "print('Test score: ',ohe_pipe.score(X_test, y_test))\n",
    "\n",
    "#print('Testing accuracy',accuracy_score(y_test,ypipe))\n",
    "print('classification_report',classification_report(y_test,y_pred))\n",
    "print('Confusion Matrix\\n',confusion_matrix(y_test,y_pred))\n",
    "print(\"Cross validation score: %.3f\" % mean(scores))\n",
    "print(\"ROC AUC Score: %.3f\" % roc_auc_score(y_test, y_pred))\n",
    "print(\"roc auc score: %.3f\" % roc_auc_score(y_test, y_pred, average='macro'))\n",
    "print('\\nIs this model predicting on [0],[1] or [0,1]? ', np.unique(y_pred))"
   ]
  },
  {
   "cell_type": "code",
   "execution_count": 91,
   "metadata": {
    "id": "7NQTDAzpzRCB"
   },
   "outputs": [
    {
     "data": {
      "text/html": [
       "<style>div.sk-top-container {color: black;background-color: white;}div.sk-toggleable {background-color: white;}label.sk-toggleable__label {cursor: pointer;display: block;width: 100%;margin-bottom: 0;padding: 0.2em 0.3em;box-sizing: border-box;text-align: center;}div.sk-toggleable__content {max-height: 0;max-width: 0;overflow: hidden;text-align: left;background-color: #f0f8ff;}div.sk-toggleable__content pre {margin: 0.2em;color: black;border-radius: 0.25em;background-color: #f0f8ff;}input.sk-toggleable__control:checked~div.sk-toggleable__content {max-height: 200px;max-width: 100%;overflow: auto;}div.sk-estimator input.sk-toggleable__control:checked~label.sk-toggleable__label {background-color: #d4ebff;}div.sk-label input.sk-toggleable__control:checked~label.sk-toggleable__label {background-color: #d4ebff;}input.sk-hidden--visually {border: 0;clip: rect(1px 1px 1px 1px);clip: rect(1px, 1px, 1px, 1px);height: 1px;margin: -1px;overflow: hidden;padding: 0;position: absolute;width: 1px;}div.sk-estimator {font-family: monospace;background-color: #f0f8ff;margin: 0.25em 0.25em;border: 1px dotted black;border-radius: 0.25em;box-sizing: border-box;}div.sk-estimator:hover {background-color: #d4ebff;}div.sk-parallel-item::after {content: \"\";width: 100%;border-bottom: 1px solid gray;flex-grow: 1;}div.sk-label:hover label.sk-toggleable__label {background-color: #d4ebff;}div.sk-serial::before {content: \"\";position: absolute;border-left: 1px solid gray;box-sizing: border-box;top: 2em;bottom: 0;left: 50%;}div.sk-serial {display: flex;flex-direction: column;align-items: center;background-color: white;}div.sk-item {z-index: 1;}div.sk-parallel {display: flex;align-items: stretch;justify-content: center;background-color: white;}div.sk-parallel-item {display: flex;flex-direction: column;position: relative;background-color: white;}div.sk-parallel-item:first-child::after {align-self: flex-end;width: 50%;}div.sk-parallel-item:last-child::after {align-self: flex-start;width: 50%;}div.sk-parallel-item:only-child::after {width: 0;}div.sk-dashed-wrapped {border: 1px dashed gray;margin: 0.2em;box-sizing: border-box;padding-bottom: 0.1em;background-color: white;position: relative;}div.sk-label label {font-family: monospace;font-weight: bold;background-color: white;display: inline-block;line-height: 1.2em;}div.sk-label-container {position: relative;z-index: 2;text-align: center;}div.sk-container {display: inline-block;position: relative;}</style><div class=\"sk-top-container\"><div class=\"sk-container\"><div class=\"sk-item sk-dashed-wrapped\"><div class=\"sk-label-container\"><div class=\"sk-label sk-toggleable\"><input class=\"sk-toggleable__control sk-hidden--visually\" id=\"0b19de3a-99e6-43cc-b066-bff220f6fb24\" type=\"checkbox\" ><label class=\"sk-toggleable__label\" for=\"0b19de3a-99e6-43cc-b066-bff220f6fb24\">Pipeline</label><div class=\"sk-toggleable__content\"><pre>Pipeline(steps=[('columntransformer',\n",
       "                 ColumnTransformer(transformers=[('num',\n",
       "                                                  Pipeline(steps=[('imputer',\n",
       "                                                                   SimpleImputer(strategy='median')),\n",
       "                                                                  ('scaler',\n",
       "                                                                   StandardScaler())]),\n",
       "                                                  weekday                          False\n",
       "month                            False\n",
       "depression                        True\n",
       "sex                               True\n",
       "ethnic_group_c                    True\n",
       "insurance_provider               False\n",
       "icu_yn                            True\n",
       "tobacco_user                     False\n",
       "drugabuse                         True\n",
       "mooddisorder                      True\n",
       "diabetes                          True\n",
       "anxiety                           True\n",
       "obesity                           True\n",
       "dementia                          T...\n",
       "los                              False\n",
       "LACE_Score                       False\n",
       "APRDRG                           False\n",
       "care_plan_following_discharge     True\n",
       "cost_of_initial_stay             False\n",
       "care_plan_costs                  False\n",
       "dtype: bool)])),\n",
       "                ('pca', PCA(n_components=2)),\n",
       "                ('selectkbest', SelectKBest(k='all')),\n",
       "                ('randomforestclassifier',\n",
       "                 RandomForestClassifier(criterion='entropy', max_features=None,\n",
       "                                        min_samples_leaf=7, n_estimators=18,\n",
       "                                        n_jobs=1, random_state=3,\n",
       "                                        verbose=False))])</pre></div></div></div><div class=\"sk-serial\"><div class=\"sk-item sk-dashed-wrapped\"><div class=\"sk-label-container\"><div class=\"sk-label sk-toggleable\"><input class=\"sk-toggleable__control sk-hidden--visually\" id=\"d4d31f41-7b7e-4217-8521-97a3d549c8b8\" type=\"checkbox\" ><label class=\"sk-toggleable__label\" for=\"d4d31f41-7b7e-4217-8521-97a3d549c8b8\">columntransformer: ColumnTransformer</label><div class=\"sk-toggleable__content\"><pre>ColumnTransformer(transformers=[('num',\n",
       "                                 Pipeline(steps=[('imputer',\n",
       "                                                  SimpleImputer(strategy='median')),\n",
       "                                                 ('scaler', StandardScaler())]),\n",
       "                                 weekday                          False\n",
       "month                            False\n",
       "depression                        True\n",
       "sex                               True\n",
       "ethnic_group_c                    True\n",
       "insurance_provider               False\n",
       "icu_yn                            True\n",
       "tobacco_user                     False\n",
       "drugabuse                         True\n",
       "mooddisorder                      True\n",
       "diabetes                          True\n",
       "anxiety                           True\n",
       "obesity                           True\n",
       "dementia                          True\n",
       "persmentaldis                     True\n",
       "age                               True\n",
       "bmi                               True\n",
       "bp_...\n",
       "meds_endocrine                   False\n",
       "meds_respiratory                 False\n",
       "meds_topical                     False\n",
       "meds_biological                  False\n",
       "meds_misc                        False\n",
       "meds_genitourinary               False\n",
       "calcium                          False\n",
       "creatinine                       False\n",
       "glucose                          False\n",
       "wbc                              False\n",
       "potassium                        False\n",
       "sodium                           False\n",
       "artbloodgas                      False\n",
       "hemoglobin                       False\n",
       "chest_tube                       False\n",
       "vent                             False\n",
       "los                              False\n",
       "LACE_Score                       False\n",
       "APRDRG                           False\n",
       "care_plan_following_discharge     True\n",
       "cost_of_initial_stay             False\n",
       "care_plan_costs                  False\n",
       "dtype: bool)])</pre></div></div></div><div class=\"sk-parallel\"><div class=\"sk-parallel-item\"><div class=\"sk-item\"><div class=\"sk-label-container\"><div class=\"sk-label sk-toggleable\"><input class=\"sk-toggleable__control sk-hidden--visually\" id=\"1b7eebf2-3bee-488d-b22e-7faea21a73ea\" type=\"checkbox\" ><label class=\"sk-toggleable__label\" for=\"1b7eebf2-3bee-488d-b22e-7faea21a73ea\">num</label><div class=\"sk-toggleable__content\"><pre>weekday                          False\n",
       "month                            False\n",
       "depression                        True\n",
       "sex                               True\n",
       "ethnic_group_c                    True\n",
       "insurance_provider               False\n",
       "icu_yn                            True\n",
       "tobacco_user                     False\n",
       "drugabuse                         True\n",
       "mooddisorder                      True\n",
       "diabetes                          True\n",
       "anxiety                           True\n",
       "obesity                           True\n",
       "dementia                          True\n",
       "persmentaldis                     True\n",
       "age                               True\n",
       "bmi                               True\n",
       "bp_diastolic                      True\n",
       "bp_systolic                       True\n",
       "pulse                             True\n",
       "temperature                       True\n",
       "respirations                      True\n",
       "pat_pain_score_c                  True\n",
       "ed_visits                         True\n",
       "ip_visits                         True\n",
       "chronic_conditions                True\n",
       "meds_cardio_agents                True\n",
       "meds_nutrition                    True\n",
       "meds_central_nervous_system       True\n",
       "meds_hematologial                 True\n",
       "meds_neuromuscular                True\n",
       "meds_gastro                       True\n",
       "meds_infective                    True\n",
       "meds_neoplastic                   True\n",
       "meds_anesthetics                  True\n",
       "meds_endocrine                    True\n",
       "meds_respiratory                  True\n",
       "meds_topical                      True\n",
       "meds_biological                   True\n",
       "meds_misc                         True\n",
       "meds_genitourinary                True\n",
       "calcium                           True\n",
       "creatinine                        True\n",
       "glucose                           True\n",
       "wbc                               True\n",
       "potassium                         True\n",
       "sodium                            True\n",
       "artbloodgas                       True\n",
       "hemoglobin                        True\n",
       "chest_tube                        True\n",
       "vent                              True\n",
       "los                               True\n",
       "LACE_Score                        True\n",
       "APRDRG                            True\n",
       "care_plan_following_discharge    False\n",
       "cost_of_initial_stay              True\n",
       "care_plan_costs                   True\n",
       "dtype: bool</pre></div></div></div><div class=\"sk-serial\"><div class=\"sk-item\"><div class=\"sk-serial\"><div class=\"sk-item\"><div class=\"sk-estimator sk-toggleable\"><input class=\"sk-toggleable__control sk-hidden--visually\" id=\"d92c57a9-676e-4271-9f2f-79b5fe78eac5\" type=\"checkbox\" ><label class=\"sk-toggleable__label\" for=\"d92c57a9-676e-4271-9f2f-79b5fe78eac5\">SimpleImputer</label><div class=\"sk-toggleable__content\"><pre>SimpleImputer(strategy='median')</pre></div></div></div><div class=\"sk-item\"><div class=\"sk-estimator sk-toggleable\"><input class=\"sk-toggleable__control sk-hidden--visually\" id=\"726f8135-7a5a-45e9-94af-b12c2f910678\" type=\"checkbox\" ><label class=\"sk-toggleable__label\" for=\"726f8135-7a5a-45e9-94af-b12c2f910678\">StandardScaler</label><div class=\"sk-toggleable__content\"><pre>StandardScaler()</pre></div></div></div></div></div></div></div></div><div class=\"sk-parallel-item\"><div class=\"sk-item\"><div class=\"sk-label-container\"><div class=\"sk-label sk-toggleable\"><input class=\"sk-toggleable__control sk-hidden--visually\" id=\"3c9662bb-45ab-45de-bcd3-a4a912dc15e1\" type=\"checkbox\" ><label class=\"sk-toggleable__label\" for=\"3c9662bb-45ab-45de-bcd3-a4a912dc15e1\">cat</label><div class=\"sk-toggleable__content\"><pre>weekday                           True\n",
       "month                             True\n",
       "depression                       False\n",
       "sex                              False\n",
       "ethnic_group_c                   False\n",
       "insurance_provider                True\n",
       "icu_yn                           False\n",
       "tobacco_user                      True\n",
       "drugabuse                        False\n",
       "mooddisorder                     False\n",
       "diabetes                         False\n",
       "anxiety                          False\n",
       "obesity                          False\n",
       "dementia                         False\n",
       "persmentaldis                    False\n",
       "age                              False\n",
       "bmi                              False\n",
       "bp_diastolic                     False\n",
       "bp_systolic                      False\n",
       "pulse                            False\n",
       "temperature                      False\n",
       "respirations                     False\n",
       "pat_pain_score_c                 False\n",
       "ed_visits                        False\n",
       "ip_visits                        False\n",
       "chronic_conditions               False\n",
       "meds_cardio_agents               False\n",
       "meds_nutrition                   False\n",
       "meds_central_nervous_system      False\n",
       "meds_hematologial                False\n",
       "meds_neuromuscular               False\n",
       "meds_gastro                      False\n",
       "meds_infective                   False\n",
       "meds_neoplastic                  False\n",
       "meds_anesthetics                 False\n",
       "meds_endocrine                   False\n",
       "meds_respiratory                 False\n",
       "meds_topical                     False\n",
       "meds_biological                  False\n",
       "meds_misc                        False\n",
       "meds_genitourinary               False\n",
       "calcium                          False\n",
       "creatinine                       False\n",
       "glucose                          False\n",
       "wbc                              False\n",
       "potassium                        False\n",
       "sodium                           False\n",
       "artbloodgas                      False\n",
       "hemoglobin                       False\n",
       "chest_tube                       False\n",
       "vent                             False\n",
       "los                              False\n",
       "LACE_Score                       False\n",
       "APRDRG                           False\n",
       "care_plan_following_discharge     True\n",
       "cost_of_initial_stay             False\n",
       "care_plan_costs                  False\n",
       "dtype: bool</pre></div></div></div><div class=\"sk-serial\"><div class=\"sk-item\"><div class=\"sk-serial\"><div class=\"sk-item\"><div class=\"sk-estimator sk-toggleable\"><input class=\"sk-toggleable__control sk-hidden--visually\" id=\"f5a4bbc8-9b2a-45a4-a850-976fd270da6a\" type=\"checkbox\" ><label class=\"sk-toggleable__label\" for=\"f5a4bbc8-9b2a-45a4-a850-976fd270da6a\">SimpleImputer</label><div class=\"sk-toggleable__content\"><pre>SimpleImputer(strategy='most_frequent')</pre></div></div></div><div class=\"sk-item\"><div class=\"sk-estimator sk-toggleable\"><input class=\"sk-toggleable__control sk-hidden--visually\" id=\"597fa8ba-7611-4695-a9a6-c606c8572aa5\" type=\"checkbox\" ><label class=\"sk-toggleable__label\" for=\"597fa8ba-7611-4695-a9a6-c606c8572aa5\">OneHotEncoder</label><div class=\"sk-toggleable__content\"><pre>OneHotEncoder(handle_unknown='ignore')</pre></div></div></div></div></div></div></div></div></div></div><div class=\"sk-item\"><div class=\"sk-estimator sk-toggleable\"><input class=\"sk-toggleable__control sk-hidden--visually\" id=\"db0c97fc-f4a2-418e-aa89-51e4c0e080e9\" type=\"checkbox\" ><label class=\"sk-toggleable__label\" for=\"db0c97fc-f4a2-418e-aa89-51e4c0e080e9\">PCA</label><div class=\"sk-toggleable__content\"><pre>PCA(n_components=2)</pre></div></div></div><div class=\"sk-item\"><div class=\"sk-estimator sk-toggleable\"><input class=\"sk-toggleable__control sk-hidden--visually\" id=\"46b5a6db-32f9-41bb-87cd-a0cacb87da59\" type=\"checkbox\" ><label class=\"sk-toggleable__label\" for=\"46b5a6db-32f9-41bb-87cd-a0cacb87da59\">SelectKBest</label><div class=\"sk-toggleable__content\"><pre>SelectKBest(k='all')</pre></div></div></div><div class=\"sk-item\"><div class=\"sk-estimator sk-toggleable\"><input class=\"sk-toggleable__control sk-hidden--visually\" id=\"13e441eb-5b10-4c85-9b1b-ce2a1efff045\" type=\"checkbox\" ><label class=\"sk-toggleable__label\" for=\"13e441eb-5b10-4c85-9b1b-ce2a1efff045\">RandomForestClassifier</label><div class=\"sk-toggleable__content\"><pre>RandomForestClassifier(criterion='entropy', max_features=None,\n",
       "                       min_samples_leaf=7, n_estimators=18, n_jobs=1,\n",
       "                       random_state=3, verbose=False)</pre></div></div></div></div></div></div></div>"
      ],
      "text/plain": [
       "Pipeline(steps=[('columntransformer',\n",
       "                 ColumnTransformer(transformers=[('num',\n",
       "                                                  Pipeline(steps=[('imputer',\n",
       "                                                                   SimpleImputer(strategy='median')),\n",
       "                                                                  ('scaler',\n",
       "                                                                   StandardScaler())]),\n",
       "                                                  weekday                          False\n",
       "month                            False\n",
       "depression                        True\n",
       "sex                               True\n",
       "ethnic_group_c                    True\n",
       "insurance_provider               False\n",
       "icu_yn                            True\n",
       "tobacco_user                     False\n",
       "drugabuse                         True\n",
       "mooddisorder                      True\n",
       "diabetes                          True\n",
       "anxiety                           True\n",
       "obesity                           True\n",
       "dementia                          T...\n",
       "los                              False\n",
       "LACE_Score                       False\n",
       "APRDRG                           False\n",
       "care_plan_following_discharge     True\n",
       "cost_of_initial_stay             False\n",
       "care_plan_costs                  False\n",
       "dtype: bool)])),\n",
       "                ('pca', PCA(n_components=2)),\n",
       "                ('selectkbest', SelectKBest(k='all')),\n",
       "                ('randomforestclassifier',\n",
       "                 RandomForestClassifier(criterion='entropy', max_features=None,\n",
       "                                        min_samples_leaf=7, n_estimators=18,\n",
       "                                        n_jobs=1, random_state=3,\n",
       "                                        verbose=False))])"
      ]
     },
     "execution_count": 91,
     "metadata": {},
     "output_type": "execute_result"
    }
   ],
   "source": [
    "from sklearn import set_config\n",
    "set_config(display = 'diagram')\n",
    "ohe_pipe"
   ]
  },
  {
   "cell_type": "code",
   "execution_count": null,
   "metadata": {
    "id": "1w-SfOWza86A"
   },
   "outputs": [],
   "source": []
  }
 ],
 "metadata": {
  "accelerator": "TPU",
  "colab": {
   "collapsed_sections": [],
   "name": "PCCICLient__Project_11142020v2.1.ipynb",
   "provenance": []
  },
  "kernelspec": {
   "display_name": "Python 3",
   "language": "python",
   "name": "python3"
  },
  "language_info": {
   "codemirror_mode": {
    "name": "ipython",
    "version": 3
   },
   "file_extension": ".py",
   "mimetype": "text/x-python",
   "name": "python",
   "nbconvert_exporter": "python",
   "pygments_lexer": "ipython3",
   "version": "3.7.8"
  }
 },
 "nbformat": 4,
 "nbformat_minor": 1
}
